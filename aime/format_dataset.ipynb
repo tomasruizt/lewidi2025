{
 "cells": [
  {
   "cell_type": "code",
   "execution_count": null,
   "id": "c6c9d4f4",
   "metadata": {},
   "outputs": [],
   "source": [
    "from datasets import load_dataset\n",
    "\n",
    "dataset = load_dataset(\"gneubig/aime-1983-2024\")"
   ]
  },
  {
   "cell_type": "code",
   "execution_count": null,
   "id": "7f075cf6",
   "metadata": {},
   "outputs": [],
   "source": [
    "formatted_df = dataset[\"train\"].to_pandas()\n",
    "formatted_df"
   ]
  },
  {
   "cell_type": "code",
   "execution_count": null,
   "id": "0353e654",
   "metadata": {},
   "outputs": [],
   "source": [
    "lewidi_dataset = {}\n",
    "for row in formatted_df.itertuples():\n",
    "    lewidi_dataset[row.ID] = {\n",
    "        \"text\": row.Question,\n",
    "        \"target\": row.Answer,\n",
    "    }\n",
    "lewidi_dataset"
   ]
  },
  {
   "cell_type": "code",
   "execution_count": null,
   "id": "45421c66",
   "metadata": {},
   "outputs": [],
   "source": [
    "import json\n",
    "\n",
    "with open(\"aime_train.json\", \"w\") as f:\n",
    "    json.dump(lewidi_dataset, f, indent=2)"
   ]
  }
 ],
 "metadata": {
  "kernelspec": {
   "display_name": "venv",
   "language": "python",
   "name": "python3"
  },
  "language_info": {
   "codemirror_mode": {
    "name": "ipython",
    "version": 3
   },
   "file_extension": ".py",
   "mimetype": "text/x-python",
   "name": "python",
   "nbconvert_exporter": "python",
   "pygments_lexer": "ipython3",
   "version": "3.12.4"
  }
 },
 "nbformat": 4,
 "nbformat_minor": 5
}
