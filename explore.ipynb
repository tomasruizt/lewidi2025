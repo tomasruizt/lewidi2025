{
 "cells": [
  {
   "cell_type": "code",
   "execution_count": null,
   "metadata": {},
   "outputs": [],
   "source": [
    "%load_ext autoreload\n",
    "%autoreload 2"
   ]
  },
  {
   "cell_type": "code",
   "execution_count": 2,
   "metadata": {},
   "outputs": [],
   "source": [
    "import pandas as pd"
   ]
  },
  {
   "cell_type": "code",
   "execution_count": null,
   "metadata": {},
   "outputs": [],
   "source": [
    "from lewidi_lib.src.funcs import load_dataset, enable_logging\n",
    "\n",
    "enable_logging()\n",
    "\n",
    "ddf = load_dataset(dataset_name=\"CSC\")\n",
    "ddf = ddf.assign(request_idx=range(len(ddf)))\n",
    "ddf.head(2)"
   ]
  },
  {
   "cell_type": "code",
   "execution_count": null,
   "metadata": {},
   "outputs": [],
   "source": [
    "import logging\n",
    "\n",
    "logger = logging.getLogger(__name__)\n",
    "\n",
    "rdf = pd.read_json(\"responses.jsonl\", lines=True)\n",
    "are_na = len(rdf.query(\"response.isna()\"))\n",
    "logger.info(\"Number of responses that are NA: %d\", are_na)\n",
    "rdf.query(\"~response.isna()\", inplace=True)\n",
    "rdf[\"response\"] = rdf[\"response\"].str.strip()\n",
    "\n",
    "too_long = rdf.query(\"response.str.len() > 1\")\n",
    "logger.info(\"Number of responses that are too long: %d\", len(too_long))\n",
    "rdf.query(\"response.str.len() <= 1\", inplace=True)\n",
    "rdf.head(2)"
   ]
  }
 ],
 "metadata": {
  "kernelspec": {
   "display_name": "venv",
   "language": "python",
   "name": "python3"
  },
  "language_info": {
   "codemirror_mode": {
    "name": "ipython",
    "version": 3
   },
   "file_extension": ".py",
   "mimetype": "text/x-python",
   "name": "python",
   "nbconvert_exporter": "python",
   "pygments_lexer": "ipython3",
   "version": "3.11.9"
  }
 },
 "nbformat": 4,
 "nbformat_minor": 2
}
