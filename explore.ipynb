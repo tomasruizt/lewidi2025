{
 "cells": [
  {
   "cell_type": "code",
   "execution_count": null,
   "metadata": {},
   "outputs": [],
   "source": [
    "%load_ext autoreload\n",
    "%autoreload 2"
   ]
  },
  {
   "cell_type": "code",
   "execution_count": 61,
   "metadata": {},
   "outputs": [],
   "source": [
    "import pandas as pd\n",
    "import numpy as np\n",
    "\n",
    "\n",
    "def soft_label_to_nparray(d: dict) -> np.ndarray:\n",
    "    array = np.zeros(6)\n",
    "    for k, v in d.items():\n",
    "        try:\n",
    "            array[int(k) - 1] = v\n",
    "        except ValueError:\n",
    "            logger.warning(\"Invalid key: %s\", k)\n",
    "            return pd.NA\n",
    "    return array\n"
   ]
  },
  {
   "cell_type": "code",
   "execution_count": null,
   "metadata": {},
   "outputs": [],
   "source": [
    "from lewidi_lib.src.funcs import load_dataset, enable_logging\n",
    "\n",
    "enable_logging()\n",
    "\n",
    "ddf = load_dataset(dataset_name=\"CSC\")\n",
    "ddf = ddf.assign(request_idx=range(len(ddf)))\n",
    "ddf[\"target\"] = ddf[\"soft_label\"].apply(soft_label_to_nparray)\n",
    "print(len(ddf))\n",
    "ddf.head(2)"
   ]
  },
  {
   "cell_type": "code",
   "execution_count": null,
   "metadata": {},
   "outputs": [],
   "source": [
    "import logging\n",
    "\n",
    "logger = logging.getLogger(__name__)\n",
    "\n",
    "rdf = pd.read_json(\"responses.jsonl\", lines=True)\n",
    "are_na = len(rdf.query(\"response.isna()\"))\n",
    "logger.info(\"Number of responses that are NA: %d\", are_na)\n",
    "rdf.query(\"~response.isna()\", inplace=True)\n",
    "rdf[\"response\"] = rdf[\"response\"].str.strip()\n",
    "rdf.head(2)"
   ]
  },
  {
   "cell_type": "code",
   "execution_count": null,
   "metadata": {},
   "outputs": [],
   "source": [
    "import json_repair\n",
    "\n",
    "rdf[\"pred\"] = rdf[\"response\"].apply(json_repair.loads).apply(soft_label_to_nparray)\n",
    "logger.info(\"Dropping %d NA predictions\", len(rdf.query(\"pred.isna()\")))\n",
    "rdf.query(\"~pred.isna()\", inplace=True)\n",
    "\n",
    "rdf[\"pred_sum\"] = rdf[\"pred\"].apply(lambda x: x.sum())\n",
    "rdf[\"is_valid_pred\"] = (rdf[\"pred_sum\"] - 1).abs() < 0.01\n",
    "rdf[\"reasoning_isnull\"] = rdf[\"reasoning\"].isna()\n",
    "\n",
    "# Add columns indicating if the run has reasoning\n",
    "reasoning_by_run = rdf.groupby(\"run_id\", as_index=False).agg(\n",
    "    is_reasoning=(\"reasoning_isnull\", lambda x: ~x.max())\n",
    ")\n",
    "rdf = rdf.merge(reasoning_by_run, on=\"run_id\", how=\"left\").drop(\n",
    "    columns=[\"reasoning_isnull\"]\n",
    ")\n",
    "rdf.head(2)"
   ]
  },
  {
   "cell_type": "code",
   "execution_count": null,
   "metadata": {},
   "outputs": [],
   "source": [
    "run_info = rdf.groupby(\"run_id\").agg({\"is_valid_pred\": \"mean\"}).merge(\n",
    "    reasoning_by_run, on=\"run_id\", how=\"left\"\n",
    ")\n",
    "run_info"
   ]
  },
  {
   "cell_type": "code",
   "execution_count": null,
   "metadata": {},
   "outputs": [],
   "source": [
    "logger.info(\n",
    "    \"Dropping %d predictions that don't sum to 1\", len(rdf.query(\"~is_valid_pred\"))\n",
    ")\n",
    "rdf.query(\"is_valid_pred\", inplace=True)"
   ]
  },
  {
   "cell_type": "code",
   "execution_count": null,
   "metadata": {},
   "outputs": [],
   "source": [
    "joint_df = pd.merge(\n",
    "    ddf[[\"request_idx\", \"target\"]],\n",
    "    rdf,\n",
    "    on=\"request_idx\",\n",
    ")\n",
    "joint_df.head(2)"
   ]
  },
  {
   "cell_type": "code",
   "execution_count": 79,
   "metadata": {},
   "outputs": [],
   "source": [
    "import scipy\n",
    "\n",
    "\n",
    "def l0_loss(tgt: np.ndarray, pred: np.ndarray) -> float:\n",
    "    return np.abs(tgt - pred).sum()\n",
    "\n",
    "\n",
    "def ws_loss(tgt: np.ndarray, pred: np.ndarray) -> float:\n",
    "    \"\"\"wasserstein distance between two distributions https://stackoverflow.com/a/76061410/5730291\"\"\"\n",
    "    return scipy.stats.wasserstein_distance(range(6), range(6), tgt, pred)\n",
    "\n",
    "\n",
    "joint_df[\"l0_loss\"] = joint_df.apply(\n",
    "    lambda row: l0_loss(row[\"target\"], row[\"pred\"]), axis=1\n",
    ")\n",
    "joint_df[\"ws_loss\"] = joint_df.apply(\n",
    "    lambda row: ws_loss(row[\"target\"], row[\"pred\"]), axis=1\n",
    ")"
   ]
  }
 ],
 "metadata": {
  "kernelspec": {
   "display_name": "venv",
   "language": "python",
   "name": "python3"
  },
  "language_info": {
   "codemirror_mode": {
    "name": "ipython",
    "version": 3
   },
   "file_extension": ".py",
   "mimetype": "text/x-python",
   "name": "python",
   "nbconvert_exporter": "python",
   "pygments_lexer": "ipython3",
   "version": "3.11.9"
  }
 },
 "nbformat": 4,
 "nbformat_minor": 2
}
