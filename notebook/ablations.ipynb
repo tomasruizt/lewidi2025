{
 "cells": [
  {
   "cell_type": "code",
   "execution_count": null,
   "id": "5a3e6279",
   "metadata": {},
   "outputs": [],
   "source": [
    "%load_ext autoreload\n",
    "%autoreload 2\n",
    "from lewidi_lib import enable_logging\n",
    "\n",
    "enable_logging()"
   ]
  },
  {
   "cell_type": "code",
   "execution_count": null,
   "id": "2e047c8c",
   "metadata": {},
   "outputs": [],
   "source": [
    "from lewidi_lib import list_preds\n",
    "import pandas as pd\n",
    "\n",
    "preds_files_df = list_preds().query(\n",
    "    \"model_id.str.contains('32B') and template_id.isin(['3', '32']) and run_name == 'allex_10loops' and split=='train'\"\n",
    ")\n",
    "preds_files_df"
   ]
  },
  {
   "cell_type": "code",
   "execution_count": null,
   "id": "35526602",
   "metadata": {},
   "outputs": [],
   "source": [
    "files = preds_files_df[\"preds_file\"]\n",
    "rdf = pd.concat([pd.read_parquet(f) for f in files])"
   ]
  }
 ],
 "metadata": {
  "kernelspec": {
   "display_name": "venv",
   "language": "python",
   "name": "python3"
  },
  "language_info": {
   "codemirror_mode": {
    "name": "ipython",
    "version": 3
   },
   "file_extension": ".py",
   "mimetype": "text/x-python",
   "name": "python",
   "nbconvert_exporter": "python",
   "pygments_lexer": "ipython3",
   "version": "3.11.9"
  }
 },
 "nbformat": 4,
 "nbformat_minor": 5
}
