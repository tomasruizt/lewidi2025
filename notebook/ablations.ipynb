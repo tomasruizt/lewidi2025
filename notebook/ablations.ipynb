{
 "cells": [
  {
   "cell_type": "code",
   "execution_count": null,
   "id": "5a3e6279",
   "metadata": {},
   "outputs": [],
   "source": [
    "%load_ext autoreload\n",
    "%autoreload 2\n",
    "from lewidi_lib import enable_logging\n",
    "\n",
    "enable_logging()"
   ]
  },
  {
   "cell_type": "markdown",
   "id": "4c0742bd",
   "metadata": {},
   "source": [
    "# Remove Dictionary Definition\n",
    "Applies to CSC and MP. Means comparing 32B on templates 31 (includes def) and 32"
   ]
  },
  {
   "cell_type": "code",
   "execution_count": null,
   "id": "52ead33b",
   "metadata": {},
   "outputs": [],
   "source": [
    "import duckdb\n",
    "from lewidi_lib import preds_file, list_preds\n",
    "\n",
    "preds_fdf = list_preds().query(\n",
    "    \"dataset in ['CSC', 'MP'] and model_id.str.contains('32B') and template_id.isin(['31', '32']) and run_name == 'allex_10loops' and split=='train'\"\n",
    ")\n",
    "rdf = duckdb.sql(\n",
    "    f\"SELECT * FROM read_parquet({[str(f) for f in preds_fdf['preds_file']]})\"\n",
    ").df()"
   ]
  },
  {
   "cell_type": "code",
   "execution_count": null,
   "id": "fd3fd8f6",
   "metadata": {},
   "outputs": [],
   "source": [
    "from lewidi_lib import process_rdf_and_add_perf_metrics\n",
    "\n",
    "joint_df = process_rdf_and_add_perf_metrics(rdf, discard_invalid_pred=True)"
   ]
  },
  {
   "cell_type": "code",
   "execution_count": null,
   "id": "ede37b0f",
   "metadata": {},
   "outputs": [],
   "source": [
    "joint_df.groupby([\"dataset\", \"template_id\"]).size()"
   ]
  },
  {
   "cell_type": "code",
   "execution_count": null,
   "id": "b5e6ed15",
   "metadata": {},
   "outputs": [],
   "source": [
    "joint_df.groupby([\"dataset\", \"template_id\"])[\"ws_loss\"].mean()"
   ]
  },
  {
   "cell_type": "code",
   "execution_count": null,
   "id": "13497bb1",
   "metadata": {},
   "outputs": [],
   "source": [
    "from lewidi_lib import bootstrap_avg\n",
    "\n",
    "\n",
    "cis = joint_df.groupby([\"dataset\", \"template_id\"])[\"ws_loss\"].agg(\n",
    "    lambda xs: bootstrap_avg(xs, method=\"basic\", batch=1000)\n",
    ")"
   ]
  },
  {
   "cell_type": "code",
   "execution_count": null,
   "id": "5f76d2d7",
   "metadata": {},
   "outputs": [],
   "source": [
    "export_df = pd.concat(\n",
    "    [\n",
    "        cis.reset_index(),\n",
    "        pd.json_normalize(cis.reset_index()[\"ws_loss\"].apply(lambda x: x.to_dict())),\n",
    "    ],\n",
    "    axis=1,\n",
    ").round(3)\n",
    "export_df.to_csv(\"tables/ablation-rm-def.csv\", index=False)"
   ]
  },
  {
   "cell_type": "markdown",
   "id": "ea15b8ce",
   "metadata": {},
   "source": [
    "# Remove Perspectivist Prompt\n",
    "Applies to all datasets. Compares 32B on templates 31 (includes perspectivist prompt) and 3 (no perspectivist prompt)."
   ]
  },
  {
   "cell_type": "code",
   "execution_count": null,
   "id": "2e047c8c",
   "metadata": {},
   "outputs": [],
   "source": [
    "from lewidi_lib import list_preds\n",
    "import pandas as pd\n",
    "\n",
    "preds_files_df = list_preds().query(\n",
    "    \"model_id.str.contains('32B') and template_id.isin(['31', '3']) and run_name == 'allex_10loops' and split=='train'\"\n",
    ")\n",
    "preds_files_df"
   ]
  },
  {
   "cell_type": "code",
   "execution_count": null,
   "id": "35526602",
   "metadata": {},
   "outputs": [],
   "source": [
    "rdf = duckdb.sql(\n",
    "    f\"SELECT * FROM read_parquet({[str(f) for f in preds_files_df['preds_file']]})\"\n",
    ").df()\n",
    "joint_df = process_rdf_and_add_perf_metrics(rdf, discard_invalid_pred=True)"
   ]
  },
  {
   "cell_type": "code",
   "execution_count": null,
   "id": "9e79dc89",
   "metadata": {},
   "outputs": [],
   "source": [
    "cis = joint_df.groupby([\"dataset\", \"template_id\"])[\"ws_loss\"].agg(\n",
    "    lambda xs: bootstrap_avg(xs, method=\"basic\", batch=1000)\n",
    ")"
   ]
  },
  {
   "cell_type": "code",
   "execution_count": null,
   "id": "f18c9b6d",
   "metadata": {},
   "outputs": [],
   "source": [
    "export_df = pd.concat(\n",
    "    [\n",
    "        cis.reset_index(),\n",
    "        pd.json_normalize(cis.reset_index()[\"ws_loss\"].apply(lambda x: x.to_dict())),\n",
    "    ],\n",
    "    axis=1,\n",
    ").round(3)\n",
    "export_df.to_csv(\"tables/ablation-rm-perspectivist-prompt.csv\", index=False)"
   ]
  }
 ],
 "metadata": {
  "kernelspec": {
   "display_name": "venv",
   "language": "python",
   "name": "python3"
  },
  "language_info": {
   "codemirror_mode": {
    "name": "ipython",
    "version": 3
   },
   "file_extension": ".py",
   "mimetype": "text/x-python",
   "name": "python",
   "nbconvert_exporter": "python",
   "pygments_lexer": "ipython3",
   "version": "3.12.4"
  }
 },
 "nbformat": 4,
 "nbformat_minor": 5
}
