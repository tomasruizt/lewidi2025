{
 "cells": [
  {
   "cell_type": "code",
   "execution_count": 1,
   "metadata": {},
   "outputs": [],
   "source": [
    "import pandas as pd"
   ]
  },
  {
   "cell_type": "code",
   "execution_count": 2,
   "metadata": {},
   "outputs": [],
   "source": [
    "df = pd.concat(\n",
    "    [\n",
    "        pd.read_json(\"./responses-chunked-prefill.jsonl\", lines=True).assign(\n",
    "            chunked_prefill=True\n",
    "        ),\n",
    "        pd.read_json(\"./responses-no-chunked-prefill.jsonl\", lines=True).assign(\n",
    "            chunked_prefill=False\n",
    "        ),\n",
    "    ]\n",
    ")"
   ]
  },
  {
   "cell_type": "code",
   "execution_count": 3,
   "metadata": {},
   "outputs": [],
   "source": [
    "df[\"delay\"] = pd.to_datetime(df[\"timestamp\"]) - pd.to_datetime(df[\"run_start\"])\n",
    "df[\"delay\"] = df[\"delay\"].dt.total_seconds()"
   ]
  },
  {
   "cell_type": "code",
   "execution_count": null,
   "metadata": {},
   "outputs": [],
   "source": [
    "df.groupby([\"chunked_prefill\", \"run_id\"])[\"delay\"].last()"
   ]
  },
  {
   "cell_type": "code",
   "execution_count": 10,
   "metadata": {},
   "outputs": [],
   "source": [
    "import duckdb\n",
    "\n",
    "\n",
    "con = duckdb.connect()"
   ]
  },
  {
   "cell_type": "code",
   "execution_count": 11,
   "metadata": {},
   "outputs": [],
   "source": [
    "df = con.sql(\"SELECT *, ROW_NUMBER() OVER (PARTITION BY run_id ORDER BY timestamp ASC) as run_idx FROM df\").df()"
   ]
  },
  {
   "cell_type": "code",
   "execution_count": null,
   "metadata": {},
   "outputs": [],
   "source": [
    "import seaborn as sns\n",
    "\n",
    "sns.lineplot(\n",
    "    df,\n",
    "    x=\"run_idx\",\n",
    "    y=\"delay\",\n",
    "    hue=\"chunked_prefill\",\n",
    "    units=\"run_id\",\n",
    "    estimator=None\n",
    ")"
   ]
  }
 ],
 "metadata": {
  "kernelspec": {
   "display_name": "venv",
   "language": "python",
   "name": "python3"
  },
  "language_info": {
   "codemirror_mode": {
    "name": "ipython",
    "version": 3
   },
   "file_extension": ".py",
   "mimetype": "text/x-python",
   "name": "python",
   "nbconvert_exporter": "python",
   "pygments_lexer": "ipython3",
   "version": "3.11.9"
  }
 },
 "nbformat": 4,
 "nbformat_minor": 2
}
