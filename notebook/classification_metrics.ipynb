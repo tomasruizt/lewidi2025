{
 "cells": [
  {
   "cell_type": "code",
   "execution_count": null,
   "id": "5b3700cd",
   "metadata": {},
   "outputs": [],
   "source": [
    "%load_ext autoreload\n",
    "%autoreload 2\n",
    "from lewidi_lib import configure_pandas_display, enable_logging\n",
    "\n",
    "\n",
    "enable_logging()\n",
    "configure_pandas_display()"
   ]
  },
  {
   "cell_type": "code",
   "execution_count": null,
   "id": "b5839975",
   "metadata": {},
   "outputs": [],
   "source": [
    "from lewidi_lib import (\n",
    "    discard_rows_with_different_pred_and_tgt_lengths,\n",
    "    join_dataset,\n",
    "    load_listof_parquets,\n",
    "    preds_file,\n",
    "    process_rdf,\n",
    ")\n",
    "\n",
    "\n",
    "task = \"perspectivist\"\n",
    "file = preds_file(\n",
    "    dataset=\"MP\",\n",
    "    split=\"train\",\n",
    "    template=\"63\",\n",
    "    model_id=\"Qwen/Qwen3-32B\",\n",
    "    run_name=\"1000ex_10loops\",\n",
    ")\n",
    "assert file.exists()\n",
    "rdf = load_listof_parquets([file])\n",
    "rdf = process_rdf(\n",
    "    rdf, discard_invalid_pred=True, response_contains_steps=True, task=task\n",
    ")\n",
    "joint_df = join_dataset(rdf, task=task)\n",
    "joint_df = discard_rows_with_different_pred_and_tgt_lengths(joint_df)"
   ]
  },
  {
   "cell_type": "code",
   "execution_count": null,
   "id": "43c042f9",
   "metadata": {},
   "outputs": [],
   "source": [
    "import pandas as pd\n",
    "\n",
    "cols = [\"annotator_metadata\", \"pred\", \"target\"]\n",
    "long = joint_df.query(\"run_idx == 1\").explode(cols)[cols].reset_index(drop=True)\n",
    "long = long.astype({\"target\": \"int\", \"pred\": \"int\"})\n",
    "long = long.assign(is_correct=lambda df: df[\"pred\"] == df[\"target\"])\n",
    "json_df = pd.json_normalize(long[\"annotator_metadata\"])\n",
    "long = pd.concat([long, json_df], axis=1)"
   ]
  },
  {
   "cell_type": "code",
   "execution_count": null,
   "id": "e33f9d76",
   "metadata": {},
   "outputs": [],
   "source": [
    "from sklearn.metrics import precision_recall_fscore_support\n",
    "\n",
    "precision, recall, f1, _ = precision_recall_fscore_support(\n",
    "    long[\"target\"], long[\"pred\"], average=\"binary\"\n",
    ")\n",
    "avg_correct = long[\"is_correct\"].mean()\n",
    "print(f\"{precision=:.2f}\")\n",
    "print(f\"{recall=:.2f}\")\n",
    "print(f\"{f1=:.2f}\")\n",
    "print(f\"{avg_correct=:.2f}\")"
   ]
  },
  {
   "cell_type": "code",
   "execution_count": null,
   "id": "afdfef50",
   "metadata": {},
   "outputs": [],
   "source": [
    "long.groupby(\"Gender\")[\"is_correct\"].mean()"
   ]
  },
  {
   "cell_type": "code",
   "execution_count": null,
   "id": "5bb6dbfc",
   "metadata": {},
   "outputs": [],
   "source": [
    "# India has lower correctness levels, almost chance level\n",
    "from lewidi_lib import bootstrap_avg\n",
    "long.groupby(\"Nationality\")[\"is_correct\"].agg(bootstrap_avg)"
   ]
  }
 ],
 "metadata": {
  "kernelspec": {
   "display_name": "venv",
   "language": "python",
   "name": "python3"
  },
  "language_info": {
   "codemirror_mode": {
    "name": "ipython",
    "version": 3
   },
   "file_extension": ".py",
   "mimetype": "text/x-python",
   "name": "python",
   "nbconvert_exporter": "python",
   "pygments_lexer": "ipython3",
   "version": "3.12.4"
  }
 },
 "nbformat": 4,
 "nbformat_minor": 5
}
