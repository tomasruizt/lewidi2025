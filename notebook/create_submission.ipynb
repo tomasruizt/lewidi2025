{
 "cells": [
  {
   "cell_type": "code",
   "execution_count": null,
   "metadata": {},
   "outputs": [],
   "source": [
    "from lewidi_lib import enable_logging, process_rdf, process_rdf_and_add_perf_metrics\n",
    "import pandas as pd\n",
    "\n",
    "enable_logging()\n",
    "\n",
    "file = \"/home/tomasruiz/datasets/dss_home/lewidi-data/sbatch/di38bec/Qwen_Qwen3-32B/set2/t31/CSC/allexs_20loops/preds/cscfull.parquet\"\n",
    "rdf = pd.read_parquet(file)\n",
    "rdf = process_rdf_and_add_perf_metrics(rdf)"
   ]
  },
  {
   "cell_type": "code",
   "execution_count": 17,
   "metadata": {},
   "outputs": [],
   "source": [
    "from lewidi_lib import compute_average_baseline\n",
    "\n",
    "\n",
    "model_avg = compute_average_baseline(rdf)"
   ]
  },
  {
   "cell_type": "code",
   "execution_count": 35,
   "metadata": {},
   "outputs": [],
   "source": [
    "from pathlib import Path\n",
    "\n",
    "\n",
    "tgt_root = Path(\"/home/tomasruiz/datasets/dss_home/lewidi-data/my_submissions\")\n",
    "tgt_file = tgt_root / \"csc_train_soft.tsv\"\n",
    "\n",
    "model_avg[\"target\"] = model_avg[\"target\"].apply(lambda x: x.tolist())\n",
    "model_avg[[\"dataset_idx\", \"target\"]].to_csv(\n",
    "    tgt_file, sep=\"\\t\", index=False, header=False\n",
    ")\n"
   ]
  }
 ],
 "metadata": {
  "kernelspec": {
   "display_name": "venv",
   "language": "python",
   "name": "python3"
  },
  "language_info": {
   "codemirror_mode": {
    "name": "ipython",
    "version": 3
   },
   "file_extension": ".py",
   "mimetype": "text/x-python",
   "name": "python",
   "nbconvert_exporter": "python",
   "pygments_lexer": "ipython3",
   "version": "3.11.9"
  }
 },
 "nbformat": 4,
 "nbformat_minor": 2
}
