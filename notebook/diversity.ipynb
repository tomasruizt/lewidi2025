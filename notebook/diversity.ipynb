{
 "cells": [
  {
   "cell_type": "code",
   "execution_count": null,
   "metadata": {},
   "outputs": [],
   "source": [
    "%load_ext autoreload\n",
    "%autoreload 2"
   ]
  },
  {
   "cell_type": "code",
   "execution_count": null,
   "metadata": {},
   "outputs": [],
   "source": [
    "import duckdb\n",
    "from lewidi_lib import list_preds\n",
    "\n",
    "\n",
    "files = list_preds().query(\n",
    "    \"run_name == 'allex_10loops' and model_id == 'Qwen/Qwen3-32B' and template_id == '31' and split == 'train'\"\n",
    ")\n",
    "rdf = duckdb.sql(\n",
    "    f\"SELECT * FROM read_parquet({[str(f) for f in files.preds_file]})\"\n",
    ").df()"
   ]
  },
  {
   "cell_type": "code",
   "execution_count": null,
   "metadata": {},
   "outputs": [],
   "source": [
    "from lewidi_lib import enable_logging, process_rdf_and_add_perf_metrics\n",
    "\n",
    "enable_logging()\n",
    "rdf = rdf.query(\"run_idx <= 9\")\n",
    "rdf = process_rdf_and_add_perf_metrics(rdf, discard_invalid_pred=True)\n",
    "rdf.drop_duplicates(subset=[\"dataset\", \"dataset_idx\", \"run_idx\"], inplace=True)"
   ]
  },
  {
   "cell_type": "code",
   "execution_count": null,
   "metadata": {},
   "outputs": [],
   "source": [
    "len(rdf)"
   ]
  },
  {
   "cell_type": "code",
   "execution_count": null,
   "metadata": {},
   "outputs": [],
   "source": [
    "from lewidi_lib import avg_pairwise_ws_loss\n",
    "\n",
    "answer_diversity = rdf.groupby([\"dataset\", \"dataset_idx\"], as_index=False).agg(\n",
    "    avg_pairwise_ws_loss=(\"pred\", avg_pairwise_ws_loss),\n",
    "    avg_ws_loss=(\"ws_loss\", \"mean\"),\n",
    ")"
   ]
  },
  {
   "cell_type": "code",
   "execution_count": null,
   "metadata": {},
   "outputs": [],
   "source": [
    "from lewidi_lib import compute_average_baseline_and_assing_perf_metrics\n",
    "\n",
    "model_avg_rdf = compute_average_baseline_and_assing_perf_metrics(rdf)\n",
    "model_avg_rdf = model_avg_rdf[[\"dataset\", \"dataset_idx\", \"ws_loss\"]].rename(\n",
    "    columns={\"ws_loss\": \"model_avg_ws_loss\"}\n",
    ")"
   ]
  },
  {
   "cell_type": "code",
   "execution_count": null,
   "metadata": {},
   "outputs": [],
   "source": [
    "from lewidi_lib import assign_cols_perf_metrics_softlabel\n",
    "\n",
    "oracle = rdf.loc[rdf.groupby([\"dataset\", \"dataset_idx\"])[\"ws_loss\"].idxmin()]\n",
    "oracle = assign_cols_perf_metrics_softlabel(oracle)\n",
    "oracle = oracle[[\"dataset\", \"dataset_idx\", \"ws_loss\"]].rename(\n",
    "    columns={\"ws_loss\": \"oracle_ws_loss\"}\n",
    ")"
   ]
  },
  {
   "cell_type": "code",
   "execution_count": null,
   "metadata": {},
   "outputs": [],
   "source": [
    "from lewidi_lib import diversity\n",
    "\n",
    "div_col = answer_diversity.groupby(\"dataset\")[\"avg_pairwise_ws_loss\"].transform(\n",
    "    diversity\n",
    ")\n",
    "answer_diversity = answer_diversity.assign(diversity=div_col)"
   ]
  },
  {
   "cell_type": "code",
   "execution_count": null,
   "metadata": {},
   "outputs": [],
   "source": [
    "# from lewidi_lib import assign_col_diversity\n",
    "# answer_diversity = assign_col_diversity(answer_diversity)\n",
    "joint = answer_diversity.merge(model_avg_rdf, on=[\"dataset\", \"dataset_idx\"], how=\"left\")\n",
    "joint = joint.merge(oracle, on=[\"dataset\", \"dataset_idx\"], how=\"left\")\n",
    "joint = joint.assign(\n",
    "    model_avg_improvement=lambda df: df[\"avg_ws_loss\"] - df[\"model_avg_ws_loss\"],\n",
    "    oracle_improvement=lambda df: df[\"avg_ws_loss\"] - df[\"oracle_ws_loss\"],\n",
    ")"
   ]
  },
  {
   "cell_type": "code",
   "execution_count": null,
   "metadata": {},
   "outputs": [],
   "source": [
    "from pathlib import Path\n",
    "import seaborn as sns\n",
    "\n",
    "sns.set_context(\"talk\")\n",
    "\n",
    "grid = sns.JointGrid(\n",
    "    data=joint.query(\"dataset == 'CSC'\"),\n",
    "    x=\"avg_pairwise_ws_loss\",\n",
    "    y=\"model_avg_improvement\",\n",
    ")\n",
    "grid.plot_joint(sns.scatterplot, data=joint, alpha=0.2)\n",
    "grid.plot_joint(sns.regplot, scatter=False, lowess=True)\n",
    "grid.plot_marginals(sns.histplot, data=joint)\n",
    "grid.ax_joint.grid(alpha=0.5)\n",
    "grid.set_axis_labels(\n",
    "    xlabel=\"Prediction Diversity\", ylabel=\"Model Averaging Improvement\"\n",
    ")\n",
    "tgt_dir = Path(\"./imgs/diversity\")\n",
    "tgt_dir.mkdir(parents=True, exist_ok=True)\n",
    "grid.figure.savefig(\n",
    "    tgt_dir / \"model-avg-improvement-vs-answer-diversity.pdf\", bbox_inches=\"tight\"\n",
    ")"
   ]
  },
  {
   "cell_type": "code",
   "execution_count": null,
   "metadata": {},
   "outputs": [],
   "source": [
    "improvement_df = joint.melt(\n",
    "    id_vars=[\"dataset\", \"dataset_idx\", \"diversity\"],\n",
    "    value_vars=[\"model_avg_improvement\", \"oracle_improvement\"],\n",
    "    value_name=\"improvement\",\n",
    "    var_name=\"type\",\n",
    ")\n",
    "name_map = {\n",
    "    \"model_avg_improvement\": \"Model Averaging\",\n",
    "    \"oracle_improvement\": \"BoN Oracle\",\n",
    "}\n",
    "\n",
    "improvement_df[\"type\"] = improvement_df[\"type\"].map(name_map)\n",
    "fgrid = sns.catplot(\n",
    "    improvement_df,\n",
    "    x=\"diversity\",\n",
    "    y=\"improvement\",\n",
    "    hue=\"type\",\n",
    "    col=\"dataset\",\n",
    "    kind=\"bar\",\n",
    "    sharey=False,\n",
    ")\n",
    "fgrid.set_axis_labels(\"Prediction Diversity\", \"Improvement In\\nWasserstein Distance\")\n",
    "fgrid.legend.set(title=\"Method\")\n",
    "for ax in fgrid.axes.flat:\n",
    "    ax.grid(alpha=0.5, axis=\"y\")\n",
    "fgrid.figure.savefig(\n",
    "    tgt_dir / \"improvement-vs-prediction-diversity-quantiles.pdf\",\n",
    "    bbox_inches=\"tight\",\n",
    ")"
   ]
  },
  {
   "cell_type": "code",
   "execution_count": null,
   "metadata": {},
   "outputs": [],
   "source": [
    "# sns.histplot(joint.query(\"dataset == 'CSC'\"), x=\"avg_pairwise_ws_loss\", hue=\"diversity\", multiple=\"stack\")\n",
    "fgrid = sns.FacetGrid(joint, col=\"dataset\", height=5, sharex=False, sharey=False)\n",
    "fgrid.map_dataframe(\n",
    "    sns.histplot, x=\"avg_pairwise_ws_loss\", hue=\"diversity\", multiple=\"stack\"\n",
    ")\n",
    "fgrid.set_axis_labels(\"Prediction Diversity\", \"Count\")\n",
    "for ax in fgrid.axes.flat:\n",
    "    ax.grid(alpha=0.5, axis=\"y\")\n",
    "fgrid.figure.savefig(tgt_dir / \"diversity-distribution.pdf\", bbox_inches=\"tight\")"
   ]
  },
  {
   "cell_type": "markdown",
   "metadata": {},
   "source": [
    "# Plots Below are Not Generalized For Multiple Datasets Yet"
   ]
  },
  {
   "cell_type": "code",
   "execution_count": null,
   "metadata": {},
   "outputs": [],
   "source": [
    "import matplotlib.pyplot as plt\n",
    "\n",
    "fig, axs = plt.subplots(figsize=(12, 4), ncols=2, gridspec_kw={\"wspace\": 0.3})\n",
    "ax1, ax2 = axs\n",
    "\n",
    "sns.boxplot(\n",
    "    rdf.merge(\n",
    "        answer_diversity[[\"dataset_idx\", \"diversity\"]], on=\"dataset_idx\", how=\"left\"\n",
    "    ),\n",
    "    x=\"diversity\",\n",
    "    y=\"ws_loss\",\n",
    "    showfliers=False,\n",
    "    ax=ax1,\n",
    "    whis=(5, 95),\n",
    ")\n",
    "ax1.set_ylabel(\"Simple\")\n",
    "\n",
    "sns.boxplot(\n",
    "    joint,\n",
    "    x=\"diversity\",\n",
    "    y=\"model_avg_ws_loss\",\n",
    "    showfliers=False,\n",
    "    ax=ax2,\n",
    "    whis=(5, 95),\n",
    ")\n",
    "ax2.set_ylabel(\"Model Averaging\")\n",
    "\n",
    "for ax in axs:\n",
    "    ax.grid(alpha=0.5, axis=\"y\")\n",
    "    ax.set_ylim(-0.1, 3)"
   ]
  },
  {
   "cell_type": "markdown",
   "metadata": {},
   "source": [
    "# What is the Worst Case Performance By Diversity?"
   ]
  },
  {
   "cell_type": "code",
   "execution_count": null,
   "metadata": {},
   "outputs": [],
   "source": [
    "ax = sns.boxplot(\n",
    "    oracle,\n",
    "    x=\"diversity\",\n",
    "    y=\"ws_loss\",\n",
    "    showfliers=False,\n",
    "    whis=(5, 95),\n",
    ")\n",
    "ax.grid(alpha=0.5, axis=\"y\")\n",
    "ax.set_ylim(None, 3)\n",
    "ax.set_title(\"BoN Oracle WS Loss\")"
   ]
  },
  {
   "cell_type": "markdown",
   "metadata": {},
   "source": [
    "# What is the Range For Improvement from repeated Sampling?"
   ]
  },
  {
   "cell_type": "code",
   "execution_count": null,
   "metadata": {},
   "outputs": [],
   "source": [
    "wsloss_improv = rdf[[\"dataset_idx\", \"ws_loss\"]].merge(\n",
    "    oracle.rename(columns={\"ws_loss\": \"ws_loss_best\"})[[\"dataset_idx\", \"ws_loss_best\"]],\n",
    "    on=\"dataset_idx\",\n",
    "    how=\"left\",\n",
    ")\n",
    "wsloss_improv = wsloss_improv.assign(\n",
    "    improvement=lambda df: df[\"ws_loss\"] - df[\"ws_loss_best\"]\n",
    ")\n",
    "wsloss_improv = wsloss_improv.merge(\n",
    "    answer_diversity[[\"dataset_idx\", \"diversity\"]], on=\"dataset_idx\", how=\"left\"\n",
    ")\n",
    "\n",
    "fig, axs = plt.subplots(figsize=(12, 4), ncols=2, gridspec_kw={\"wspace\": 0.3})\n",
    "ax1, ax2 = axs\n",
    "\n",
    "sns.boxplot(\n",
    "    joint,\n",
    "    x=\"diversity\",\n",
    "    y=\"improvement\",\n",
    "    showfliers=False,\n",
    "    whis=(5, 95),\n",
    "    ax=ax1,\n",
    ")\n",
    "ax1.set_title(\"Model Averaging\")\n",
    "\n",
    "sns.boxplot(\n",
    "    wsloss_improv,\n",
    "    x=\"diversity\",\n",
    "    y=\"improvement\",\n",
    "    showfliers=False,\n",
    "    whis=(5, 95),\n",
    "    ax=ax2,\n",
    ")\n",
    "ax2.set_title(\"BoN Oracle\")\n",
    "\n",
    "for ax in axs:\n",
    "    ax.grid(alpha=0.5, axis=\"y\")\n",
    "    ax.set_ylim(-0.1, 2.3)\n",
    "    ax.set_xlabel(\"Prediction Diversity\")\n",
    "    ax.set_ylabel(\"Improvement\")"
   ]
  }
 ],
 "metadata": {
  "kernelspec": {
   "display_name": "venv",
   "language": "python",
   "name": "python3"
  },
  "language_info": {
   "codemirror_mode": {
    "name": "ipython",
    "version": 3
   },
   "file_extension": ".py",
   "mimetype": "text/x-python",
   "name": "python",
   "nbconvert_exporter": "python",
   "pygments_lexer": "ipython3",
   "version": "3.12.4"
  }
 },
 "nbformat": 4,
 "nbformat_minor": 2
}
