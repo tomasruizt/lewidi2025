{
 "cells": [
  {
   "cell_type": "code",
   "execution_count": null,
   "metadata": {},
   "outputs": [],
   "source": [
    "%load_ext autoreload\n",
    "%autoreload 2"
   ]
  },
  {
   "cell_type": "code",
   "execution_count": null,
   "metadata": {},
   "outputs": [],
   "source": [
    "import pandas as pd\n",
    "from lewidi_lib import (\n",
    "    enable_logging,\n",
    "    preds_file,\n",
    "    process_rdf_and_add_perf_metrics,\n",
    ")\n",
    "\n",
    "enable_logging()\n",
    "\n",
    "file = preds_file(\n",
    "    dataset=\"CSC\",\n",
    "    split=\"train\",\n",
    "    template=\"31\",\n",
    "    model_id=\"Qwen/Qwen3-32B\",\n",
    "    run_name=\"allex_20loops\",\n",
    "    format=\"parquet\",\n",
    ")\n",
    "assert file.exists(), file.absolute()\n",
    "rdf = pd.read_parquet(file)\n",
    "rdf = rdf.query(\"run_idx <= 9\")\n",
    "rdf = process_rdf_and_add_perf_metrics(rdf, discard_invalid_pred=True)\n",
    "rdf.drop_duplicates(subset=[\"dataset_idx\", \"run_idx\"], inplace=True)"
   ]
  },
  {
   "cell_type": "code",
   "execution_count": null,
   "metadata": {},
   "outputs": [],
   "source": [
    "len(rdf)"
   ]
  },
  {
   "cell_type": "code",
   "execution_count": null,
   "metadata": {},
   "outputs": [],
   "source": [
    "from lewidi_lib import avg_pairwise_ws_loss\n",
    "\n",
    "answer_diversity = rdf.groupby(\"dataset_idx\", as_index=False).agg(\n",
    "    avg_pairwise_ws_loss=(\"pred\", avg_pairwise_ws_loss),\n",
    "    avg_ws_loss=(\"ws_loss\", \"mean\"),\n",
    ")"
   ]
  },
  {
   "cell_type": "code",
   "execution_count": null,
   "metadata": {},
   "outputs": [],
   "source": [
    "from lewidi_lib import compute_average_baseline_and_assing_perf_metrics\n",
    "\n",
    "\n",
    "model_avg_rdf = compute_average_baseline_and_assing_perf_metrics(rdf)\n",
    "model_avg_rdf = model_avg_rdf[[\"dataset_idx\", \"ws_loss\"]].rename(\n",
    "    columns={\"ws_loss\": \"model_avg_ws_loss\"}\n",
    ")"
   ]
  },
  {
   "cell_type": "code",
   "execution_count": null,
   "metadata": {},
   "outputs": [],
   "source": [
    "from lewidi_lib import assign_col_diversity\n",
    "answer_diversity = assign_col_diversity(answer_diversity)\n",
    "joint = answer_diversity.merge(model_avg_rdf, on=\"dataset_idx\", how=\"left\")\n",
    "joint = joint.assign(improvement=lambda df: df[\"avg_ws_loss\"] - df[\"model_avg_ws_loss\"])"
   ]
  },
  {
   "cell_type": "code",
   "execution_count": null,
   "metadata": {},
   "outputs": [],
   "source": [
    "from pathlib import Path\n",
    "import seaborn as sns\n",
    "\n",
    "sns.set_context(\"talk\")\n",
    "\n",
    "grid = sns.JointGrid(data=joint, x=\"avg_pairwise_ws_loss\", y=\"improvement\")\n",
    "grid.plot_joint(sns.scatterplot, data=joint, alpha=0.2)\n",
    "grid.plot_joint(sns.regplot, scatter=False, lowess=True)\n",
    "grid.plot_marginals(sns.histplot, data=joint)\n",
    "grid.ax_joint.grid(alpha=0.5)\n",
    "grid.set_axis_labels(xlabel=\"Answer Diversity\", ylabel=\"Model Averaging Improvement\")\n",
    "tgt_dir = Path(\"./imgs/diversity\")\n",
    "tgt_dir.mkdir(parents=True, exist_ok=True)\n",
    "grid.figure.savefig(\n",
    "    tgt_dir / \"model-avg-improvement-vs-answer-diversity.pdf\", bbox_inches=\"tight\"\n",
    ")"
   ]
  },
  {
   "cell_type": "code",
   "execution_count": null,
   "metadata": {},
   "outputs": [],
   "source": [
    "axs = sns.barplot(\n",
    "    joint,\n",
    "    x=\"diversity\",\n",
    "    y=\"improvement\",\n",
    ")\n",
    "axs.set_xlabel(\"Answer Diversity\")\n",
    "axs.set_ylabel(\"Model Averaging\\nImprovement\")\n",
    "axs.grid(alpha=0.5, axis=\"y\")\n",
    "axs.figure.savefig(tgt_dir / \"model-avg-improvement-vs-answer-diversity-quantiles.pdf\", bbox_inches=\"tight\")"
   ]
  },
  {
   "cell_type": "code",
   "execution_count": null,
   "metadata": {},
   "outputs": [],
   "source": [
    "import matplotlib.pyplot as plt\n",
    "\n",
    "fig, axs = plt.subplots(figsize=(12, 4), ncols=2, gridspec_kw={\"wspace\": 0.3})\n",
    "ax1, ax2 = axs\n",
    "\n",
    "sns.boxplot(\n",
    "    rdf.merge(\n",
    "        answer_diversity[[\"dataset_idx\", \"diversity\"]], on=\"dataset_idx\", how=\"left\"\n",
    "    ),\n",
    "    x=\"diversity\",\n",
    "    y=\"ws_loss\",\n",
    "    showfliers=False,\n",
    "    ax=ax1,\n",
    "    whis=(5, 95),\n",
    ")\n",
    "ax1.set_ylabel(\"Simple\")\n",
    "\n",
    "sns.boxplot(\n",
    "    joint,\n",
    "    x=\"diversity\",\n",
    "    y=\"model_avg_ws_loss\",\n",
    "    showfliers=False,\n",
    "    ax=ax2,\n",
    "    whis=(5, 95),\n",
    ")\n",
    "ax2.set_ylabel(\"Model Averaging\")\n",
    "\n",
    "for ax in axs:\n",
    "    ax.grid(alpha=0.5, axis=\"y\")\n",
    "    ax.set_ylim(-0.1, 3)"
   ]
  },
  {
   "cell_type": "markdown",
   "metadata": {},
   "source": [
    "# What is the Worst Case Performance By Diversity?"
   ]
  },
  {
   "cell_type": "code",
   "execution_count": null,
   "metadata": {},
   "outputs": [],
   "source": [
    "oracle = rdf.loc[rdf.groupby(\"dataset_idx\")[\"ws_loss\"].idxmin()]\n",
    "oracle = oracle.merge(\n",
    "    answer_diversity[[\"dataset_idx\", \"diversity\"]], on=\"dataset_idx\", how=\"left\"\n",
    ")"
   ]
  },
  {
   "cell_type": "code",
   "execution_count": null,
   "metadata": {},
   "outputs": [],
   "source": [
    "ax = sns.boxplot(\n",
    "    oracle,\n",
    "    x=\"diversity\",\n",
    "    y=\"ws_loss\",\n",
    "    showfliers=False,\n",
    "    whis=(5, 95),\n",
    ")\n",
    "ax.grid(alpha=0.5, axis=\"y\")\n",
    "ax.set_ylim(None, 3)\n",
    "ax.set_title(\"BoN Oracle WS Loss\")"
   ]
  },
  {
   "cell_type": "markdown",
   "metadata": {},
   "source": [
    "# What is the Range For Improvement from repeated Sampling?"
   ]
  },
  {
   "cell_type": "code",
   "execution_count": null,
   "metadata": {},
   "outputs": [],
   "source": [
    "wsloss_improv = rdf[[\"dataset_idx\", \"ws_loss\"]].merge(\n",
    "    oracle.rename(columns={\"ws_loss\": \"ws_loss_best\"})[[\"dataset_idx\", \"ws_loss_best\"]],\n",
    "    on=\"dataset_idx\",\n",
    "    how=\"left\",\n",
    ")\n",
    "wsloss_improv = wsloss_improv.assign(\n",
    "    improvement=lambda df: df[\"ws_loss\"] - df[\"ws_loss_best\"]\n",
    ")\n",
    "wsloss_improv = wsloss_improv.merge(\n",
    "    answer_diversity[[\"dataset_idx\", \"diversity\"]], on=\"dataset_idx\", how=\"left\"\n",
    ")\n",
    "\n",
    "fig, axs = plt.subplots(figsize=(12, 4), ncols=2, gridspec_kw={\"wspace\": 0.3})\n",
    "ax1, ax2 = axs\n",
    "\n",
    "sns.boxplot(\n",
    "    joint,\n",
    "    x=\"diversity\",\n",
    "    y=\"improvement\",\n",
    "    showfliers=False,\n",
    "    whis=(5, 95),\n",
    "    ax=ax1,\n",
    ")\n",
    "ax1.set_title(\"Model Averaging\")\n",
    "\n",
    "sns.boxplot(\n",
    "    wsloss_improv,\n",
    "    x=\"diversity\",\n",
    "    y=\"improvement\",\n",
    "    showfliers=False,\n",
    "    whis=(5, 95),\n",
    "    ax=ax2,\n",
    ")\n",
    "ax2.set_title(\"BoN Oracle\")\n",
    "\n",
    "for ax in axs:\n",
    "    ax.grid(alpha=0.5, axis=\"y\")\n",
    "    ax.set_ylim(-0.1, 2.3)\n",
    "    ax.set_xlabel(\"Answer Diversity\")\n",
    "    ax.set_ylabel(\"Improvement\")"
   ]
  }
 ],
 "metadata": {
  "kernelspec": {
   "display_name": "venv",
   "language": "python",
   "name": "python3"
  },
  "language_info": {
   "codemirror_mode": {
    "name": "ipython",
    "version": 3
   },
   "file_extension": ".py",
   "mimetype": "text/x-python",
   "name": "python",
   "nbconvert_exporter": "python",
   "pygments_lexer": "ipython3",
   "version": "3.12.4"
  }
 },
 "nbformat": 4,
 "nbformat_minor": 2
}
