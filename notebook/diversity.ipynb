{
 "cells": [
  {
   "cell_type": "code",
   "execution_count": null,
   "metadata": {},
   "outputs": [],
   "source": [
    "%load_ext autoreload\n",
    "%autoreload 2"
   ]
  },
  {
   "cell_type": "code",
   "execution_count": null,
   "metadata": {},
   "outputs": [],
   "source": [
    "import pandas as pd\n",
    "from lewidi_lib import (\n",
    "    enable_logging,\n",
    "    load_preds,\n",
    "    process_rdf_and_add_perf_metrics,\n",
    ")\n",
    "\n",
    "enable_logging()\n",
    "\n",
    "folder = \"/home/tomasruiz/datasets/dss_home/lewidi-data/sbatch/di38bec/Qwen_Qwen3-32B/set2/t31/CSC/train/allexs_20loops/preds\"\n",
    "rdf = load_preds(folder)\n",
    "rdf = rdf.query(\"run_idx <= 9\")\n",
    "rdf = process_rdf_and_add_perf_metrics(rdf, discard_invalid_pred=True)\n",
    "rdf.drop_duplicates(subset=[\"dataset_idx\", \"run_idx\"], inplace=True)"
   ]
  },
  {
   "cell_type": "code",
   "execution_count": null,
   "metadata": {},
   "outputs": [],
   "source": [
    "len(rdf)"
   ]
  },
  {
   "cell_type": "code",
   "execution_count": 26,
   "metadata": {},
   "outputs": [],
   "source": [
    "from itertools import combinations\n",
    "\n",
    "import numpy as np\n",
    "import scipy\n",
    "from lewidi_lib import as_np\n",
    "\n",
    "\n",
    "def avg_pairwise_ws_loss(preds) -> float:\n",
    "    np_preds = as_np(preds)\n",
    "    _, dim = np_preds.shape\n",
    "    space = np.arange(dim)\n",
    "    dists = []\n",
    "    for p1, p2 in combinations(np_preds, r=2):\n",
    "        d = scipy.stats.wasserstein_distance(space, space, p1, p2)\n",
    "        dists.append(d)\n",
    "    avg = np.mean(dists)\n",
    "    return avg\n",
    "\n",
    "\n",
    "answer_diversity = rdf.groupby(\"dataset_idx\", as_index=False).agg(\n",
    "    avg_pairwise_ws_loss=(\"pred\", avg_pairwise_ws_loss),\n",
    "    avg_ws_loss=(\"ws_loss\", \"mean\"),\n",
    ")"
   ]
  },
  {
   "cell_type": "code",
   "execution_count": 27,
   "metadata": {},
   "outputs": [],
   "source": [
    "from lewidi_lib import compute_average_baseline_and_assing_perf_metrics\n",
    "\n",
    "\n",
    "model_avg_rdf = compute_average_baseline_and_assing_perf_metrics(rdf)\n",
    "model_avg_rdf = model_avg_rdf[[\"dataset_idx\", \"ws_loss\"]].rename(\n",
    "    columns={\"ws_loss\": \"model_avg_ws_loss\"}\n",
    ")"
   ]
  },
  {
   "cell_type": "code",
   "execution_count": 28,
   "metadata": {},
   "outputs": [],
   "source": [
    "import pandas as pd\n",
    "\n",
    "answer_diversity = answer_diversity.assign(\n",
    "    diversity=pd.qcut(\n",
    "        answer_diversity[\"avg_pairwise_ws_loss\"],\n",
    "        5,\n",
    "        labels=[\"Q1\", \"Q2\", \"Q3\", \"Q4\", \"Q5\"],\n",
    "    )\n",
    ")\n",
    "joint = answer_diversity.merge(model_avg_rdf, on=\"dataset_idx\", how=\"left\")\n",
    "joint = joint.assign(improvement=lambda df: df[\"avg_ws_loss\"] - df[\"model_avg_ws_loss\"])\n"
   ]
  },
  {
   "cell_type": "code",
   "execution_count": null,
   "metadata": {},
   "outputs": [],
   "source": [
    "import seaborn as sns\n",
    "\n",
    "sns.set_context(\"talk\")\n",
    "\n",
    "grid = sns.JointGrid(data=joint, x=\"avg_pairwise_ws_loss\", y=\"improvement\")\n",
    "grid.plot_joint(sns.scatterplot, data=joint, alpha=0.2)\n",
    "grid.plot_joint(sns.regplot, scatter=False, lowess=True)\n",
    "grid.plot_marginals(sns.histplot, data=joint)\n",
    "grid.ax_joint.grid(alpha=0.5)\n",
    "grid.set_axis_labels(xlabel=\"Answer Diversity\", ylabel=\"Model Averaging Improvement\")"
   ]
  },
  {
   "cell_type": "code",
   "execution_count": null,
   "metadata": {},
   "outputs": [],
   "source": [
    "import matplotlib.pyplot as plt\n",
    "\n",
    "fig, axs = plt.subplots(figsize=(12, 4), ncols=2, gridspec_kw={'wspace': 0.3})\n",
    "ax1, ax2 = axs\n",
    "\n",
    "sns.boxplot(\n",
    "    rdf.merge(answer_diversity[[\"dataset_idx\", \"diversity\"]], on=\"dataset_idx\", how=\"left\"),\n",
    "    x=\"diversity\",\n",
    "    y=\"ws_loss\",\n",
    "    showfliers=False,\n",
    "    ax=ax1,\n",
    "    whis=(5, 95),\n",
    ")\n",
    "ax1.set_ylabel(\"Simple\")\n",
    "\n",
    "sns.boxplot(\n",
    "    joint,\n",
    "    x=\"diversity\",\n",
    "    y=\"model_avg_ws_loss\",\n",
    "    showfliers=False,\n",
    "    ax=ax2,\n",
    "    whis=(5, 95),\n",
    ")\n",
    "ax2.set_ylabel(\"Model Averaging\")\n",
    "\n",
    "for ax in axs:\n",
    "    ax.grid(alpha=0.5, axis=\"y\")\n",
    "    ax.set_ylim(-.1, 3)"
   ]
  },
  {
   "cell_type": "markdown",
   "metadata": {},
   "source": [
    "# What is the Worst Case Performance By Diversity?"
   ]
  },
  {
   "cell_type": "code",
   "execution_count": 41,
   "metadata": {},
   "outputs": [],
   "source": [
    "oracle = rdf.loc[rdf.groupby(\"dataset_idx\")[\"ws_loss\"].idxmin()]\n",
    "oracle = oracle.merge(answer_diversity[[\"dataset_idx\", \"diversity\"]], on=\"dataset_idx\", how=\"left\")"
   ]
  },
  {
   "cell_type": "code",
   "execution_count": null,
   "metadata": {},
   "outputs": [],
   "source": [
    "ax = sns.boxplot(\n",
    "    oracle,\n",
    "    x=\"diversity\",\n",
    "    y=\"ws_loss\",\n",
    "    showfliers=False,\n",
    "    whis=(5, 95),\n",
    ")\n",
    "ax.grid(alpha=0.5, axis=\"y\")\n",
    "ax.set_ylim(None, 3)"
   ]
  }
 ],
 "metadata": {
  "kernelspec": {
   "display_name": "venv",
   "language": "python",
   "name": "python3"
  },
  "language_info": {
   "codemirror_mode": {
    "name": "ipython",
    "version": 3
   },
   "file_extension": ".py",
   "mimetype": "text/x-python",
   "name": "python",
   "nbconvert_exporter": "python",
   "pygments_lexer": "ipython3",
   "version": "3.11.9"
  }
 },
 "nbformat": 4,
 "nbformat_minor": 2
}
