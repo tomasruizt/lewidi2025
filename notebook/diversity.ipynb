{
 "cells": [
  {
   "cell_type": "code",
   "execution_count": null,
   "metadata": {},
   "outputs": [],
   "source": [
    "%load_ext autoreload\n",
    "%autoreload 2\n",
    "import seaborn as sns\n",
    "\n",
    "sns.set_context(\"talk\")"
   ]
  },
  {
   "cell_type": "code",
   "execution_count": null,
   "metadata": {},
   "outputs": [],
   "source": [
    "import duckdb\n",
    "from lewidi_lib import list_preds\n",
    "\n",
    "\n",
    "files = list_preds().query(\n",
    "    \"run_name == '1000ex_10loops' and model_id == 'Qwen/Qwen3-32B' and template_id == '60' and split == 'train'\"\n",
    ")\n",
    "rdf = duckdb.sql(\n",
    "    f\"SELECT * FROM read_parquet({[str(f) for f in files.preds_file]}, union_by_name=True)\"\n",
    ").df()"
   ]
  },
  {
   "cell_type": "code",
   "execution_count": null,
   "metadata": {},
   "outputs": [],
   "source": [
    "from lewidi_lib import (\n",
    "    assign_cols_perf_metrics_softlabel,\n",
    "    enable_logging,\n",
    "    join_dataset,\n",
    "    process_rdf,\n",
    ")\n",
    "\n",
    "enable_logging()\n",
    "rdf = rdf.query(\"run_idx <= 9\")\n",
    "rdf = process_rdf(rdf, response_contains_steps=True, discard_invalid_pred=True)\n",
    "rdf = join_dataset(rdf)\n",
    "rdf = assign_cols_perf_metrics_softlabel(rdf)\n",
    "rdf.drop_duplicates(subset=[\"dataset\", \"dataset_idx\", \"run_idx\"], inplace=True)"
   ]
  },
  {
   "cell_type": "code",
   "execution_count": null,
   "metadata": {},
   "outputs": [],
   "source": [
    "len(rdf)"
   ]
  },
  {
   "cell_type": "code",
   "execution_count": null,
   "metadata": {},
   "outputs": [],
   "source": [
    "from lewidi_lib import avg_pairwise_ws_loss\n",
    "\n",
    "answer_diversity = rdf.groupby([\"dataset\", \"dataset_idx\"], as_index=False).agg(\n",
    "    avg_pairwise_ws_loss=(\"pred\", avg_pairwise_ws_loss)\n",
    ")"
   ]
  },
  {
   "cell_type": "code",
   "execution_count": null,
   "metadata": {},
   "outputs": [],
   "source": [
    "from lewidi_lib import compute_average_baseline_and_assing_perf_metrics\n",
    "\n",
    "model_avg_rdf = compute_average_baseline_and_assing_perf_metrics(rdf)\n",
    "model_avg_rdf = model_avg_rdf[[\"dataset\", \"dataset_idx\", \"ws_loss\"]].rename(\n",
    "    columns={\"ws_loss\": \"model_avg_ws_loss\"}\n",
    ")"
   ]
  },
  {
   "cell_type": "code",
   "execution_count": null,
   "metadata": {},
   "outputs": [],
   "source": [
    "from lewidi_lib import assign_cols_perf_metrics_softlabel\n",
    "\n",
    "oracle = rdf.loc[rdf.groupby([\"dataset\", \"dataset_idx\"])[\"ws_loss\"].idxmin()]\n",
    "oracle = assign_cols_perf_metrics_softlabel(oracle)\n",
    "oracle = oracle[[\"dataset\", \"dataset_idx\", \"ws_loss\"]].rename(\n",
    "    columns={\"ws_loss\": \"oracle_ws_loss\"}\n",
    ")"
   ]
  },
  {
   "cell_type": "code",
   "execution_count": null,
   "metadata": {},
   "outputs": [],
   "source": [
    "from lewidi_lib import diversity\n",
    "\n",
    "div_col = answer_diversity.groupby(\"dataset\")[\"avg_pairwise_ws_loss\"].transform(\n",
    "    diversity\n",
    ")\n",
    "answer_diversity = answer_diversity.assign(diversity=div_col)"
   ]
  },
  {
   "cell_type": "code",
   "execution_count": null,
   "metadata": {},
   "outputs": [],
   "source": [
    "# from lewidi_lib import assign_col_diversity\n",
    "# answer_diversity = assign_col_diversity(answer_diversity)\n",
    "joint = rdf.merge(answer_diversity, on=[\"dataset\", \"dataset_idx\"], how=\"left\")\n",
    "joint = joint.merge(model_avg_rdf, on=[\"dataset\", \"dataset_idx\"], how=\"left\")\n",
    "joint = joint.merge(oracle, on=[\"dataset\", \"dataset_idx\"], how=\"left\")\n",
    "joint = joint.assign(\n",
    "    model_avg_improvement=lambda df: df[\"ws_loss\"] - df[\"model_avg_ws_loss\"],\n",
    "    oracle_improvement=lambda df: df[\"ws_loss\"] - df[\"oracle_ws_loss\"],\n",
    ")"
   ]
  },
  {
   "cell_type": "code",
   "execution_count": null,
   "metadata": {},
   "outputs": [],
   "source": [
    "from pathlib import Path\n",
    "\n",
    "tgt_dir = Path(\"./imgs/diversity\")\n",
    "tgt_dir.mkdir(parents=True, exist_ok=True)"
   ]
  },
  {
   "cell_type": "markdown",
   "metadata": {},
   "source": [
    "# Is the WS loss correlated with the diversity?\n",
    "The Wasserstein loss is empirically correlated with the prediction diversity, which means that we can use the prediction diversity (an observable quantity at test-time) as a proxy for the model performance on a problem (an unobservable quantity at test-time)."
   ]
  },
  {
   "cell_type": "code",
   "execution_count": null,
   "metadata": {},
   "outputs": [],
   "source": [
    "from lewidi_lib import rename_dataset\n",
    "\n",
    "datasets = [\"CSC\", \"PAR\", \"MP\", \"VEN\"]\n",
    "fgrid = sns.catplot(\n",
    "    rename_dataset(joint),\n",
    "    x=\"diversity\",\n",
    "    y=\"ws_loss\",\n",
    "    col=\"dataset\",\n",
    "    col_order=datasets,\n",
    "    col_wrap=2,\n",
    "    kind=\"point\",\n",
    "    # errorbar=\"sd\",\n",
    "    height=3,\n",
    "    aspect=1.5,\n",
    "    sharey=False,\n",
    "    # showfliers=False,\n",
    "    # whis=(5, 95),\n",
    "    # col_wrap=2,\n",
    ")\n",
    "fgrid.set_axis_labels(\"Prediction Diversity\", \"Wasserstein\\nDistance\")\n",
    "for ax in fgrid.axes.flat:\n",
    "    ax.grid(alpha=0.5, axis=\"y\")\n",
    "fgrid.axes[2].set_ylabel(\"Manhattan\\nDistance\")\n",
    "fgrid.figure.savefig(tgt_dir / \"ws-loss-vs-diversity.pdf\", bbox_inches=\"tight\")"
   ]
  },
  {
   "cell_type": "code",
   "execution_count": null,
   "metadata": {},
   "outputs": [],
   "source": [
    "joint.groupby([\"dataset\", \"diversity\"], as_index=False)[[\"ws_loss\"]].mean().pivot(\n",
    "    index=\"dataset\", columns=\"diversity\", values=\"ws_loss\"\n",
    ").round(2)"
   ]
  },
  {
   "cell_type": "code",
   "execution_count": null,
   "metadata": {},
   "outputs": [],
   "source": [
    "improvement_df = joint.melt(\n",
    "    id_vars=[\"dataset\", \"dataset_idx\", \"diversity\"],\n",
    "    value_vars=[\"model_avg_improvement\", \"oracle_improvement\"],\n",
    "    value_name=\"improvement\",\n",
    "    var_name=\"type\",\n",
    ")\n",
    "name_map = {\n",
    "    \"model_avg_improvement\": \"Model Averaging\",\n",
    "    \"oracle_improvement\": \"BoN Oracle\",\n",
    "}\n",
    "\n",
    "improvement_df[\"type\"] = improvement_df[\"type\"].map(name_map)\n",
    "improvement_df = rename_dataset(improvement_df)\n",
    "fgrid = sns.catplot(\n",
    "    improvement_df,\n",
    "    x=\"diversity\",\n",
    "    y=\"improvement\",\n",
    "    hue=\"type\",\n",
    "    col=\"dataset\",\n",
    "    col_wrap=2,\n",
    "    col_order=datasets,\n",
    "    kind=\"bar\",\n",
    "    errorbar=\"ci\",\n",
    "    sharey=False,\n",
    "    height=3.5,\n",
    "    aspect=1.5,\n",
    ")\n",
    "sns.move_legend(\n",
    "    fgrid,\n",
    "    loc=\"lower left\",\n",
    "    bbox_to_anchor=(0.2, 1.0),\n",
    "    ncol=2,\n",
    "    title=\"Method\",\n",
    ")\n",
    "fgrid.set_axis_labels(\"Prediction Diversity\", \"Improvement In\\nWasserstein Distance\")\n",
    "for ax in fgrid.axes.flat:\n",
    "    ax.grid(alpha=0.5, axis=\"y\")\n",
    "    ax.set_ylim(0, None)\n",
    "fgrid.axes[2].set_ylabel(\"Improvement In\\nManhattan Distance\")\n",
    "fgrid.figure.savefig(\n",
    "    tgt_dir / \"improvement-vs-prediction-diversity-quantiles.pdf\",\n",
    "    bbox_inches=\"tight\",\n",
    ")"
   ]
  },
  {
   "cell_type": "code",
   "execution_count": null,
   "metadata": {},
   "outputs": [],
   "source": [
    "# how much value is model_averaging capturing?\n",
    "ma_value_df = joint.groupby([\"dataset\", \"diversity\"], as_index=False)[\n",
    "    [\"model_avg_improvement\", \"oracle_improvement\"]\n",
    "].mean()\n",
    "ma_value_df = ma_value_df.assign(\n",
    "    fraction=lambda df: df[\"model_avg_improvement\"] / df[\"oracle_improvement\"]\n",
    ")\n",
    "ma_value_df.pivot(index=\"dataset\", values=\"fraction\", columns=\"diversity\").round(2)"
   ]
  },
  {
   "cell_type": "code",
   "execution_count": null,
   "metadata": {},
   "outputs": [],
   "source": [
    "import pandas as pd\n",
    "\n",
    "data_ = pd.concat(\n",
    "    [\n",
    "        rdf[[\"dataset\", \"dataset_idx\", \"ws_loss\"]].assign(Method=\"Simple\"),\n",
    "        model_avg_rdf.rename(columns={\"model_avg_ws_loss\": \"ws_loss\"}).assign(\n",
    "            Method=\"Model Averaging\"\n",
    "        ),\n",
    "        oracle.rename(columns={\"oracle_ws_loss\": \"ws_loss\"}).assign(\n",
    "            Method=\"BoN Oracle\"\n",
    "        ),\n",
    "    ],\n",
    "    ignore_index=True,\n",
    ")\n",
    "data_ = data_.merge(answer_diversity, on=[\"dataset\", \"dataset_idx\"], how=\"left\")\n",
    "data_ = rename_dataset(data_)\n",
    "fgrid = sns.catplot(\n",
    "    data_,\n",
    "    x=\"diversity\",\n",
    "    # order=[\"Q1\", \"Q3\", \"Q5\"],\n",
    "    y=\"ws_loss\",\n",
    "    hue=\"Method\",\n",
    "    hue_order=[\"Simple\", \"Model Averaging\", \"BoN Oracle\"],\n",
    "    kind=\"point\",\n",
    "    errorbar=\"ci\",\n",
    "    sharey=False,\n",
    "    col=\"dataset\",\n",
    "    col_wrap=2,\n",
    "    dodge=True,\n",
    "    capsize=0.2,\n",
    "    height=4,\n",
    "    aspect=1.2,\n",
    ")\n",
    "fgrid.set_axis_labels(\"Prediction Diversity\", \"Wasserstein Distance\")\n",
    "for ax in fgrid.axes.flat:\n",
    "    ax.grid(alpha=0.5, axis=\"y\")"
   ]
  },
  {
   "cell_type": "code",
   "execution_count": null,
   "metadata": {},
   "outputs": [],
   "source": [
    "fgrid = sns.FacetGrid(\n",
    "    rename_dataset(answer_diversity),\n",
    "    col=\"dataset\",\n",
    "    height=3,\n",
    "    sharex=False,\n",
    "    sharey=False,\n",
    "    col_wrap=2,\n",
    "    col_order=datasets,\n",
    "    aspect=1.5,\n",
    ")\n",
    "fgrid.map_dataframe(\n",
    "    sns.histplot, x=\"avg_pairwise_ws_loss\", hue=\"diversity\", multiple=\"stack\"\n",
    ")\n",
    "fgrid.set_axis_labels(\"Prediction Diversity\", \"Count\")\n",
    "for ax in fgrid.axes.flat:\n",
    "    ax.grid(alpha=0.5, axis=\"y\")\n",
    "fgrid.figure.savefig(tgt_dir / \"diversity-distribution.pdf\", bbox_inches=\"tight\")"
   ]
  }
 ],
 "metadata": {
  "kernelspec": {
   "display_name": "venv",
   "language": "python",
   "name": "python3"
  },
  "language_info": {
   "codemirror_mode": {
    "name": "ipython",
    "version": 3
   },
   "file_extension": ".py",
   "mimetype": "text/x-python",
   "name": "python",
   "nbconvert_exporter": "python",
   "pygments_lexer": "ipython3",
   "version": "3.12.4"
  }
 },
 "nbformat": 4,
 "nbformat_minor": 2
}
