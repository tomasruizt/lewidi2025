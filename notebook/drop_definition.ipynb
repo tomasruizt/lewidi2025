{
 "cells": [
  {
   "cell_type": "code",
   "execution_count": null,
   "id": "94ca5a04",
   "metadata": {},
   "outputs": [],
   "source": [
    "%load_ext autoreload\n",
    "%autoreload 2\n",
    "from lewidi_lib import configure_pandas_display, enable_logging\n",
    "\n",
    "configure_pandas_display()\n",
    "enable_logging()\n"
   ]
  },
  {
   "cell_type": "code",
   "execution_count": null,
   "id": "7cdd1046",
   "metadata": {},
   "outputs": [],
   "source": [
    "from lewidi_lib import list_preds\n",
    "\n",
    "\n",
    "pdf = list_preds().query(\n",
    "    \"(template_id == '60' or template_id == '62') and exists and dataset == 'CSC' and run_name == '1000ex_10loops' and model_id.str.contains('14B')\"\n",
    ")\n",
    "pdf"
   ]
  },
  {
   "cell_type": "code",
   "execution_count": null,
   "id": "268aedc7",
   "metadata": {},
   "outputs": [],
   "source": [
    "from lewidi_lib import (\n",
    "    assign_cols_perf_metrics,\n",
    "    join_dataset,\n",
    "    load_listof_parquets,\n",
    "    process_rdf,\n",
    ")\n",
    "\n",
    "task = \"soft-label\"\n",
    "rdf = load_listof_parquets(pdf[\"preds_file\"])\n",
    "rdf = process_rdf(\n",
    "    rdf, task=task, discard_invalid_pred=True, response_contains_steps=True\n",
    ")\n",
    "joint_df = join_dataset(rdf, task=task)\n",
    "joint_df = assign_cols_perf_metrics(joint_df, task=task)"
   ]
  },
  {
   "cell_type": "code",
   "execution_count": null,
   "id": "3ad34814",
   "metadata": {},
   "outputs": [],
   "source": [
    "s1 = set(joint_df.query(\"template_id == '60'\")[\"dataset_idx\"])\n",
    "s2 = set(joint_df.query(\"template_id == '62'\")[\"dataset_idx\"])\n",
    "common = s1.intersection(s2)\n",
    "len(common)"
   ]
  },
  {
   "cell_type": "code",
   "execution_count": null,
   "id": "4282924a",
   "metadata": {},
   "outputs": [],
   "source": [
    "from lewidi_lib import bootstrap_avg\n",
    "\n",
    "\n",
    "joint_df.query(\"dataset_idx.isin(@common)\").groupby(\"template_id\")[\"ws_loss\"].agg(bootstrap_avg)"
   ]
  },
  {
   "cell_type": "code",
   "execution_count": null,
   "id": "49753402",
   "metadata": {},
   "outputs": [],
   "source": [
    "from lewidi_lib import compute_average_baseline_and_assing_perf_metrics\n",
    "\n",
    "\n",
    "model_avg_df = compute_average_baseline_and_assing_perf_metrics(rdf)\n",
    "model_avg_df.query(\"dataset_idx.isin(@common)\").groupby(\"template_id\")[\"ws_loss\"].agg(bootstrap_avg)"
   ]
  }
 ],
 "metadata": {
  "kernelspec": {
   "display_name": "venv",
   "language": "python",
   "name": "python3"
  },
  "language_info": {
   "codemirror_mode": {
    "name": "ipython",
    "version": 3
   },
   "file_extension": ".py",
   "mimetype": "text/x-python",
   "name": "python",
   "nbconvert_exporter": "python",
   "pygments_lexer": "ipython3",
   "version": "3.12.4"
  }
 },
 "nbformat": 4,
 "nbformat_minor": 5
}
