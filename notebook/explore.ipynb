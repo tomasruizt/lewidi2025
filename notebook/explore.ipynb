{
 "cells": [
  {
   "cell_type": "code",
   "execution_count": null,
   "metadata": {},
   "outputs": [],
   "source": [
    "%load_ext autoreload\n",
    "%autoreload 2"
   ]
  },
  {
   "cell_type": "code",
   "execution_count": 13,
   "metadata": {},
   "outputs": [],
   "source": [
    "import pandas as pd\n",
    "import numpy as np\n",
    "import logging\n",
    "\n",
    "logger = logging.getLogger(__name__)"
   ]
  },
  {
   "cell_type": "code",
   "execution_count": null,
   "metadata": {},
   "outputs": [],
   "source": [
    "from lewidi_lib import load_dataset, enable_logging\n",
    "\n",
    "enable_logging()\n",
    "\n",
    "datasets = [\"CSC\", \"MP\"]\n",
    "splits = [\"train\", \"dev\"]\n",
    "ddf = pd.concat([load_dataset(d, split=s) for d in datasets for s in splits])\n",
    "print(len(ddf))\n",
    "ddf.head(2)"
   ]
  },
  {
   "cell_type": "code",
   "execution_count": null,
   "metadata": {},
   "outputs": [],
   "source": [
    "import duckdb\n",
    "from lewidi_lib import process_rdf\n",
    "\n",
    "\n",
    "con = duckdb.connect()\n",
    "rdf = con.sql(\"SELECT * FROM read_parquet('../parquets/*.parquet')\").df()\n",
    "rdf = process_rdf(rdf)\n",
    "rdf.head(2)"
   ]
  },
  {
   "cell_type": "code",
   "execution_count": 22,
   "metadata": {},
   "outputs": [],
   "source": [
    "run_info_cols = [\"run_id\", \"model_id\", \"model_size\", \"gen_kwargs\", \"dataset\", \"split\"]\n",
    "run_info = (\n",
    "    rdf.groupby(run_info_cols, as_index=False)\n",
    "    .agg(\n",
    "        is_valid_pred=(\"is_valid_pred\", \"mean\"),\n",
    "        n_output_tokens=(\"n_output_tokens\", \"mean\"),\n",
    "    )\n",
    "    .sort_values([\"model_size\"])\n",
    ")\n",
    "# run_info.round(2)"
   ]
  },
  {
   "cell_type": "code",
   "execution_count": 23,
   "metadata": {},
   "outputs": [],
   "source": [
    "grun_info = (\n",
    "    run_info.groupby([c for c in run_info_cols if c != \"run_id\"])\n",
    "    .agg({\"is_valid_pred\": \"mean\", \"n_output_tokens\": \"mean\"})\n",
    "    .sort_values([\"model_size\"])\n",
    ")\n",
    "# grun_info.round(3)"
   ]
  },
  {
   "cell_type": "code",
   "execution_count": null,
   "metadata": {},
   "outputs": [],
   "source": [
    "import seaborn as sns\n",
    "\n",
    "run_info[\"model_size\"] = run_info[\"model_size\"].astype(str)\n",
    "g = sns.relplot(\n",
    "    data=run_info,\n",
    "    x=\"model_size\",\n",
    "    y=\"is_valid_pred\",\n",
    "    hue=\"gen_kwargs\",\n",
    "    col=\"dataset\",\n",
    "    row=\"split\",\n",
    "    kind=\"line\",\n",
    "    marker=\"o\",\n",
    "    height=3,\n",
    "    aspect=1.2,\n",
    ")\n",
    "g.set_axis_labels(\"Model Params [B]\", \"Proportion of Valid Predictions\")\n",
    "g.legend.set_title(\"Reasoning\")\n",
    "for ax in g.axes.flat:\n",
    "    ax.set_ylim(0, 1.05)\n",
    "    ax.grid(alpha=0.5)\n"
   ]
  },
  {
   "cell_type": "code",
   "execution_count": null,
   "metadata": {},
   "outputs": [],
   "source": [
    "logger.info(\n",
    "    \"Dropping %d predictions that don't sum to 1\", len(rdf.query(\"~is_valid_pred\"))\n",
    ")\n",
    "rdf.query(\"is_valid_pred\", inplace=True)"
   ]
  },
  {
   "cell_type": "code",
   "execution_count": null,
   "metadata": {},
   "outputs": [],
   "source": [
    "joint_df = pd.merge(\n",
    "    ddf[[\"dataset\", \"split\", \"request_idx\", \"target\"]],\n",
    "    rdf,\n",
    "    on=[\"dataset\", \"split\", \"request_idx\"],\n",
    ")\n",
    "joint_df.head(2)"
   ]
  },
  {
   "cell_type": "code",
   "execution_count": 43,
   "metadata": {},
   "outputs": [],
   "source": [
    "from lewidi_lib import assign_col_ws_loss, assign_col_l0_loss\n",
    "\n",
    "joint_df = assign_col_l0_loss(joint_df)\n",
    "joint_df = assign_col_ws_loss(joint_df)\n"
   ]
  },
  {
   "cell_type": "code",
   "execution_count": null,
   "metadata": {},
   "outputs": [],
   "source": [
    "run_info_cols"
   ]
  },
  {
   "cell_type": "code",
   "execution_count": null,
   "metadata": {},
   "outputs": [],
   "source": [
    "perf_metrics_df = (\n",
    "    joint_df.groupby(\n",
    "        [\"run_id\", \"model_id\", \"model_size\", \"gen_kwargs\", \"dataset\", \"split\"], as_index=False\n",
    "    )\n",
    "    .agg(\n",
    "        avg_ws_loss=(\"ws_loss\", \"mean\"),\n",
    "        # std_ws_loss=(\"ws_loss\", \"std\"),\n",
    "        avg_n_output_tokens=(\"n_output_tokens\", \"mean\"),\n",
    "        # avg_l0_loss=(\"l0_loss\", \"mean\"),\n",
    "        # std_l0_loss=(\"l0_loss\", \"std\"),\n",
    "    )\n",
    "    .sort_values([\"model_size\", \"gen_kwargs\"])\n",
    ")\n",
    "# perf_metrics_df.round(2)"
   ]
  },
  {
   "cell_type": "markdown",
   "metadata": {},
   "source": [
    "# Baseline: Uniform Distribution"
   ]
  },
  {
   "cell_type": "code",
   "execution_count": 46,
   "metadata": {},
   "outputs": [],
   "source": [
    "from lewidi_lib import assign_n_classes, baseline_pred\n",
    "\n",
    "\n",
    "bdf = assign_n_classes(ddf)\n",
    "bdf = bdf.assign(pred=lambda row: row[\"n_classes\"].apply(baseline_pred))\n",
    "bdf = assign_col_ws_loss(bdf)\n",
    "bdf = assign_col_l0_loss(bdf)"
   ]
  },
  {
   "cell_type": "code",
   "execution_count": null,
   "metadata": {},
   "outputs": [],
   "source": [
    "baseline_losses = bdf.groupby([\"dataset\", \"split\"], as_index=False).agg(\n",
    "    {\"ws_loss\": \"mean\", \"l0_loss\": \"mean\"}\n",
    ")\n",
    "baseline_losses"
   ]
  },
  {
   "cell_type": "code",
   "execution_count": null,
   "metadata": {},
   "outputs": [],
   "source": [
    "import seaborn as sns\n",
    "\n",
    "perf_metrics_df[\"model_size\"] = perf_metrics_df[\"model_size\"].astype(str)\n",
    "g = sns.relplot(\n",
    "    data=perf_metrics_df,\n",
    "    x=\"model_size\",\n",
    "    y=\"avg_ws_loss\",\n",
    "    hue=\"gen_kwargs\",\n",
    "    col=\"dataset\",\n",
    "    row=\"split\",\n",
    "    kind=\"line\",\n",
    "    marker=\"o\",\n",
    "    height=3,\n",
    "    aspect=1.5,\n",
    ")\n",
    "g.set(ylim=(0, None))\n",
    "# csc_baseline_ws_loss = baseline_losses.query(\"dataset_name == 'CSC'\")[\"ws_loss\"].values[0]\n",
    "# g.ax.axhline(csc_baseline_ws_loss, color=\"red\", linestyle=\"--\", label=\"Baseline\")\n",
    "g.legend.set_title(\"Reasoning\")\n",
    "g.set_axis_labels(\"Model Params [B]\", \"Wasserstein Distance\")\n",
    "for ax in g.axes.flat:\n",
    "    ax.grid(alpha=0.5)"
   ]
  },
  {
   "cell_type": "code",
   "execution_count": null,
   "metadata": {},
   "outputs": [],
   "source": [
    "g = sns.relplot(\n",
    "    data=perf_metrics_df.assign(model_size=perf_metrics_df[\"model_size\"].astype(\"float\")),\n",
    "    x=\"avg_n_output_tokens\",\n",
    "    y=\"avg_ws_loss\",\n",
    "    hue=\"model_size\",\n",
    "    style=\"gen_kwargs\",\n",
    "    col=\"dataset\",\n",
    "    row=\"split\",\n",
    "    kind=\"scatter\",\n",
    "    height=3,\n",
    "    aspect=1.5,\n",
    ")\n",
    "for ax in g.axes.flat:\n",
    "    ax.grid(alpha=0.5)\n",
    "g.legend.set_title(\"Model Size\")\n",
    "g.set_axis_labels(\"Avg Output Tokens\", \"Wasserstein Distance\")"
   ]
  }
 ],
 "metadata": {
  "kernelspec": {
   "display_name": "venv",
   "language": "python",
   "name": "python3"
  },
  "language_info": {
   "codemirror_mode": {
    "name": "ipython",
    "version": 3
   },
   "file_extension": ".py",
   "mimetype": "text/x-python",
   "name": "python",
   "nbconvert_exporter": "python",
   "pygments_lexer": "ipython3",
   "version": "3.11.9"
  }
 },
 "nbformat": 4,
 "nbformat_minor": 2
}
