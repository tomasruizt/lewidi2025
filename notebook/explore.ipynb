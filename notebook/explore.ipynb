{
 "cells": [
  {
   "cell_type": "code",
   "execution_count": 1,
   "metadata": {},
   "outputs": [],
   "source": [
    "%load_ext autoreload\n",
    "%autoreload 2"
   ]
  },
  {
   "cell_type": "code",
   "execution_count": 2,
   "metadata": {},
   "outputs": [],
   "source": [
    "import pandas as pd\n",
    "import numpy as np\n",
    "import logging\n",
    "\n",
    "logger = logging.getLogger(__name__)"
   ]
  },
  {
   "cell_type": "code",
   "execution_count": null,
   "metadata": {},
   "outputs": [],
   "source": [
    "from lewidi_lib import load_dataset, enable_logging\n",
    "\n",
    "enable_logging()\n",
    "\n",
    "datasets = [\"CSC\", \"MP\"]\n",
    "ddf = pd.concat([load_dataset(d, split=\"train\") for d in datasets])\n",
    "print(len(ddf))\n",
    "ddf.head(2)"
   ]
  },
  {
   "cell_type": "code",
   "execution_count": null,
   "metadata": {},
   "outputs": [],
   "source": [
    "import duckdb\n",
    "from lewidi_lib import process_rdf\n",
    "\n",
    "\n",
    "con = duckdb.connect()\n",
    "rdf = con.sql(\"SELECT * FROM read_parquet('../parquets/*.parquet')\").df()\n",
    "rdf[\"dataset_name\"] = \"CSC\"\n",
    "rdf, reasoning_by_run = process_rdf(rdf)\n",
    "rdf.head(2)"
   ]
  },
  {
   "cell_type": "code",
   "execution_count": null,
   "metadata": {},
   "outputs": [],
   "source": [
    "run_info = (\n",
    "    rdf.groupby([\"run_id\", \"model_id\", \"model_size\"], as_index=False)\n",
    "    .agg(\n",
    "        is_valid_pred=(\"is_valid_pred\", \"mean\"),\n",
    "        n_output_tokens=(\"n_output_tokens\", \"mean\"),\n",
    "    )\n",
    "    .merge(reasoning_by_run, on=\"run_id\", how=\"left\")\n",
    "    .sort_values([\"model_size\", \"is_reasoning\"])\n",
    ")\n",
    "run_info.round(2)"
   ]
  },
  {
   "cell_type": "code",
   "execution_count": null,
   "metadata": {},
   "outputs": [],
   "source": [
    "grun_info = (\n",
    "    run_info.groupby([\"model_id\", \"model_size\", \"is_reasoning\"])\n",
    "    .agg({\"is_valid_pred\": \"mean\", \"n_output_tokens\": \"mean\"})\n",
    "    .sort_values([\"model_size\", \"is_reasoning\"])\n",
    ")\n",
    "grun_info.round(3)"
   ]
  },
  {
   "cell_type": "code",
   "execution_count": null,
   "metadata": {},
   "outputs": [],
   "source": [
    "import seaborn as sns\n",
    "\n",
    "run_info[\"model_size\"] = run_info[\"model_size\"].astype(str)\n",
    "ax = sns.lineplot(\n",
    "    run_info,\n",
    "    x=\"model_size\",\n",
    "    y=\"is_valid_pred\",\n",
    "    hue=\"is_reasoning\",\n",
    "    marker=\"o\",\n",
    ")\n",
    "ax.set_ylabel(\"Proportion of Valid Predictions\")\n",
    "ax.set_xlabel(\"Model Params [B]\")\n",
    "ax.legend(title=\"Reasoning\")\n",
    "ax.set_ylim(0, 1.05)\n",
    "ax.grid(alpha=0.5)\n"
   ]
  },
  {
   "cell_type": "code",
   "execution_count": null,
   "metadata": {},
   "outputs": [],
   "source": [
    "logger.info(\n",
    "    \"Dropping %d predictions that don't sum to 1\", len(rdf.query(\"~is_valid_pred\"))\n",
    ")\n",
    "rdf.query(\"is_valid_pred\", inplace=True)"
   ]
  },
  {
   "cell_type": "code",
   "execution_count": null,
   "metadata": {},
   "outputs": [],
   "source": [
    "joint_df = pd.merge(\n",
    "    ddf[[\"dataset_name\", \"request_idx\", \"target\"]],\n",
    "    rdf,\n",
    "    on=[\"dataset_name\", \"request_idx\"],\n",
    ")\n",
    "joint_df.head(2)"
   ]
  },
  {
   "cell_type": "code",
   "execution_count": 11,
   "metadata": {},
   "outputs": [],
   "source": [
    "from lewidi_lib import assign_col_ws_loss, assign_col_l0_loss\n",
    "\n",
    "joint_df = assign_col_l0_loss(joint_df)\n",
    "joint_df = assign_col_ws_loss(joint_df)\n"
   ]
  },
  {
   "cell_type": "code",
   "execution_count": null,
   "metadata": {},
   "outputs": [],
   "source": [
    "perf_metrics_df = (\n",
    "    joint_df.groupby(\n",
    "        [\"run_id\", \"model_id\", \"model_size\", \"is_reasoning\"], as_index=False\n",
    "    )\n",
    "    .agg(\n",
    "        avg_ws_loss=(\"ws_loss\", \"mean\"),\n",
    "        # std_ws_loss=(\"ws_loss\", \"std\"),\n",
    "        avg_n_output_tokens=(\"n_output_tokens\", \"mean\"),\n",
    "        # avg_l0_loss=(\"l0_loss\", \"mean\"),\n",
    "        # std_l0_loss=(\"l0_loss\", \"std\"),\n",
    "    )\n",
    "    .sort_values([\"model_size\", \"is_reasoning\"])\n",
    ")\n",
    "perf_metrics_df.round(2)"
   ]
  },
  {
   "cell_type": "markdown",
   "metadata": {},
   "source": [
    "# Baseline: Uniform Distribution"
   ]
  },
  {
   "cell_type": "code",
   "execution_count": 13,
   "metadata": {},
   "outputs": [],
   "source": [
    "from lewidi_lib import assign_n_classes, baseline_pred\n",
    "\n",
    "\n",
    "bdf = assign_n_classes(ddf)\n",
    "bdf = bdf.assign(pred=lambda row: row[\"n_classes\"].apply(baseline_pred))\n",
    "bdf = assign_col_ws_loss(bdf)\n",
    "bdf = assign_col_l0_loss(bdf)"
   ]
  },
  {
   "cell_type": "code",
   "execution_count": null,
   "metadata": {},
   "outputs": [],
   "source": [
    "baseline_losses = bdf.groupby(\"dataset_name\", as_index=False).agg(\n",
    "    {\"ws_loss\": \"mean\", \"l0_loss\": \"mean\"}\n",
    ")\n",
    "baseline_losses"
   ]
  },
  {
   "cell_type": "code",
   "execution_count": null,
   "metadata": {},
   "outputs": [],
   "source": [
    "import seaborn as sns\n",
    "\n",
    "perf_metrics_df[\"model_size\"] = perf_metrics_df[\"model_size\"].astype(str)\n",
    "ax = sns.lineplot(\n",
    "    perf_metrics_df,\n",
    "    x=\"model_size\",\n",
    "    y=\"avg_ws_loss\",\n",
    "    hue=\"is_reasoning\",\n",
    "    marker=\"o\",  # Add markers to points\n",
    ")\n",
    "ax.set_ylim(0, None)\n",
    "csc_baseline_ws_loss = baseline_losses.query(\"dataset_name == 'CSC'\")[\"ws_loss\"].values[\n",
    "    0\n",
    "]\n",
    "ax.axhline(csc_baseline_ws_loss, color=\"red\", linestyle=\"--\", label=\"Baseline\")\n",
    "ax.legend(title=\"Reasoning\")  # Show legend\n",
    "ax.set_ylabel(\"Wasserstein Distance (Lower is Better)\")\n",
    "ax.set_xlabel(\"Model Params [B]\")\n",
    "ax.grid(alpha=0.5)"
   ]
  },
  {
   "cell_type": "code",
   "execution_count": null,
   "metadata": {},
   "outputs": [],
   "source": [
    "import matplotlib.pyplot as plt\n",
    "\n",
    "ax = sns.scatterplot(\n",
    "    perf_metrics_df.assign(model_size=perf_metrics_df[\"model_size\"].astype(\"float\")),\n",
    "    x=\"avg_n_output_tokens\",\n",
    "    y=\"avg_ws_loss\",\n",
    "    hue=\"model_size\",\n",
    "    style=\"is_reasoning\",\n",
    ")\n",
    "ax.grid(alpha=0.5)\n",
    "plt.gca().invert_yaxis()\n",
    "plt.legend(bbox_to_anchor=(1.05, 1), loc=\"upper left\")"
   ]
  }
 ],
 "metadata": {
  "kernelspec": {
   "display_name": "venv",
   "language": "python",
   "name": "python3"
  },
  "language_info": {
   "codemirror_mode": {
    "name": "ipython",
    "version": 3
   },
   "file_extension": ".py",
   "mimetype": "text/x-python",
   "name": "python",
   "nbconvert_exporter": "python",
   "pygments_lexer": "ipython3",
   "version": "3.11.9"
  }
 },
 "nbformat": 4,
 "nbformat_minor": 2
}
