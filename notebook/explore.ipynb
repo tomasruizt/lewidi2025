{
 "cells": [
  {
   "cell_type": "code",
   "execution_count": 7,
   "metadata": {},
   "outputs": [
    {
     "name": "stdout",
     "output_type": "stream",
     "text": [
      "The autoreload extension is already loaded. To reload it, use:\n",
      "  %reload_ext autoreload\n"
     ]
    }
   ],
   "source": [
    "%load_ext autoreload\n",
    "%autoreload 2\n",
    "\n",
    "import os\n",
    "\n",
    "\n",
    "os.environ[\"DSS_HOME\"] = \"/mnt/md0/tomasruiz/dss_home\""
   ]
  },
  {
   "cell_type": "code",
   "execution_count": 8,
   "metadata": {},
   "outputs": [],
   "source": [
    "import pandas as pd\n",
    "import logging\n",
    "\n",
    "logger = logging.getLogger(__name__)"
   ]
  },
  {
   "cell_type": "code",
   "execution_count": 9,
   "metadata": {},
   "outputs": [],
   "source": [
    "from lewidi_lib import load_dataset, enable_logging\n",
    "\n",
    "enable_logging()\n",
    "\n",
    "datasets = [\"CSC\", \"MP\", \"Paraphrase\"]  # VariErrNLI neeeds lots of refactoring\n",
    "splits = [\"train\"]  # , \"dev\"]\n",
    "ddf = pd.concat([load_dataset(d, split=s) for d in datasets for s in splits])"
   ]
  },
  {
   "cell_type": "code",
   "execution_count": 18,
   "metadata": {},
   "outputs": [
    {
     "data": {
      "text/plain": [
       "[(PosixPath('/mnt/md0/tomasruiz/dss_home/lewidi-data/sbatch/di38bec/Qwen_Qwen3-0.6B/set2/t31/CSC/train/allex_10loops/preds/responses.parquet'),\n",
       "  False),\n",
       " (PosixPath('/mnt/md0/tomasruiz/dss_home/lewidi-data/sbatch/di38bec/Qwen_Qwen3-1.7B/set2/t31/CSC/train/allex_10loops/preds/responses.parquet'),\n",
       "  False),\n",
       " (PosixPath('/mnt/md0/tomasruiz/dss_home/lewidi-data/sbatch/di38bec/Qwen_Qwen3-4B/set2/t31/CSC/train/allex_10loops/preds/responses.parquet'),\n",
       "  False),\n",
       " (PosixPath('/mnt/md0/tomasruiz/dss_home/lewidi-data/sbatch/di38bec/Qwen_Qwen3-8B/set2/t31/CSC/train/allex_10loops/preds/responses.parquet'),\n",
       "  False),\n",
       " (PosixPath('/mnt/md0/tomasruiz/dss_home/lewidi-data/sbatch/di38bec/Qwen_Qwen3-14B/set2/t31/CSC/train/allex_10loops/preds/responses.parquet'),\n",
       "  False),\n",
       " (PosixPath('/mnt/md0/tomasruiz/dss_home/lewidi-data/sbatch/di38bec/Qwen_Qwen3-32B/set2/t31/CSC/train/allex_10loops/preds/responses.parquet'),\n",
       "  False),\n",
       " (PosixPath('/mnt/md0/tomasruiz/dss_home/lewidi-data/sbatch/di38bec/Qwen_Qwen3-0.6B/set2/t31/MP/train/allex_10loops/preds/responses.parquet'),\n",
       "  False),\n",
       " (PosixPath('/mnt/md0/tomasruiz/dss_home/lewidi-data/sbatch/di38bec/Qwen_Qwen3-1.7B/set2/t31/MP/train/allex_10loops/preds/responses.parquet'),\n",
       "  False),\n",
       " (PosixPath('/mnt/md0/tomasruiz/dss_home/lewidi-data/sbatch/di38bec/Qwen_Qwen3-4B/set2/t31/MP/train/allex_10loops/preds/responses.parquet'),\n",
       "  False),\n",
       " (PosixPath('/mnt/md0/tomasruiz/dss_home/lewidi-data/sbatch/di38bec/Qwen_Qwen3-8B/set2/t31/MP/train/allex_10loops/preds/responses.parquet'),\n",
       "  False),\n",
       " (PosixPath('/mnt/md0/tomasruiz/dss_home/lewidi-data/sbatch/di38bec/Qwen_Qwen3-14B/set2/t31/MP/train/allex_10loops/preds/responses.parquet'),\n",
       "  False),\n",
       " (PosixPath('/mnt/md0/tomasruiz/dss_home/lewidi-data/sbatch/di38bec/Qwen_Qwen3-32B/set2/t31/MP/train/allex_10loops/preds/responses.parquet'),\n",
       "  False),\n",
       " (PosixPath('/mnt/md0/tomasruiz/dss_home/lewidi-data/sbatch/di38bec/Qwen_Qwen3-0.6B/set2/t31/Paraphrase/train/allex_10loops/preds/responses.parquet'),\n",
       "  False),\n",
       " (PosixPath('/mnt/md0/tomasruiz/dss_home/lewidi-data/sbatch/di38bec/Qwen_Qwen3-1.7B/set2/t31/Paraphrase/train/allex_10loops/preds/responses.parquet'),\n",
       "  False),\n",
       " (PosixPath('/mnt/md0/tomasruiz/dss_home/lewidi-data/sbatch/di38bec/Qwen_Qwen3-4B/set2/t31/Paraphrase/train/allex_10loops/preds/responses.parquet'),\n",
       "  False),\n",
       " (PosixPath('/mnt/md0/tomasruiz/dss_home/lewidi-data/sbatch/di38bec/Qwen_Qwen3-8B/set2/t31/Paraphrase/train/allex_10loops/preds/responses.parquet'),\n",
       "  False),\n",
       " (PosixPath('/mnt/md0/tomasruiz/dss_home/lewidi-data/sbatch/di38bec/Qwen_Qwen3-14B/set2/t31/Paraphrase/train/allex_10loops/preds/responses.parquet'),\n",
       "  False),\n",
       " (PosixPath('/mnt/md0/tomasruiz/dss_home/lewidi-data/sbatch/di38bec/Qwen_Qwen3-32B/set2/t31/Paraphrase/train/allex_10loops/preds/responses.parquet'),\n",
       "  False)]"
      ]
     },
     "execution_count": 18,
     "metadata": {},
     "output_type": "execute_result"
    }
   ],
   "source": [
    "from lewidi_lib import preds_file\n",
    "\n",
    "models = [\n",
    "    \"Qwen/Qwen3-0.6B\",\n",
    "    \"Qwen/Qwen3-1.7B\",\n",
    "    \"Qwen/Qwen3-4B\",\n",
    "    \"Qwen/Qwen3-8B\",\n",
    "    \"Qwen/Qwen3-14B\",\n",
    "    \"Qwen/Qwen3-32B\",\n",
    "]\n",
    "\n",
    "preds_files = []\n",
    "for dataset in datasets:\n",
    "    for model in models:\n",
    "        file = preds_file(dataset=dataset, split=\"train\", template=31, model_id=model, run_name=\"allex_10loops\")\n",
    "        preds_files.append((file, file.exists()))\n",
    "\n",
    "preds_files"
   ]
  },
  {
   "cell_type": "code",
   "execution_count": null,
   "metadata": {},
   "outputs": [],
   "source": [
    "import duckdb\n",
    "from lewidi_lib import assign_col_template_alias, load_preds, process_rdf\n",
    "\n",
    "\n",
    "def narrow_down_analysis(rdf: pd.DataFrame) -> pd.DataFrame:\n",
    "    # keep gen_kwargs == 'gemini-defaults'\n",
    "    rdf = rdf.query(\n",
    "        \"~template_id.isin([0, 1, 4]) and ~gen_kwargs.isin(['set1', 'thinking'])\"\n",
    "    )\n",
    "    assert len(rdf) > 0\n",
    "    return rdf\n",
    "\n",
    "\n",
    "con = duckdb.connect()\n",
    "rdf = load_preds(parquets_dir=\"../parquets\")\n",
    "rdf = narrow_down_analysis(rdf)\n",
    "rdf = process_rdf(rdf)"
   ]
  },
  {
   "cell_type": "markdown",
   "metadata": {},
   "source": [
    "import seaborn as sns\n",
    "\n",
    "g = sns.relplot(\n",
    "    data=rdf,\n",
    "    x=\"model_size\",\n",
    "    y=\"is_valid_pred\",\n",
    "    hue=\"gen_kwargs\",\n",
    "    col=\"template_alias\",\n",
    "    row=\"split\",\n",
    "    # row_order=[\"train\", \"dev\"],\n",
    "    kind=\"line\",\n",
    "    style=\"gen_kwargs\",\n",
    "    marker=\"o\",\n",
    "    height=3,\n",
    "    aspect=1.2,\n",
    ")\n",
    "g.set_axis_labels(\"Model Params [B]\", \"Valid Preds\")\n",
    "for ax in g.axes.flat:\n",
    "    ax.set_ylim(0, 1.05)\n",
    "    ax.grid(alpha=0.5)\n"
   ]
  },
  {
   "cell_type": "code",
   "execution_count": null,
   "metadata": {},
   "outputs": [],
   "source": [
    "logger.info(\n",
    "    \"Dropping %d predictions that don't sum to 1\", len(rdf.query(\"~is_valid_pred\"))\n",
    ")\n",
    "rdf.query(\"is_valid_pred\", inplace=True)"
   ]
  },
  {
   "cell_type": "code",
   "execution_count": null,
   "metadata": {},
   "outputs": [],
   "source": [
    "from lewidi_lib import assign_cols_perf_metrics_softlabel, join_dataset_and_preds\n",
    "\n",
    "joint_df = join_dataset_and_preds(ddf, rdf).pipe(assign_cols_perf_metrics_softlabel)"
   ]
  },
  {
   "cell_type": "markdown",
   "metadata": {},
   "source": [
    "# Baselines"
   ]
  },
  {
   "cell_type": "code",
   "execution_count": null,
   "metadata": {},
   "outputs": [],
   "source": [
    "from lewidi_lib import (\n",
    "    compute_average_baseline_and_assing_perf_metrics,\n",
    "    compute_baseline_entropy,\n",
    "    compute_majority_baseline,\n",
    "    compute_target_entropy,\n",
    "    compute_unif_baseline_perf_metrics,\n",
    "    agg_perf_metrics,\n",
    "    compute_smoothed_baseline,\n",
    "    compute_best_wsloss_baseline,\n",
    "    process_rdf_and_add_perf_metrics,\n",
    ")\n",
    "\n",
    "\n",
    "majority_baseline = compute_majority_baseline(ddf)\n",
    "agg_majority_baseline = agg_perf_metrics(majority_baseline)\n",
    "average_baseline = compute_average_baseline_and_assing_perf_metrics(rdf)\n",
    "smoothed_baseline = compute_smoothed_baseline(rdf)\n",
    "best_wsloss_baseline = compute_best_wsloss_baseline(joint_df)\n",
    "unif_baseline_perf_metrics = compute_unif_baseline_perf_metrics(ddf)\n",
    "unif_baseline_entropy = compute_baseline_entropy(datasets)\n",
    "target_entropy = compute_target_entropy(ddf)"
   ]
  },
  {
   "cell_type": "code",
   "execution_count": null,
   "metadata": {},
   "outputs": [],
   "source": [
    "strong_baselines_raw = (\n",
    "    load_preds(\"../parquets/baseline\")\n",
    "    .pipe(narrow_down_analysis)\n",
    "    .pipe(process_rdf_and_add_perf_metrics)\n",
    ")\n",
    "strong_baselines_agg = strong_baselines_raw.pipe(agg_perf_metrics)"
   ]
  },
  {
   "cell_type": "markdown",
   "metadata": {},
   "source": [
    "# Is Performance Correlated With Size?"
   ]
  },
  {
   "cell_type": "code",
   "execution_count": null,
   "metadata": {},
   "outputs": [],
   "source": [
    "from lewidi_lib import plot_horizontal_lines\n",
    "import seaborn as sns\n",
    "\n",
    "cols_ = [\"template_id\", \"model_id\", \"model_size\", \"gen_kwargs\", \"dataset\", \"ws_loss\"]\n",
    "data_ = (\n",
    "    pd.concat(\n",
    "        [\n",
    "            joint_df[cols_].assign(model_type=\"Simple\"),\n",
    "            average_baseline[cols_].assign(model_type=\"Averaging\"),\n",
    "            smoothed_baseline[cols_].assign(model_type=\"Smoothed\"),\n",
    "            best_wsloss_baseline[cols_].assign(model_type=\"BoN Oracle\"),\n",
    "        ]\n",
    "    )\n",
    "    .pipe(assign_col_template_alias)\n",
    "    .query(\"gen_kwargs == 'set2'\")\n",
    ")\n",
    "\n",
    "g = sns.relplot(\n",
    "    data=data_,\n",
    "    x=\"model_size\",\n",
    "    y=\"ws_loss\",\n",
    "    hue=\"model_type\",\n",
    "    col=\"template_alias\",\n",
    "    col_order=sorted(data_[\"template_alias\"].unique()),\n",
    "    row=\"dataset\",\n",
    "    row_order=[\"CSC\", \"MP\", \"Paraphrase\"],\n",
    "    kind=\"line\",\n",
    "    marker=\"o\",\n",
    "    # hue=\"gen_kwargs\",\n",
    "    # style=\"gen_kwargs\",\n",
    "    height=3,\n",
    "    aspect=1.2,\n",
    "    facet_kws={\"sharey\": \"row\"},\n",
    ")\n",
    "# g.set(ylim=(0, None))\n",
    "g.set_axis_labels(\"Model Params [B]\", \"Wasserstein Distance\")\n",
    "plot_horizontal_lines(\n",
    "    g,\n",
    "    unif_baseline_perf_metrics,\n",
    "    label=\"Uniform Baseline\",\n",
    "    color=\"blue\",\n",
    "    data_col=\"ws_loss\",\n",
    ")\n",
    "plot_horizontal_lines(\n",
    "    g, strong_baselines_agg, label=\"Gemini 2.5 Pro\", color=\"red\", data_col=\"ws_loss\"\n",
    ")\n",
    "plot_horizontal_lines(\n",
    "    g,\n",
    "    agg_majority_baseline,\n",
    "    label=\"Majority Baseline\",\n",
    "    color=\"green\",\n",
    "    data_col=\"ws_loss\",\n",
    ")"
   ]
  },
  {
   "cell_type": "markdown",
   "metadata": {},
   "source": [
    "# Is performance correlated with avg entropy?"
   ]
  },
  {
   "cell_type": "code",
   "execution_count": null,
   "metadata": {},
   "outputs": [],
   "source": [
    "ent_data_ = pd.concat(\n",
    "    [\n",
    "        joint_df.assign(model_type=\"Simple\"),\n",
    "        average_baseline.assign(model_type=\"Averaging\"),\n",
    "        smoothed_baseline.assign(model_type=\"Smoothed\"),\n",
    "        best_wsloss_baseline.assign(model_type=\"Best WS Loss\"),\n",
    "    ]\n",
    ")\n",
    "\n",
    "g = sns.relplot(\n",
    "    data=ent_data_,\n",
    "    x=\"model_size\",\n",
    "    y=\"pred_entropy\",\n",
    "    hue=\"model_type\",\n",
    "    col=\"template_alias\",\n",
    "    col_order=sorted(ent_data_[\"template_alias\"].unique()),\n",
    "    row=\"dataset\",\n",
    "    row_order=[\"CSC\", \"MP\"],\n",
    "    kind=\"line\",\n",
    "    style=\"model_type\",\n",
    "    marker=\"o\",\n",
    "    height=3,\n",
    "    aspect=1.2,\n",
    "    facet_kws={\"sharey\": \"row\", \"sharex\": True},\n",
    ")\n",
    "for ax in g.axes.flat:\n",
    "    ax.grid(alpha=0.5)\n",
    "plot_horizontal_lines(\n",
    "    g,\n",
    "    unif_baseline_entropy,\n",
    "    label=\"Uniform Entropy\",\n",
    "    color=\"blue\",\n",
    "    data_col=\"entropy\",\n",
    "    dataset=\"CSC\",\n",
    ")\n",
    "plot_horizontal_lines(\n",
    "    g,\n",
    "    target_entropy,\n",
    "    label=\"Target Entropy\",\n",
    "    color=\"green\",\n",
    "    data_col=\"entropy\",\n",
    "    dataset=\"CSC\",\n",
    "    split=\"train\",\n",
    ")"
   ]
  },
  {
   "cell_type": "markdown",
   "metadata": {},
   "source": [
    "ent_df = joint_df.groupby(\n",
    "    [\"model_size\", \"gen_kwargs\", \"dataset\", \"split\"], as_index=False\n",
    ").agg(\n",
    "    avg_entropy=(\"pred_entropy\", \"mean\"),\n",
    "    avg_ws_loss=(\"ws_loss\", \"mean\"),\n",
    ")\n"
   ]
  },
  {
   "cell_type": "markdown",
   "metadata": {},
   "source": [
    "g = sns.relplot(\n",
    "    ent_df,\n",
    "    x=\"avg_entropy\",\n",
    "    y=\"avg_ws_loss\",\n",
    "    hue=\"model_size\",\n",
    "    style=\"gen_kwargs\",\n",
    "    col=\"split\",\n",
    "    # col_order=[\"train\", \"dev\"],\n",
    "    row=\"dataset\",\n",
    "    # row_order=[\"CSC\", \"MP\"],\n",
    "    kind=\"scatter\",\n",
    "    height=2.5,\n",
    "    aspect=1.2,\n",
    "    facet_kws={\"sharey\": False, \"sharex\": False},\n",
    "    palette=\"viridis\",\n",
    ")\n",
    "for ax in g.axes.flat:\n",
    "    ax.grid(alpha=0.5)\n",
    "plot_horizontal_lines(\n",
    "    g, unif_baseline_perf_metrics, label=\"Uniform Baseline\", color=\"blue\"\n",
    ")\n",
    "plot_horizontal_lines(g, strong_baselines, label=\"Gemini 2.5 Pro\", color=\"red\")\n"
   ]
  }
 ],
 "metadata": {
  "kernelspec": {
   "display_name": "venv",
   "language": "python",
   "name": "python3"
  },
  "language_info": {
   "codemirror_mode": {
    "name": "ipython",
    "version": 3
   },
   "file_extension": ".py",
   "mimetype": "text/x-python",
   "name": "python",
   "nbconvert_exporter": "python",
   "pygments_lexer": "ipython3",
   "version": "3.11.9"
  }
 },
 "nbformat": 4,
 "nbformat_minor": 2
}
