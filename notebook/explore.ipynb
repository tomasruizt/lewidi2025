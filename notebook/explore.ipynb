{
 "cells": [
  {
   "cell_type": "code",
   "execution_count": 1,
   "metadata": {},
   "outputs": [],
   "source": [
    "%load_ext autoreload\n",
    "%autoreload 2"
   ]
  },
  {
   "cell_type": "code",
   "execution_count": 2,
   "metadata": {},
   "outputs": [],
   "source": [
    "from typing import Any\n",
    "import pandas as pd\n",
    "import numpy as np\n",
    "import logging\n",
    "\n",
    "logger = logging.getLogger(__name__)\n",
    "\n",
    "\n",
    "def soft_label_to_nparray(d: dict | Any) -> np.ndarray:\n",
    "    if not isinstance(d, dict):\n",
    "        logger.info(\"Not a dict: %s\", repr(d))\n",
    "        return pd.NA\n",
    "\n",
    "    array = np.zeros(6)\n",
    "    for k, v in d.items():\n",
    "        try:\n",
    "            array[int(k) - 1] = v\n",
    "        except ValueError:\n",
    "            logger.warning(\"Invalid key: %s\", k)\n",
    "            return pd.NA\n",
    "    return array\n"
   ]
  },
  {
   "cell_type": "code",
   "execution_count": null,
   "metadata": {},
   "outputs": [],
   "source": [
    "from lewidi_lib import load_dataset, enable_logging\n",
    "\n",
    "enable_logging()\n",
    "\n",
    "ddf = load_dataset(dataset=\"CSC\")\n",
    "ddf = ddf.assign(request_idx=range(len(ddf)))\n",
    "ddf[\"target\"] = ddf[\"soft_label\"].apply(soft_label_to_nparray)\n",
    "print(len(ddf))\n",
    "ddf.head(2)"
   ]
  },
  {
   "cell_type": "code",
   "execution_count": null,
   "metadata": {},
   "outputs": [],
   "source": [
    "import duckdb\n",
    "\n",
    "\n",
    "con = duckdb.connect()\n",
    "rdf = con.sql(\"SELECT * FROM read_parquet('parquets/*.parquet')\").df()\n",
    "rdf[\"model_size\"] = rdf[\"model_id\"].str.extract(r\"-(\\d+(?:\\.\\d+)?)B$\").astype(\"float\")\n",
    "are_na = len(rdf.query(\"response.isna()\"))\n",
    "logger.info(\"Number of responses that are NA: %d\", are_na)\n",
    "rdf.query(\"~response.isna()\", inplace=True)\n",
    "rdf[\"response\"] = rdf[\"response\"].str.strip()\n",
    "rdf.head(2)"
   ]
  },
  {
   "cell_type": "code",
   "execution_count": null,
   "metadata": {},
   "outputs": [],
   "source": [
    "import json_repair\n",
    "\n",
    "rdf[\"pred\"] = rdf[\"response\"].apply(json_repair.loads).apply(soft_label_to_nparray)\n",
    "logger.info(\"Dropping %d NA predictions\", len(rdf.query(\"pred.isna()\")))\n",
    "rdf.query(\"~pred.isna()\", inplace=True)\n",
    "\n",
    "rdf[\"pred_sum\"] = rdf[\"pred\"].apply(lambda x: x.sum())\n",
    "rdf[\"is_valid_pred\"] = (rdf[\"pred_sum\"] - 1).abs() < 0.01\n",
    "rdf[\"reasoning_isnull\"] = rdf[\"reasoning\"].isna()\n",
    "\n",
    "# Add columns indicating if the run has reasoning\n",
    "reasoning_by_run = rdf.groupby(\"run_id\", as_index=False).agg(\n",
    "    is_reasoning=(\"reasoning_isnull\", lambda x: ~x.max())\n",
    ")\n",
    "rdf = rdf.merge(reasoning_by_run, on=\"run_id\", how=\"left\").drop(\n",
    "    columns=[\"reasoning_isnull\"]\n",
    ")\n",
    "rdf.head(2)"
   ]
  },
  {
   "cell_type": "code",
   "execution_count": null,
   "metadata": {},
   "outputs": [],
   "source": [
    "run_info = (\n",
    "    rdf.groupby([\"run_id\", \"model_id\", \"model_size\"], as_index=False)\n",
    "    .agg(\n",
    "        is_valid_pred=(\"is_valid_pred\", \"mean\"),\n",
    "        n_output_tokens=(\"n_output_tokens\", \"mean\"),\n",
    "    )\n",
    "    .merge(reasoning_by_run, on=\"run_id\", how=\"left\")\n",
    "    .sort_values([\"model_size\", \"is_reasoning\"])\n",
    ")\n",
    "run_info.round(2)"
   ]
  },
  {
   "cell_type": "code",
   "execution_count": null,
   "metadata": {},
   "outputs": [],
   "source": [
    "run_info.groupby([\"model_id\", \"model_size\", \"is_reasoning\"]).agg(\n",
    "    {\"is_valid_pred\": \"mean\", \"n_output_tokens\": \"mean\"}\n",
    ").sort_values([\"model_size\", \"is_reasoning\"]).round(3)"
   ]
  },
  {
   "cell_type": "code",
   "execution_count": null,
   "metadata": {},
   "outputs": [],
   "source": [
    "logger.info(\n",
    "    \"Dropping %d predictions that don't sum to 1\", len(rdf.query(\"~is_valid_pred\"))\n",
    ")\n",
    "rdf.query(\"is_valid_pred\", inplace=True)"
   ]
  },
  {
   "cell_type": "code",
   "execution_count": null,
   "metadata": {},
   "outputs": [],
   "source": [
    "joint_df = pd.merge(\n",
    "    ddf[[\"request_idx\", \"target\"]],\n",
    "    rdf,\n",
    "    on=\"request_idx\",\n",
    ")\n",
    "joint_df.head(2)"
   ]
  },
  {
   "cell_type": "code",
   "execution_count": 10,
   "metadata": {},
   "outputs": [],
   "source": [
    "import scipy\n",
    "\n",
    "\n",
    "def l0_loss(tgt: np.ndarray, pred: np.ndarray) -> float:\n",
    "    return np.abs(tgt - pred).sum()\n",
    "\n",
    "\n",
    "def ws_loss(tgt: np.ndarray, pred: np.ndarray) -> float:\n",
    "    \"\"\"wasserstein distance between two distributions https://stackoverflow.com/a/76061410/5730291\"\"\"\n",
    "    return scipy.stats.wasserstein_distance(range(6), range(6), tgt, pred)\n",
    "\n",
    "\n",
    "joint_df[\"l0_loss\"] = joint_df.apply(\n",
    "    lambda row: l0_loss(row[\"target\"], row[\"pred\"]), axis=1\n",
    ")\n",
    "joint_df[\"ws_loss\"] = joint_df.apply(\n",
    "    lambda row: ws_loss(row[\"target\"], row[\"pred\"]), axis=1\n",
    ")"
   ]
  },
  {
   "cell_type": "code",
   "execution_count": null,
   "metadata": {},
   "outputs": [],
   "source": [
    "perf_metrics_df = (\n",
    "    joint_df.groupby(\n",
    "        [\"run_id\", \"model_id\", \"model_size\", \"is_reasoning\"], as_index=False\n",
    "    )\n",
    "    .agg(\n",
    "        avg_ws_loss=(\"ws_loss\", \"mean\"),\n",
    "        # std_ws_loss=(\"ws_loss\", \"std\"),\n",
    "        avg_n_output_tokens=(\"n_output_tokens\", \"mean\"),\n",
    "        # avg_l0_loss=(\"l0_loss\", \"mean\"),\n",
    "        # std_l0_loss=(\"l0_loss\", \"std\"),\n",
    "    )\n",
    "    .sort_values([\"model_size\", \"is_reasoning\"])\n",
    ")\n",
    "perf_metrics_df.round(2)"
   ]
  },
  {
   "cell_type": "markdown",
   "metadata": {},
   "source": [
    "# Baseline: Uniform Distribution"
   ]
  },
  {
   "cell_type": "code",
   "execution_count": null,
   "metadata": {},
   "outputs": [],
   "source": [
    "import seaborn as sns\n",
    "\n",
    "baseline_pred = np.ones(6) / 6\n",
    "assert np.isclose(1, baseline_pred.sum())\n",
    "baseline_ws_losses = ddf[\"target\"].apply(lambda tgt: ws_loss(tgt, pred=baseline_pred))\n",
    "print(\"baseline Wasserstein loss:\", baseline_ws_losses.mean().round(3))\n",
    "baseline_l0_losses = ddf[\"target\"].apply(lambda tgt: l0_loss(tgt, pred=baseline_pred))\n",
    "print(\"baseline L0 loss:\", baseline_l0_losses.mean().round(3))\n",
    "# ax = sns.histplot(baseline_ws_losses, bins=5, kde=True, stat=\"density\")\n",
    "# ax.set_xlabel(\"Wasserstein Distance\")\n",
    "# ax.set_title(\"Baseline\")"
   ]
  },
  {
   "cell_type": "code",
   "execution_count": null,
   "metadata": {},
   "outputs": [],
   "source": [
    "import seaborn as sns\n",
    "\n",
    "perf_metrics_df[\"model_size\"] = perf_metrics_df[\"model_size\"].astype(str)\n",
    "ax = sns.lineplot(\n",
    "    perf_metrics_df,\n",
    "    x=\"model_size\",\n",
    "    y=\"avg_ws_loss\",\n",
    "    hue=\"is_reasoning\",\n",
    "    marker=\"o\",  # Add markers to points\n",
    ")\n",
    "ax.set_ylim(0, None)\n",
    "ax.axhline(\n",
    "    baseline_ws_losses.mean(), color=\"red\", linestyle=\"--\", label=\"Baseline\"\n",
    ")  # Add label and dashed line\n",
    "ax.legend()  # Show legend\n",
    "ax.grid(alpha=0.5)"
   ]
  },
  {
   "cell_type": "code",
   "execution_count": null,
   "metadata": {},
   "outputs": [],
   "source": [
    "import matplotlib.pyplot as plt\n",
    "\n",
    "ax = sns.scatterplot(\n",
    "    perf_metrics_df.assign(model_size=perf_metrics_df[\"model_size\"].astype(\"float\")),\n",
    "    x=\"avg_n_output_tokens\",\n",
    "    y=\"avg_ws_loss\",\n",
    "    hue=\"model_size\",\n",
    "    style=\"is_reasoning\",\n",
    ")\n",
    "ax.grid(alpha=0.5)\n",
    "plt.gca().invert_yaxis()\n",
    "plt.legend(bbox_to_anchor=(1.05, 1), loc=\"upper left\")"
   ]
  }
 ],
 "metadata": {
  "kernelspec": {
   "display_name": "venv",
   "language": "python",
   "name": "python3"
  },
  "language_info": {
   "codemirror_mode": {
    "name": "ipython",
    "version": 3
   },
   "file_extension": ".py",
   "mimetype": "text/x-python",
   "name": "python",
   "nbconvert_exporter": "python",
   "pygments_lexer": "ipython3",
   "version": "3.11.9"
  }
 },
 "nbformat": 4,
 "nbformat_minor": 2
}
