{
 "cells": [
  {
   "cell_type": "code",
   "execution_count": 1,
   "metadata": {},
   "outputs": [],
   "source": [
    "%load_ext autoreload\n",
    "%autoreload 2"
   ]
  },
  {
   "cell_type": "code",
   "execution_count": 2,
   "metadata": {},
   "outputs": [],
   "source": [
    "import pandas as pd\n",
    "import logging\n",
    "\n",
    "logger = logging.getLogger(__name__)"
   ]
  },
  {
   "cell_type": "code",
   "execution_count": null,
   "metadata": {},
   "outputs": [],
   "source": [
    "from lewidi_lib import load_dataset, enable_logging\n",
    "\n",
    "enable_logging()\n",
    "\n",
    "datasets = [\"CSC\", \"MP\"]\n",
    "splits = [\"train\", \"dev\"]\n",
    "ddf = pd.concat([load_dataset(d, split=s) for d in datasets for s in splits])\n",
    "print(len(ddf))\n",
    "ddf.head(2)"
   ]
  },
  {
   "cell_type": "code",
   "execution_count": null,
   "metadata": {},
   "outputs": [],
   "source": [
    "import duckdb\n",
    "from lewidi_lib import load_preds, process_rdf\n",
    "\n",
    "con = duckdb.connect()\n",
    "rdf = load_preds(parquets_dir=\"../parquets\")\n",
    "rdf = process_rdf(rdf)"
   ]
  },
  {
   "cell_type": "code",
   "execution_count": null,
   "metadata": {},
   "outputs": [],
   "source": [
    "import seaborn as sns\n",
    "\n",
    "g = sns.relplot(\n",
    "    data=rdf,\n",
    "    x=\"model_size\",\n",
    "    y=\"is_valid_pred\",\n",
    "    hue=\"gen_kwargs\",\n",
    "    col=\"template_id\",\n",
    "    row=\"split\",\n",
    "    # row_order=[\"train\", \"dev\"],\n",
    "    kind=\"line\",\n",
    "    style=\"gen_kwargs\",\n",
    "    marker=\"o\",\n",
    "    height=3,\n",
    "    aspect=1.2,\n",
    ")\n",
    "g.set_axis_labels(\"Model Params [B]\", \"Valid Preds\")\n",
    "for ax in g.axes.flat:\n",
    "    ax.set_ylim(0, 1.05)\n",
    "    ax.grid(alpha=0.5)\n"
   ]
  },
  {
   "cell_type": "code",
   "execution_count": null,
   "metadata": {},
   "outputs": [],
   "source": [
    "logger.info(\n",
    "    \"Dropping %d predictions that don't sum to 1\", len(rdf.query(\"~is_valid_pred\"))\n",
    ")\n",
    "rdf.query(\"is_valid_pred\", inplace=True)"
   ]
  },
  {
   "cell_type": "code",
   "execution_count": 7,
   "metadata": {},
   "outputs": [],
   "source": [
    "from lewidi_lib import assign_cols_perf_metrics, join_dataset_and_preds\n",
    "\n",
    "joint_df = join_dataset_and_preds(ddf, rdf).pipe(assign_cols_perf_metrics)"
   ]
  },
  {
   "cell_type": "markdown",
   "metadata": {},
   "source": [
    "# Baseline: Gemini 2.5 Pro"
   ]
  },
  {
   "cell_type": "code",
   "execution_count": null,
   "metadata": {},
   "outputs": [],
   "source": [
    "load_preds(\"../parquets/baseline\")[\"success\"].value_counts()"
   ]
  },
  {
   "cell_type": "code",
   "execution_count": null,
   "metadata": {},
   "outputs": [],
   "source": [
    "from lewidi_lib import join_correct_responses\n",
    "\n",
    "\n",
    "strong_baselines_rdf = load_preds(\"../parquets/baseline\")\n",
    "strong_baselines_rdf = (\n",
    "    strong_baselines_rdf.pipe(process_rdf)\n",
    "    .pipe(join_correct_responses)\n",
    "    .pipe(assign_cols_perf_metrics)\n",
    ")\n",
    "strong_baselines = strong_baselines_rdf.groupby(\n",
    "    [\"model_id\", \"dataset\", \"split\", \"template_id\"], as_index=False\n",
    ").agg(\n",
    "    ws_loss=(\"ws_loss\", \"mean\"),\n",
    "    pred_entropy=(\"pred_entropy\", \"mean\"),\n",
    ")\n",
    "strong_baselines"
   ]
  },
  {
   "cell_type": "markdown",
   "metadata": {},
   "source": [
    "# Baseline: Uniform Distribution"
   ]
  },
  {
   "cell_type": "code",
   "execution_count": 10,
   "metadata": {},
   "outputs": [],
   "source": [
    "from lewidi_lib import assign_n_classes, baseline_pred\n",
    "\n",
    "\n",
    "bdf = assign_n_classes(ddf)\n",
    "bdf = bdf.assign(pred=lambda row: row[\"n_classes\"].apply(baseline_pred))\n",
    "bdf = assign_cols_perf_metrics(bdf)"
   ]
  },
  {
   "cell_type": "code",
   "execution_count": 11,
   "metadata": {},
   "outputs": [],
   "source": [
    "baseline_losses = (\n",
    "    bdf.groupby([\"dataset\", \"split\"], as_index=False)\n",
    "    .agg({\"ws_loss\": \"mean\", \"l0_loss\": \"mean\"})\n",
    "    .merge(pd.Series(rdf[\"template_id\"].unique(), name=\"template_id\"), how=\"cross\")\n",
    ")"
   ]
  },
  {
   "cell_type": "code",
   "execution_count": 12,
   "metadata": {},
   "outputs": [],
   "source": [
    "from lewidi_lib import n_classes\n",
    "import scipy\n",
    "import scipy.stats\n",
    "\n",
    "baseline_entropy = pd.DataFrame(\n",
    "    {\n",
    "        \"entropy\": [scipy.stats.entropy(baseline_pred(n_classes(d))) for d in datasets],\n",
    "        \"dataset\": datasets,\n",
    "    }\n",
    ")"
   ]
  },
  {
   "cell_type": "markdown",
   "metadata": {},
   "source": [
    "# Is Performance Correlated With Size?"
   ]
  },
  {
   "cell_type": "code",
   "execution_count": null,
   "metadata": {},
   "outputs": [],
   "source": [
    "from lewidi_lib import plot_baseline_losses\n",
    "import seaborn as sns\n",
    "\n",
    "g = sns.relplot(\n",
    "    data=joint_df,\n",
    "    x=\"model_size\",\n",
    "    y=\"ws_loss\",\n",
    "    # hue=\"template_id\",\n",
    "    col=\"template_id\",\n",
    "    # col_order=[\"train\", \"dev\"],\n",
    "    row=\"dataset\",\n",
    "    # row_order=[\"CSC\", \"MP\"],\n",
    "    kind=\"line\",\n",
    "    marker=\"o\",\n",
    "    hue=\"gen_kwargs\",\n",
    "    style=\"gen_kwargs\",\n",
    "    height=3,\n",
    "    aspect=1.2,\n",
    "    facet_kws={\"sharey\": True},\n",
    ")\n",
    "# g.set(ylim=(0, None))\n",
    "g.set_axis_labels(\"Model Params [B]\", \"Wasserstein Distance\")\n",
    "plot_baseline_losses(\n",
    "    g, baseline_losses, split=\"train\", label=\"Uniform Baseline\", color=\"blue\"\n",
    ")\n",
    "plot_baseline_losses(\n",
    "    g, strong_baselines, split=\"train\", label=\"Gemini 2.5 Pro\", color=\"red\"\n",
    ")"
   ]
  },
  {
   "cell_type": "markdown",
   "metadata": {},
   "source": [
    "# Is performance correlated with avg entropy?"
   ]
  },
  {
   "cell_type": "code",
   "execution_count": null,
   "metadata": {},
   "outputs": [],
   "source": [
    "from lewidi_lib import plot_baseline_entropy\n",
    "\n",
    "\n",
    "g = sns.relplot(\n",
    "    data=joint_df,\n",
    "    x=\"model_size\",\n",
    "    y=\"pred_entropy\",\n",
    "    hue=\"gen_kwargs\",\n",
    "    col=\"split\",\n",
    "    # col_order=[\"train\", \"dev\"],\n",
    "    row=\"dataset\",\n",
    "    kind=\"line\",\n",
    "    # style=\"gen_kwargs\",\n",
    "    marker=\"o\",\n",
    "    height=2.5,\n",
    "    aspect=1.2,\n",
    "    facet_kws={\"sharey\": False, \"sharex\": True},\n",
    ")\n",
    "for ax in g.axes.flat:\n",
    "    ax.grid(alpha=0.5)\n",
    "plot_baseline_entropy(g, baseline_entropy)"
   ]
  },
  {
   "cell_type": "code",
   "execution_count": null,
   "metadata": {},
   "outputs": [],
   "source": [
    "ent_df = joint_df.groupby(\n",
    "    [\"model_size\", \"gen_kwargs\", \"dataset\", \"split\"], as_index=False\n",
    ").agg(\n",
    "    avg_entropy=(\"pred_entropy\", \"mean\"),\n",
    "    avg_ws_loss=(\"ws_loss\", \"mean\"),\n",
    ")\n"
   ]
  },
  {
   "cell_type": "code",
   "execution_count": null,
   "metadata": {},
   "outputs": [],
   "source": [
    "g = sns.relplot(\n",
    "    ent_df,\n",
    "    x=\"avg_entropy\",\n",
    "    y=\"avg_ws_loss\",\n",
    "    hue=\"model_size\",\n",
    "    style=\"gen_kwargs\",\n",
    "    col=\"split\",\n",
    "    # col_order=[\"train\", \"dev\"],\n",
    "    row=\"dataset\",\n",
    "    # row_order=[\"CSC\", \"MP\"],\n",
    "    kind=\"scatter\",\n",
    "    height=2.5,\n",
    "    aspect=1.2,\n",
    "    facet_kws={\"sharey\": False, \"sharex\": False},\n",
    "    palette=\"viridis\",\n",
    ")\n",
    "for ax in g.axes.flat:\n",
    "    ax.grid(alpha=0.5)\n",
    "plot_baseline_losses(g, baseline_losses, label=\"Uniform Baseline\", color=\"blue\")\n",
    "plot_baseline_losses(g, strong_baselines, label=\"Gemini 2.5 Pro\", color=\"red\")\n"
   ]
  }
 ],
 "metadata": {
  "kernelspec": {
   "display_name": "venv",
   "language": "python",
   "name": "python3"
  },
  "language_info": {
   "codemirror_mode": {
    "name": "ipython",
    "version": 3
   },
   "file_extension": ".py",
   "mimetype": "text/x-python",
   "name": "python",
   "nbconvert_exporter": "python",
   "pygments_lexer": "ipython3",
   "version": "3.11.9"
  }
 },
 "nbformat": 4,
 "nbformat_minor": 2
}
