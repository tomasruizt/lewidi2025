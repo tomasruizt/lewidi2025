{
 "cells": [
  {
   "cell_type": "code",
   "execution_count": null,
   "id": "b410e20d",
   "metadata": {},
   "outputs": [],
   "source": [
    "from lewidi_lib import list_preds, preds_file\n",
    "import pandas as pd\n",
    "\n",
    "# CSC allex_10runs is missing\n",
    "preds_files_df = list_preds().query(\"split == 'train' and run_name == 'allex_10loops' and model_id.str.contains('32B')\")\n",
    "preds_files_df\n",
    "# files = preds_files_df[\"preds_file\"].tolist()\n",
    "# rdf = pd.concat([pd.read_parquet(f) for f in files])"
   ]
  }
 ],
 "metadata": {
  "kernelspec": {
   "display_name": "venv",
   "language": "python",
   "name": "python3"
  },
  "language_info": {
   "codemirror_mode": {
    "name": "ipython",
    "version": 3
   },
   "file_extension": ".py",
   "mimetype": "text/x-python",
   "name": "python",
   "nbconvert_exporter": "python",
   "pygments_lexer": "ipython3",
   "version": "3.11.9"
  }
 },
 "nbformat": 4,
 "nbformat_minor": 5
}
