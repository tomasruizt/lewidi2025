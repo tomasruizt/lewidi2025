{
 "cells": [
  {
   "cell_type": "code",
   "execution_count": null,
   "id": "dce36a99",
   "metadata": {},
   "outputs": [],
   "source": [
    "from lewidi_lib import (\n",
    "    assign_cols_perf_metrics_softlabel,\n",
    "    enable_logging,\n",
    "    join_dataset,\n",
    "    preds_file,\n",
    "    process_rdf,\n",
    ")\n",
    "import pandas as pd\n",
    "\n",
    "enable_logging()\n",
    "file = preds_file(\n",
    "    dataset=\"CSC\",\n",
    "    split=\"train\",\n",
    "    template=\"60\",\n",
    "    model_id=\"qwen/qwen3-235b-a22b-2507\",\n",
    "    run_name=\"allex_10loops\",\n",
    ")\n",
    "rdf = pd.read_parquet(file)\n",
    "rdf = process_rdf(rdf, response_contains_steps=True, discard_invalid_pred=True)\n",
    "joint_df = join_dataset(rdf)\n",
    "joint_df = assign_cols_perf_metrics_softlabel(joint_df)"
   ]
  },
  {
   "cell_type": "code",
   "execution_count": null,
   "id": "fc849d77",
   "metadata": {},
   "outputs": [],
   "source": [
    "from lewidi_lib import bootstrap_avg\n",
    "\n",
    "\n",
    "bootstrap_avg(joint_df[\"ws_loss\"])"
   ]
  },
  {
   "cell_type": "code",
   "execution_count": null,
   "id": "3d75f092",
   "metadata": {},
   "outputs": [],
   "source": [
    "file2 = preds_file(\n",
    "    dataset=\"CSC\",\n",
    "    split=\"train\",\n",
    "    template=\"31\",\n",
    "    model_id=\"Qwen/Qwen3-14B\",\n",
    "    run_name=\"allex_10loops\",\n",
    ")\n",
    "rdf2 = pd.read_parquet(file2)\n",
    "rdf2 = process_rdf(rdf2, discard_invalid_pred=True)\n",
    "joint_df2 = join_dataset(rdf2)\n",
    "joint_df2 = assign_cols_perf_metrics_softlabel(joint_df2)\n",
    "joint_df2[\"ws_loss\"].mean()"
   ]
  }
 ],
 "metadata": {
  "kernelspec": {
   "display_name": "venv",
   "language": "python",
   "name": "python3"
  },
  "language_info": {
   "codemirror_mode": {
    "name": "ipython",
    "version": 3
   },
   "file_extension": ".py",
   "mimetype": "text/x-python",
   "name": "python",
   "nbconvert_exporter": "python",
   "pygments_lexer": "ipython3",
   "version": "3.12.4"
  }
 },
 "nbformat": 4,
 "nbformat_minor": 5
}
