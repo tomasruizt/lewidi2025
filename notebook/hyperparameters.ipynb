{
 "cells": [
  {
   "cell_type": "code",
   "execution_count": 3,
   "metadata": {},
   "outputs": [],
   "source": [
    "%load_ext autoreload\n",
    "%autoreload 2"
   ]
  },
  {
   "cell_type": "code",
   "execution_count": null,
   "metadata": {},
   "outputs": [],
   "source": [
    "from lewidi_lib import (\n",
    "    assign_cols_perf_metrics,\n",
    "    enable_logging,\n",
    "    join_correct_responses,\n",
    "    load_preds,\n",
    "    process_rdf,\n",
    ")\n",
    "\n",
    "\n",
    "enable_logging()\n",
    "rdf = (\n",
    "    load_preds(parquets_dir=\"../parquets\")\n",
    "    .tail(-200)\n",
    "    .pipe(process_rdf, discard_invalid_pred=False)\n",
    ")"
   ]
  },
  {
   "cell_type": "code",
   "execution_count": 5,
   "metadata": {},
   "outputs": [],
   "source": [
    "rdf = rdf.assign(is_valid_pred=rdf[\"is_valid_pred\"].astype(float))"
   ]
  },
  {
   "cell_type": "code",
   "execution_count": null,
   "metadata": {},
   "outputs": [],
   "source": [
    "# How do valid preds depend on the temperature, top_p, and presence penalty?\n",
    "# They seem to have minimal effects on validity.\n",
    "from matplotlib import pyplot as plt\n",
    "import seaborn as sns\n",
    "\n",
    "indep_vars = [\"temperature\", \"top_p\", \"presence_penalty\"]\n",
    "fig, axes = plt.subplots(ncols=len(indep_vars), figsize=(12, 3))\n",
    "for i, (dep_var, ax) in enumerate(zip(indep_vars, axes)):\n",
    "    sns.regplot(\n",
    "        rdf,\n",
    "        x=dep_var,\n",
    "        y=\"is_valid_pred\",\n",
    "        ax=ax,\n",
    "    )\n",
    "    ax.set_title(f\"{dep_var} vs is_valid_pred\")\n",
    "    ax.set_xlabel(dep_var)\n",
    "    ax.set_ylabel(\"is_valid_pred\")\n"
   ]
  },
  {
   "cell_type": "markdown",
   "metadata": {},
   "source": [
    "# Performance"
   ]
  },
  {
   "cell_type": "code",
   "execution_count": null,
   "metadata": {},
   "outputs": [],
   "source": [
    "vrdf = (\n",
    "    process_rdf(rdf, discard_invalid_pred=True)\n",
    "    .pipe(join_correct_responses)\n",
    "    .pipe(assign_cols_perf_metrics)\n",
    ")"
   ]
  },
  {
   "cell_type": "code",
   "execution_count": null,
   "metadata": {},
   "outputs": [],
   "source": [
    "sns.regplot(\n",
    "    vrdf,\n",
    "    x=\"presence_penalty\",\n",
    "    y=\"ws_loss\",\n",
    "    # lowess=True,\n",
    "    order=5,\n",
    ")\n"
   ]
  }
 ],
 "metadata": {
  "kernelspec": {
   "display_name": "venv",
   "language": "python",
   "name": "python3"
  },
  "language_info": {
   "codemirror_mode": {
    "name": "ipython",
    "version": 3
   },
   "file_extension": ".py",
   "mimetype": "text/x-python",
   "name": "python",
   "nbconvert_exporter": "python",
   "pygments_lexer": "ipython3",
   "version": "3.11.9"
  }
 },
 "nbformat": 4,
 "nbformat_minor": 2
}
