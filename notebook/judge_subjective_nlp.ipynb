{
 "cells": [
  {
   "cell_type": "code",
   "execution_count": null,
   "id": "9a5bc12e",
   "metadata": {},
   "outputs": [],
   "source": [
    "%load_ext autoreload\n",
    "%autoreload 2\n",
    "from logging import getLogger\n",
    "from lewidi_lib import enable_logging\n",
    "import pandas as pd\n",
    "import seaborn as sns\n",
    "\n",
    "pd.set_option(\"display.max_colwidth\", 100)\n",
    "enable_logging()\n",
    "logger = getLogger(__name__)\n",
    "sns.set_context(\"talk\")"
   ]
  },
  {
   "cell_type": "code",
   "execution_count": null,
   "id": "eb82fe56",
   "metadata": {},
   "outputs": [],
   "source": [
    "from lewidi_lib import assert_path_exists, preds_file\n",
    "\n",
    "file = preds_file(\n",
    "    dataset=\"MP\",\n",
    "    split=\"train\",\n",
    "    template=\"60\",\n",
    "    model_id=\"Qwen/Qwen3-32B\",\n",
    "    run_name=\"1000ex_10loops\",\n",
    ")\n",
    "rdf = pd.read_parquet(assert_path_exists(file))"
   ]
  },
  {
   "cell_type": "code",
   "execution_count": null,
   "id": "f92ca6d1",
   "metadata": {},
   "outputs": [],
   "source": [
    "from lewidi_lib import (\n",
    "    assign_cols_perf_metrics_softlabel,\n",
    "    compute_diversity_by_problem,\n",
    "    join_dataset,\n",
    "    keep_only_highest_diversity_problems,\n",
    "    process_rdf,\n",
    ")\n",
    "\n",
    "rdf = process_rdf(rdf, response_contains_steps=True)\n",
    "answer_diversity = compute_diversity_by_problem(rdf)\n",
    "rdf = rdf.merge(answer_diversity, on=\"dataset_idx\")"
   ]
  },
  {
   "cell_type": "code",
   "execution_count": null,
   "id": "373584fb",
   "metadata": {},
   "outputs": [],
   "source": [
    "joint_df = join_dataset(rdf)\n",
    "joint_df = assign_cols_perf_metrics_softlabel(joint_df)\n",
    "joint_df_subset = keep_only_highest_diversity_problems(joint_df)"
   ]
  },
  {
   "cell_type": "code",
   "execution_count": null,
   "id": "3f7edd77",
   "metadata": {},
   "outputs": [],
   "source": [
    "joint_df.groupby(\"diversity\", as_index=False, observed=True).agg(\n",
    "    avg_ws_loss=(\"ws_loss\", \"mean\"),\n",
    "    avg_pairwise_ws_loss=(\"avg_pairwise_ws_loss\", \"mean\"),\n",
    "    n_examples=(\"dataset_idx\", \"count\"),\n",
    ").round(2)"
   ]
  },
  {
   "cell_type": "code",
   "execution_count": null,
   "id": "3a69eca9",
   "metadata": {},
   "outputs": [],
   "source": [
    "# answer_diversity.query(\"diversity == 'Q5'\")[[\"dataset_idx\", \"diversity\"]].to_parquet(\"high_diversity_ids.parquet\")\n",
    "\n",
    "# \"\"\"\n",
    "# copy (\n",
    "#     select rdf.*\n",
    "#     from (select * from '../../1000ex_10loops/preds/responses.parquet') as rdf\n",
    "#     join 'high_diversity_ids.parquet' as ids on rdf.dataset_idx = ids.dataset_idx\n",
    "#     )\n",
    "# to 'responses.parquet';\n",
    "# \"\"\""
   ]
  },
  {
   "cell_type": "markdown",
   "id": "1a9437c9",
   "metadata": {},
   "source": [
    "# Load Ratings"
   ]
  },
  {
   "cell_type": "code",
   "execution_count": null,
   "id": "a0d9a2bc",
   "metadata": {},
   "outputs": [],
   "source": [
    "from lewidi_lib import (\n",
    "    assign_col_response_parsed,\n",
    "    discard_na_response_rows,\n",
    "    process_ratings,\n",
    ")\n",
    "import numpy as np\n",
    "from prm800k import mapping\n",
    "\n",
    "\n",
    "# ratings_file = \"/Users/tomasruiz/datasets/dss_home/lewidi-data/sbatch/di38bec/Qwen_Qwen3-32B/set2/t60/CSC/train/1000ex_10loops_high_diversity/judge/gemini-2.5-flash/responses.parquet\"\n",
    "# ratings_file = \"/Users/tomasruiz/datasets/dss_home/lewidi-data/sbatch/di38bec/Qwen_Qwen3-32B/set2/t60/CSC/train/1000ex_10loops/judge/Qwen/Qwen3-32B/set2/t23/1000ex_10loops/responses.parquet\"\n",
    "ratings_file = \"/Users/tomasruiz/datasets/dss_home/lewidi-data/sbatch/di38bec/Qwen_Qwen3-32B/set2/t60/MP/train/1000ex_10loops/judge/Qwen/Qwen3-32B/set2/t23/1000ex_10loops/responses.parquet\"\n",
    "ratings = pd.read_parquet(ratings_file)\n",
    "logger.info(\n",
    "    \"Loaded %d ratings for %d differnt dataset_idxs\",\n",
    "    len(ratings),\n",
    "    ratings[\"dataset_idx\"].nunique(),\n",
    ")\n",
    "ratings = discard_na_response_rows(ratings)\n",
    "ratings = assign_col_response_parsed(ratings)\n",
    "ratings = process_ratings(\n",
    "    ratings, operation=np.mean, cat_mapping=mapping(ok=0.0, bad=0)\n",
    ")\n",
    "ratings = ratings[\n",
    "    [\"dataset_idx\", \"run_idx\", \"step_ratings\", \"score\", \"reasoning\", \"response_parsed\"]\n",
    "]\n",
    "ratings.rename(columns={\"reasoning\": \"judge_reasoning\"}, inplace=True)"
   ]
  },
  {
   "cell_type": "code",
   "execution_count": null,
   "id": "33260715",
   "metadata": {},
   "outputs": [],
   "source": [
    "joint_df_subset = joint_df_subset.merge(\n",
    "    ratings, on=[\"dataset_idx\", \"run_idx\"], how=\"left\"\n",
    ")\n",
    "joint_df_subset = discard_na_response_rows(joint_df_subset, col=\"score\")"
   ]
  },
  {
   "cell_type": "markdown",
   "id": "777c6ba9",
   "metadata": {},
   "source": [
    "# BoN Loss Stats"
   ]
  },
  {
   "cell_type": "code",
   "execution_count": null,
   "id": "5ca750e6",
   "metadata": {},
   "outputs": [],
   "source": [
    "len(joint_df_subset.drop_duplicates(subset=[\"dataset_idx\", \"run_idx\"]))"
   ]
  },
  {
   "cell_type": "code",
   "execution_count": null,
   "id": "611a36cd",
   "metadata": {},
   "outputs": [],
   "source": [
    "from lewidi_lib import bootstrap_avg\n",
    "\n",
    "joint_df_subset[[\"ws_loss\", \"score\"]].apply(bootstrap_avg)"
   ]
  },
  {
   "cell_type": "code",
   "execution_count": null,
   "id": "f6516149",
   "metadata": {},
   "outputs": [],
   "source": [
    "bon = joint_df_subset.loc[joint_df_subset.groupby(\"dataset_idx\")[\"score\"].idxmax()]\n",
    "bon[[\"ws_loss\", \"score\"]].apply(bootstrap_avg)"
   ]
  },
  {
   "cell_type": "code",
   "execution_count": null,
   "id": "56f72518",
   "metadata": {},
   "outputs": [],
   "source": [
    "oracle = joint_df_subset.loc[joint_df_subset.groupby(\"dataset_idx\")[\"ws_loss\"].idxmin()]\n",
    "oracle[[\"ws_loss\", \"score\"]].apply(bootstrap_avg)"
   ]
  },
  {
   "cell_type": "markdown",
   "id": "58b2fe66",
   "metadata": {},
   "source": [
    "# Problem-Level Correlation"
   ]
  },
  {
   "cell_type": "code",
   "execution_count": null,
   "id": "8d2f4204",
   "metadata": {},
   "outputs": [],
   "source": [
    "def corr(df):\n",
    "    coeff = np.corrcoef(df[\"score\"], df[\"ws_loss\"])[0, 1]\n",
    "    return coeff\n",
    "\n",
    "\n",
    "corrs = (\n",
    "    joint_df_subset.groupby(\"dataset_idx\")[[\"score\", \"ws_loss\"]].apply(corr).fillna(0)\n",
    ")\n",
    "bootstrap_avg(corrs)"
   ]
  },
  {
   "cell_type": "markdown",
   "id": "038420fe",
   "metadata": {},
   "source": [
    "# Individual Examples"
   ]
  },
  {
   "cell_type": "code",
   "execution_count": null,
   "id": "334f94a5",
   "metadata": {},
   "outputs": [],
   "source": [
    "# max_loss = joint_df_subset.loc[joint_df_subset.groupby(\"dataset_idx\")[\"ws_loss\"].idxmax()]\n",
    "# row = max_loss.iloc[0]\n",
    "# print(row[\"response\"])"
   ]
  }
 ],
 "metadata": {
  "kernelspec": {
   "display_name": "venv",
   "language": "python",
   "name": "python3"
  },
  "language_info": {
   "codemirror_mode": {
    "name": "ipython",
    "version": 3
   },
   "file_extension": ".py",
   "mimetype": "text/x-python",
   "name": "python",
   "nbconvert_exporter": "python",
   "pygments_lexer": "ipython3",
   "version": "3.12.4"
  }
 },
 "nbformat": 4,
 "nbformat_minor": 5
}
