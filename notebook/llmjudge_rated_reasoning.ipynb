{
 "cells": [
  {
   "cell_type": "code",
   "execution_count": null,
   "metadata": {},
   "outputs": [],
   "source": [
    "%load_ext autoreload\n",
    "%autoreload 2"
   ]
  },
  {
   "cell_type": "code",
   "execution_count": null,
   "metadata": {},
   "outputs": [],
   "source": [
    "from lewidi_lib import (\n",
    "    assign_cols_perf_metrics,\n",
    "    enable_logging,\n",
    "    join_correct_responses,\n",
    "    load_preds,\n",
    "    make_query_from_dict,\n",
    "    process_rdf,\n",
    ")\n",
    "import pandas as pd\n",
    "\n",
    "enable_logging()\n",
    "\n",
    "\n",
    "ratings = pd.read_json(\n",
    "    \"../parquets/reasoning-ratings/reasoning-judge-responses.jsonl\", lines=True\n",
    ")\n",
    "\n",
    "metadata = {\n",
    "    \"template_id\": 31,\n",
    "    \"model_id\": \"Qwen/Qwen3-32B\",\n",
    "    \"gen_kwargs\": \"set2\",\n",
    "    \"dataset\": \"CSC\",\n",
    "    \"judge_model_id\": \"gemini-2.5-pro-preview-06-05\",\n",
    "}\n",
    "\n",
    "rdf = load_preds(parquets_dir=\"../parquets\")\n",
    "query = make_query_from_dict(metadata, rdf.columns)\n",
    "rdf = rdf.query(query)\n",
    "rdf = process_rdf(rdf)\n",
    "rdf = join_correct_responses(rdf)\n",
    "rdf = assign_cols_perf_metrics(rdf)"
   ]
  },
  {
   "cell_type": "code",
   "execution_count": 55,
   "metadata": {},
   "outputs": [],
   "source": [
    "join_cols = [\"dataset\", \"dataset_idx\", \"run_idx\"]  # expand when more cols!\n",
    "ratings_cols = [\n",
    "    \"response\",\n",
    "    \"reasoning\",\n",
    "    \"judge_model_id\",\n",
    "    \"dataset\",\n",
    "    \"dataset_idx\",\n",
    "    \"run_idx\",\n",
    "]\n",
    "joint = ratings[ratings_cols].merge(\n",
    "    rdf, on=join_cols, how=\"inner\", suffixes=(\"_judge\", \"\")\n",
    ")"
   ]
  },
  {
   "cell_type": "code",
   "execution_count": null,
   "metadata": {},
   "outputs": [],
   "source": [
    "# example 8: too lax with spread out distribution\n",
    "for k, v in (\n",
    "    joint.iloc[37][\n",
    "        [\"text\", \"reasoning\", \"response\", \"target\", \"reasoning_judge\", \"response_judge\"]\n",
    "    ]\n",
    "    .to_dict()\n",
    "    .items()\n",
    "):\n",
    "    print(k, v)\n",
    "    print(\"-\" * 100)"
   ]
  },
  {
   "cell_type": "code",
   "execution_count": null,
   "metadata": {},
   "outputs": [],
   "source": [
    "import seaborn as sns\n",
    "\n",
    "sns.set_theme(style=\"whitegrid\", context=\"talk\")\n",
    "\n",
    "fgrid = sns.jointplot(\n",
    "    joint, x=\"response_judge\", y=\"ws_loss\", scatter_kws={\"alpha\": 0.5}, kind=\"reg\"\n",
    ")"
   ]
  },
  {
   "cell_type": "code",
   "execution_count": null,
   "metadata": {},
   "outputs": [],
   "source": [
    "(joint.groupby(\"dataset_idx\").size() == 10).all()"
   ]
  },
  {
   "cell_type": "code",
   "execution_count": null,
   "metadata": {},
   "outputs": [],
   "source": [
    "# there is almost no performance difference between the normal outputs\n",
    "# and those selected for top trace ratings\n",
    "avg_ws_loss = joint.groupby(\"dataset_idx\", as_index=False)[\"ws_loss\"].mean()\n",
    "best_by_judge = joint.loc[joint.groupby(\"dataset_idx\")[\"response_judge\"].idxmax()][\n",
    "    [\"dataset_idx\", \"ws_loss\"]\n",
    "]\n",
    "best_by_judge[\"ws_loss\"].mean(), avg_ws_loss[\"ws_loss\"].mean()"
   ]
  },
  {
   "cell_type": "code",
   "execution_count": null,
   "metadata": {},
   "outputs": [],
   "source": [
    "ws_comparison = pd.concat(\n",
    "    [avg_ws_loss.assign(type=\"avg\"), best_by_judge.assign(type=\"best_by_judge\")],\n",
    "    ignore_index=True,\n",
    ")\n",
    "ax = sns.histplot(ws_comparison, x=\"ws_loss\", hue=\"type\", kde=True)"
   ]
  }
 ],
 "metadata": {
  "kernelspec": {
   "display_name": "venv",
   "language": "python",
   "name": "python3"
  },
  "language_info": {
   "codemirror_mode": {
    "name": "ipython",
    "version": 3
   },
   "file_extension": ".py",
   "mimetype": "text/x-python",
   "name": "python",
   "nbconvert_exporter": "python",
   "pygments_lexer": "ipython3",
   "version": "3.11.9"
  }
 },
 "nbformat": 4,
 "nbformat_minor": 2
}
