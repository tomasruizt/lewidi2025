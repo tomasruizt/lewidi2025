{
 "cells": [
  {
   "cell_type": "markdown",
   "metadata": {
    "vscode": {
     "languageId": "plaintext"
    }
   },
   "source": [
    "# When does Model Averaging improve?"
   ]
  },
  {
   "cell_type": "code",
   "execution_count": 1,
   "metadata": {},
   "outputs": [],
   "source": [
    "from lewidi_lib import (\n",
    "    load_preds,\n",
    "    make_query_from_dict,\n",
    "    process_rdf_and_add_perf_metrics,\n",
    ")\n",
    "\n",
    "\n",
    "rdf = load_preds(\n",
    "    \"/mnt/disk16tb/globus_shared/from-lrz-ai-systems/tasks_0_cscfull_t31_Qwen_Qwen3-32B_set2/preds\"\n",
    ")\n",
    "rdf.drop_duplicates(inplace=True)\n",
    "\n",
    "metadata = {\n",
    "    \"template_id\": 31,\n",
    "    \"model_id\": \"Qwen/Qwen3-32B\",\n",
    "    \"gen_kwargs\": \"set2\",\n",
    "    \"dataset\": \"CSC\",\n",
    "    \"judge_model_id\": \"gemini-2.5-pro\",\n",
    "}\n",
    "query = make_query_from_dict(metadata, rdf.columns)\n",
    "rdf = rdf.query(query)\n",
    "rdf = process_rdf_and_add_perf_metrics(rdf)"
   ]
  },
  {
   "cell_type": "code",
   "execution_count": 2,
   "metadata": {},
   "outputs": [],
   "source": [
    "from lewidi_lib import compute_average_baseline\n",
    "\n",
    "\n",
    "model_avg_baseline = compute_average_baseline(rdf)"
   ]
  },
  {
   "cell_type": "code",
   "execution_count": null,
   "metadata": {},
   "outputs": [],
   "source": [
    "improvements = (\n",
    "    rdf.groupby([\"dataset_idx\", \"tgt_has_holes\"], as_index=False)\n",
    "    .agg(\n",
    "        avg_ws_loss=(\"ws_loss\", \"mean\"),\n",
    "        avg_pred_entropy=(\"pred_entropy\", \"mean\"),\n",
    "    )\n",
    "    .merge(model_avg_baseline[[\"dataset_idx\", \"ws_loss\", \"pred_entropy\"]])\n",
    "    .assign(improvement=lambda df: df[\"avg_ws_loss\"] - df[\"ws_loss\"])\n",
    "    .assign(pred_entropy_diff=lambda df: df[\"pred_entropy\"] - df[\"avg_pred_entropy\"])\n",
    ")\n",
    "\n",
    "improvements.sort_values(\"improvement\", ascending=False).head(3)"
   ]
  },
  {
   "cell_type": "code",
   "execution_count": null,
   "metadata": {},
   "outputs": [],
   "source": [
    "import seaborn as sns\n",
    "\n",
    "sns.scatterplot(\n",
    "    improvements,\n",
    "    x=\"improvement\",\n",
    "    y=\"pred_entropy_diff\",\n",
    ")"
   ]
  },
  {
   "cell_type": "code",
   "execution_count": null,
   "metadata": {},
   "outputs": [],
   "source": [
    "sns.histplot(improvements, x=\"improvement\", hue=\"tgt_has_holes\")"
   ]
  }
 ],
 "metadata": {
  "kernelspec": {
   "display_name": "venv",
   "language": "python",
   "name": "python3"
  },
  "language_info": {
   "codemirror_mode": {
    "name": "ipython",
    "version": 3
   },
   "file_extension": ".py",
   "mimetype": "text/x-python",
   "name": "python",
   "nbconvert_exporter": "python",
   "pygments_lexer": "ipython3",
   "version": "3.11.9"
  }
 },
 "nbformat": 4,
 "nbformat_minor": 2
}
