{
 "cells": [
  {
   "cell_type": "code",
   "execution_count": null,
   "id": "a31a6d7a",
   "metadata": {},
   "outputs": [],
   "source": [
    "import duckdb\n",
    "from lewidi_lib import list_preds\n",
    "\n",
    "pdf = (\n",
    "    list_preds()\n",
    "    .query(\"exists and run_name == '1000ex_10loops' and template_id == '60'\")\n",
    "    .astype({\"preds_file\": \"str\"})\n",
    ")\n",
    "con = duckdb.connect()\n",
    "df = con.sql(\n",
    "    f\"\"\"\n",
    "    SELECT filename as preds_file, n_input_tokens, n_output_tokens \n",
    "    FROM read_parquet({[str(f) for f in pdf[\"preds_file\"]]}, filename=true)\n",
    "    WHERE success = true\n",
    "    \"\"\"\n",
    ").df()\n",
    "joint = pdf.merge(df, on=\"preds_file\", how=\"left\")\n",
    "long = joint.melt(\n",
    "    id_vars=[\"dataset\", \"model_id\"],\n",
    "    value_vars=[\"n_input_tokens\", \"n_output_tokens\"],\n",
    "    var_name=\"part\",\n",
    "    value_name=\"n_tokens\",\n",
    ")\n",
    "long.head()"
   ]
  },
  {
   "cell_type": "code",
   "execution_count": null,
   "id": "c713bd36",
   "metadata": {},
   "outputs": [],
   "source": [
    "# joint.groupby([\"dataset\", \"model_id\"], as_index=False)[[\"n_rows\", \"n_input_tokens\", \"n_output_tokens\"]].sum()\n",
    "import seaborn as sns\n",
    "\n",
    "sns.catplot(\n",
    "    long.query(\"part == 'n_output_tokens'\"),\n",
    "    y=\"n_tokens\",\n",
    "    x=\"dataset\",\n",
    "    hue=\"model_id\",\n",
    "    kind=\"bar\",\n",
    ")"
   ]
  },
  {
   "cell_type": "code",
   "execution_count": null,
   "id": "5ef6c799",
   "metadata": {},
   "outputs": [],
   "source": [
    "# why the hell does 8B compute so much on VariErrNLI?\n",
    "fgrid = sns.FacetGrid(\n",
    "    long.query(\"dataset == 'VariErrNLI' and part == 'n_output_tokens'\"),\n",
    "    row=\"model_id\",\n",
    "    height=1,\n",
    "    aspect=5\n",
    ")\n",
    "fgrid.map(sns.histplot, \"n_tokens\")"
   ]
  },
  {
   "cell_type": "code",
   "execution_count": null,
   "id": "ec06e1d9",
   "metadata": {},
   "outputs": [],
   "source": [
    "import pandas as pd\n",
    "rdf = pd.read_parquet(pdf.query(\"dataset == 'VariErrNLI' and model_id == 'Qwen/Qwen3-8B'\")[\"preds_file\"].values[0])\n",
    "print(rdf.sort_values(\"n_output_tokens\", ascending=False)[\"reasoning\"].values[0])"
   ]
  }
 ],
 "metadata": {
  "kernelspec": {
   "display_name": "venv",
   "language": "python",
   "name": "python3"
  },
  "language_info": {
   "codemirror_mode": {
    "name": "ipython",
    "version": 3
   },
   "file_extension": ".py",
   "mimetype": "text/x-python",
   "name": "python",
   "nbconvert_exporter": "python",
   "pygments_lexer": "ipython3",
   "version": "3.12.4"
  }
 },
 "nbformat": 4,
 "nbformat_minor": 5
}
