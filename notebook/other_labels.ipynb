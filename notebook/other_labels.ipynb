{
 "cells": [
  {
   "cell_type": "code",
   "execution_count": null,
   "id": "7e693972",
   "metadata": {},
   "outputs": [],
   "source": [
    "import nest_asyncio\n",
    "from pprint import pprint\n",
    "\n",
    "nest_asyncio.apply()"
   ]
  },
  {
   "cell_type": "code",
   "execution_count": null,
   "id": "bad88d1f",
   "metadata": {},
   "outputs": [],
   "source": [
    "%load_ext autoreload\n",
    "%autoreload 2\n",
    "\n",
    "from lewidi_lib import (\n",
    "    assign_cols_perf_metrics,\n",
    "    enable_logging,\n",
    "    join_dataset_and_preds,\n",
    "    load_dataset,\n",
    "    load_listof_parquets,\n",
    "    load_preds,\n",
    "    preds_file,\n",
    "    process_rdf,\n",
    ")\n",
    "\n",
    "enable_logging()\n",
    "\n",
    "\n",
    "dataset = \"MP\"\n",
    "split = \"train\"\n",
    "task = \"soft-label\"\n",
    "template_id = \"60\"\n",
    "file = preds_file(\n",
    "    dataset=dataset,\n",
    "    split=split,\n",
    "    template=template_id,\n",
    "    model_id=\"Qwen/Qwen3-32B\",\n",
    "    run_name=\"1000ex_10loops\",\n",
    ")\n",
    "rdf = load_listof_parquets([file])\n",
    "rdf = process_rdf(\n",
    "    rdf, discard_invalid_pred=True, task=task, response_contains_steps=True\n",
    ")\n",
    "ddf = load_dataset(dataset=dataset, split=split, task=task)\n",
    "joint_df = join_dataset_and_preds(ddf, rdf)\n",
    "joint_df = assign_cols_perf_metrics(joint_df, task=task)"
   ]
  },
  {
   "cell_type": "code",
   "execution_count": null,
   "id": "c71aa8f5",
   "metadata": {},
   "outputs": [],
   "source": [
    "row = joint_df.iloc[230]\n",
    "pprint(row[\"text\"])\n",
    "print(\"pred: \", row[\"pred\"])\n",
    "print(\"target: \", row[\"target\"])\n",
    "print(\"ws_loss: \", row[\"ws_loss\"])"
   ]
  },
  {
   "cell_type": "code",
   "execution_count": null,
   "id": "f24823b1",
   "metadata": {},
   "outputs": [],
   "source": [
    "print(row[\"reasoning\"])"
   ]
  },
  {
   "cell_type": "code",
   "execution_count": null,
   "id": "90105218",
   "metadata": {},
   "outputs": [],
   "source": [
    "from judge_lib import make_judge_template\n",
    "\n",
    "\n",
    "template = make_judge_template(\n",
    "    judge_template_id=100, dataset=dataset, pred_template_id=template_id\n",
    ")"
   ]
  },
  {
   "cell_type": "code",
   "execution_count": null,
   "id": "762381a0",
   "metadata": {},
   "outputs": [],
   "source": [
    "prompt = template.make_prompt(data=row)\n",
    "# print(propmt)"
   ]
  },
  {
   "cell_type": "code",
   "execution_count": null,
   "id": "1dd5e035",
   "metadata": {},
   "outputs": [],
   "source": [
    "from llmlib.openai.openai_completion import (\n",
    "    OpenAIModel,\n",
    "    config_for_openrouter,\n",
    "    LlmReq,\n",
    "    Message,\n",
    ")\n",
    "\n",
    "model = OpenAIModel(\n",
    "    model_id=\"deepseek/deepseek-chat-v3-0324\",\n",
    "    **config_for_openrouter(),\n",
    "    max_new_tokens=10_000,\n",
    ")"
   ]
  },
  {
   "cell_type": "code",
   "execution_count": null,
   "id": "78032dfe",
   "metadata": {},
   "outputs": [],
   "source": [
    "batch = [LlmReq(convo=[Message.from_prompt(prompt)])]\n",
    "# batch = [LlmReq(convo=[Message.from_prompt(\"Do irish swear a lot?\")])]\n",
    "gen = model.complete_batchof_reqs(batch=batch)\n",
    "res = list(gen)"
   ]
  },
  {
   "cell_type": "code",
   "execution_count": null,
   "id": "9334e0d5",
   "metadata": {},
   "outputs": [],
   "source": [
    "print(res[0][\"response\"])"
   ]
  }
 ],
 "metadata": {
  "kernelspec": {
   "display_name": "venv",
   "language": "python",
   "name": "python3"
  },
  "language_info": {
   "codemirror_mode": {
    "name": "ipython",
    "version": 3
   },
   "file_extension": ".py",
   "mimetype": "text/x-python",
   "name": "python",
   "nbconvert_exporter": "python",
   "pygments_lexer": "ipython3",
   "version": "3.12.4"
  }
 },
 "nbformat": 4,
 "nbformat_minor": 5
}
