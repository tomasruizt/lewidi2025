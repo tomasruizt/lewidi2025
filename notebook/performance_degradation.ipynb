{
 "cells": [
  {
   "cell_type": "code",
   "execution_count": 1,
   "metadata": {},
   "outputs": [],
   "source": [
    "%load_ext autoreload\n",
    "%autoreload 2"
   ]
  },
  {
   "cell_type": "code",
   "execution_count": null,
   "metadata": {},
   "outputs": [],
   "source": [
    "from lewidi_lib import load_dataset, enable_logging\n",
    "import pandas as pd\n",
    "\n",
    "enable_logging()\n",
    "\n",
    "dataset = \"CSC\"\n",
    "split = \"train\"\n",
    "ddf = load_dataset(dataset, split=split)\n",
    "print(len(ddf))\n",
    "ddf.head(2)"
   ]
  },
  {
   "cell_type": "code",
   "execution_count": null,
   "metadata": {},
   "outputs": [],
   "source": [
    "import duckdb\n",
    "from lewidi_lib import process_rdf\n",
    "\n",
    "\n",
    "con = duckdb.connect()\n",
    "rdf = con.sql(\"SELECT * FROM read_parquet('../parquets/*.parquet')\").df()\n",
    "model_ids = [\"Qwen/Qwen3-14B\", \"Qwen/Qwen3-32B\"]\n",
    "gen_kwargs = \"thinking\"\n",
    "rdf.query(\n",
    "    \"dataset == @dataset and split == @split and model_id in @model_ids and gen_kwargs == @gen_kwargs\",\n",
    "    inplace=True,\n",
    ")\n",
    "rdf = process_rdf(rdf, discard_invalid_pred=True)\n",
    "rdf.head(2)"
   ]
  },
  {
   "cell_type": "code",
   "execution_count": null,
   "metadata": {},
   "outputs": [],
   "source": [
    "from lewidi_lib import assign_col_ws_loss\n",
    "from lewidi_lib import entropy\n",
    "\n",
    "joint_df = pd.merge(\n",
    "    ddf[[\"dataset\", \"split\", \"request_idx\", \"target\"]],\n",
    "    rdf,\n",
    "    on=[\"dataset\", \"split\", \"request_idx\"],\n",
    ")\n",
    "joint_df = assign_col_ws_loss(joint_df)\n",
    "joint_df[\"target_entropy\"] = entropy(joint_df[\"target\"])\n",
    "joint_df[\"pred_entropy\"] = entropy(joint_df[\"pred\"])\n",
    "\n",
    "assert joint_df[\"success\"].all()\n",
    "joint_df.head(2)"
   ]
  },
  {
   "cell_type": "code",
   "execution_count": null,
   "metadata": {},
   "outputs": [],
   "source": [
    "joint_df.columns"
   ]
  },
  {
   "cell_type": "code",
   "execution_count": null,
   "metadata": {},
   "outputs": [],
   "source": [
    "cols = [\"request_idx\", \"model_id\"]\n",
    "perf_df = joint_df[cols + [\"run_idx\", \"ws_loss\"]]\n",
    "perf_df = perf_df.groupby(cols, as_index=False).agg(avg_ws_loss=(\"ws_loss\", \"mean\"))\n",
    "perf_df"
   ]
  },
  {
   "cell_type": "code",
   "execution_count": null,
   "metadata": {},
   "outputs": [],
   "source": [
    "perf_df_wide = perf_df.pivot(\n",
    "    index=\"request_idx\", columns=\"model_id\", values=\"avg_ws_loss\"\n",
    ")\n",
    "perf_df_wide[\"diff\"] = perf_df_wide[\"Qwen/Qwen3-32B\"] - perf_df_wide[\"Qwen/Qwen3-14B\"]\n",
    "perf_df_wide.sort_values(by=\"diff\", ascending=False)"
   ]
  },
  {
   "cell_type": "markdown",
   "metadata": {},
   "source": [
    "# Entropy\n",
    "Perhaps the larger model is degrading because its **too** cautious with its distribution. I.e. it tends to output flat distributions (high entropy) more often.\n",
    "\n",
    "This does not seem to be the case. In fact the larger model outputs more concentrated distributions (low entropy)"
   ]
  },
  {
   "cell_type": "code",
   "execution_count": null,
   "metadata": {},
   "outputs": [],
   "source": [
    "joint_df.groupby(\"model_id\").agg({\"pred_entropy\": [\"mean\", \"count\"]})"
   ]
  },
  {
   "cell_type": "markdown",
   "metadata": {},
   "source": [
    "Perhaps the larger models is taking more risks (low entropy), and losing more often compared to a more cautious smaller model (high entropy).\n",
    "\n",
    "I attempted different visualization, but none was very informative."
   ]
  },
  {
   "cell_type": "code",
   "execution_count": null,
   "metadata": {},
   "outputs": [],
   "source": [
    "ent_df = joint_df[[\"model_id\", \"pred_entropy\", \"target_entropy\", \"ws_loss\"]]\n",
    "ent_df"
   ]
  }
 ],
 "metadata": {
  "kernelspec": {
   "display_name": "venv",
   "language": "python",
   "name": "python3"
  },
  "language_info": {
   "codemirror_mode": {
    "name": "ipython",
    "version": 3
   },
   "file_extension": ".py",
   "mimetype": "text/x-python",
   "name": "python",
   "nbconvert_exporter": "python",
   "pygments_lexer": "ipython3",
   "version": "3.11.9"
  }
 },
 "nbformat": 4,
 "nbformat_minor": 2
}
