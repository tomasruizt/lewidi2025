{
 "cells": [
  {
   "cell_type": "code",
   "execution_count": null,
   "id": "ac091e0d",
   "metadata": {},
   "outputs": [],
   "source": [
    "%load_ext autoreload\n",
    "%autoreload 2"
   ]
  },
  {
   "cell_type": "code",
   "execution_count": null,
   "id": "40183ff3",
   "metadata": {},
   "outputs": [],
   "source": [
    "from lewidi_lib import enable_logging, load_preds\n",
    "\n",
    "enable_logging()\n",
    "\n",
    "folder = \"../parquets/perspectivist/\"\n",
    "rdf = load_preds(folder)"
   ]
  },
  {
   "cell_type": "code",
   "execution_count": null,
   "id": "3eda3831",
   "metadata": {},
   "outputs": [],
   "source": [
    "from lewidi_lib import process_rdf\n",
    "\n",
    "\n",
    "rdf = process_rdf(rdf, task=\"perspectivist\", discard_invalid_pred=True)"
   ]
  },
  {
   "cell_type": "code",
   "execution_count": null,
   "id": "f78b3c0b",
   "metadata": {},
   "outputs": [],
   "source": [
    "from lewidi_lib import assign_cols_perf_metrics_softlabel, join_correct_responses\n",
    "\n",
    "\n",
    "joint_df = join_correct_responses(rdf, task=\"perspectivist\")"
   ]
  },
  {
   "cell_type": "code",
   "execution_count": null,
   "id": "da711269",
   "metadata": {},
   "outputs": [],
   "source": [
    "row = joint_df.query(\"dataset == 'VariErrNLI'\").iloc[10]\n",
    "print(row[\"reasoning\"])"
   ]
  },
  {
   "cell_type": "code",
   "execution_count": null,
   "id": "71597f09",
   "metadata": {},
   "outputs": [],
   "source": [
    "\n",
    "joint_df.query(\"dataset == 'VariErrNLI' and n_annotations != n_annotators\")"
   ]
  }
 ],
 "metadata": {
  "kernelspec": {
   "display_name": "venv",
   "language": "python",
   "name": "python3"
  },
  "language_info": {
   "codemirror_mode": {
    "name": "ipython",
    "version": 3
   },
   "file_extension": ".py",
   "mimetype": "text/x-python",
   "name": "python",
   "nbconvert_exporter": "python",
   "pygments_lexer": "ipython3",
   "version": "3.11.9"
  }
 },
 "nbformat": 4,
 "nbformat_minor": 5
}
