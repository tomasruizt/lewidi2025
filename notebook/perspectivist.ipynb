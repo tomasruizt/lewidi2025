{
 "cells": [
  {
   "cell_type": "code",
   "execution_count": null,
   "id": "ac091e0d",
   "metadata": {},
   "outputs": [],
   "source": [
    "%load_ext autoreload\n",
    "%autoreload 2\n",
    "\n",
    "import pandas as pd\n",
    "\n",
    "pd.set_option(\"display.max_colwidth\", 100)"
   ]
  },
  {
   "cell_type": "code",
   "execution_count": null,
   "id": "40183ff3",
   "metadata": {},
   "outputs": [],
   "source": [
    "from lewidi_lib import enable_logging, load_preds\n",
    "\n",
    "enable_logging()\n",
    "\n",
    "folder = \"../parquets/perspectivist/\"\n",
    "rdf = load_preds(folder)"
   ]
  },
  {
   "cell_type": "code",
   "execution_count": null,
   "id": "3eda3831",
   "metadata": {},
   "outputs": [],
   "source": [
    "from lewidi_lib import process_rdf\n",
    "\n",
    "\n",
    "rdf = process_rdf(rdf, task=\"perspectivist\", discard_invalid_pred=True)"
   ]
  },
  {
   "cell_type": "code",
   "execution_count": null,
   "id": "da317463",
   "metadata": {},
   "outputs": [],
   "source": [
    "from lewidi_lib import (\n",
    "    discard_rows_with_distinct_n_annotators,\n",
    "    assign_col_avg_abs_diff,\n",
    "    join_correct_responses,\n",
    ")\n",
    "\n",
    "joint_df = join_correct_responses(rdf, task=\"perspectivist\")\n",
    "joint_df = discard_rows_with_distinct_n_annotators(joint_df)\n",
    "joint_df = assign_col_avg_abs_diff(joint_df)"
   ]
  },
  {
   "cell_type": "code",
   "execution_count": null,
   "id": "3a75a5e9",
   "metadata": {},
   "outputs": [],
   "source": [
    "joint_df"
   ]
  }
 ],
 "metadata": {
  "kernelspec": {
   "display_name": "venv",
   "language": "python",
   "name": "python3"
  },
  "language_info": {
   "codemirror_mode": {
    "name": "ipython",
    "version": 3
   },
   "file_extension": ".py",
   "mimetype": "text/x-python",
   "name": "python",
   "nbconvert_exporter": "python",
   "pygments_lexer": "ipython3",
   "version": "3.11.9"
  }
 },
 "nbformat": 4,
 "nbformat_minor": 5
}
