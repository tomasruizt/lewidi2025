{
 "cells": [
  {
   "cell_type": "code",
   "execution_count": null,
   "id": "ac091e0d",
   "metadata": {},
   "outputs": [],
   "source": [
    "%load_ext autoreload\n",
    "%autoreload 2\n",
    "\n",
    "import pandas as pd\n",
    "\n",
    "pd.set_option(\"display.max_colwidth\", 100)"
   ]
  },
  {
   "cell_type": "code",
   "execution_count": null,
   "id": "40183ff3",
   "metadata": {},
   "outputs": [],
   "source": [
    "from lewidi_lib import enable_logging, load_preds\n",
    "\n",
    "enable_logging()\n",
    "\n",
    "folder = \"../parquets/perspectivist/\"\n",
    "rdf = load_preds(folder)"
   ]
  },
  {
   "cell_type": "code",
   "execution_count": null,
   "id": "a4245440",
   "metadata": {},
   "outputs": [],
   "source": [
    "from lewidi_lib import process_rdf\n",
    "from functools import lru_cache\n",
    "\n",
    "\n",
    "@lru_cache\n",
    "def process_rdf_cached() -> pd.DataFrame:\n",
    "    return process_rdf(rdf, task=\"perspectivist\", discard_invalid_pred=False)"
   ]
  },
  {
   "cell_type": "code",
   "execution_count": null,
   "id": "3eda3831",
   "metadata": {},
   "outputs": [],
   "source": [
    "rdf = process_rdf_cached()"
   ]
  },
  {
   "cell_type": "markdown",
   "id": "221183cf",
   "metadata": {},
   "source": [
    "# Model Compliance\n",
    "Only 0.6B fails to comply with the output format"
   ]
  },
  {
   "cell_type": "code",
   "execution_count": null,
   "id": "55faf7a3",
   "metadata": {},
   "outputs": [],
   "source": [
    "rdf.groupby([\"dataset\", \"model_size\"], observed=True)[\"is_valid_pred\"].mean()"
   ]
  },
  {
   "cell_type": "code",
   "execution_count": null,
   "id": "4bbb3a8c",
   "metadata": {},
   "outputs": [],
   "source": [
    "from lewidi_lib import discard_invalid_preds\n",
    "\n",
    "rdf = discard_invalid_preds(rdf)"
   ]
  },
  {
   "cell_type": "markdown",
   "id": "53fd1d69",
   "metadata": {},
   "source": [
    "# Baselines"
   ]
  },
  {
   "cell_type": "code",
   "execution_count": null,
   "id": "3eb77788",
   "metadata": {},
   "outputs": [],
   "source": [
    "from lewidi_lib import load_dataset\n",
    "from lewidi_lib import compute_pe_rand_baseline\n",
    "\n",
    "datasets = [\"CSC\", \"MP\", \"Paraphrase\", \"VariErrNLI\"]\n",
    "ddf = pd.concat(\n",
    "    [load_dataset(ds, split=\"train\", task=\"perspectivist\") for ds in datasets]\n",
    ")\n",
    "rand_baseline = compute_pe_rand_baseline(ddf)\n",
    "rand_baseline  # there is a bit of noise in the random baseline"
   ]
  },
  {
   "cell_type": "code",
   "execution_count": null,
   "id": "8290bac7",
   "metadata": {},
   "outputs": [],
   "source": [
    "from lewidi_lib import compute_most_frequent_baseline\n",
    "\n",
    "\n",
    "most_frequent_baseline = compute_most_frequent_baseline(ddf)\n",
    "most_frequent_baseline"
   ]
  },
  {
   "cell_type": "markdown",
   "id": "3ba4ffd8",
   "metadata": {},
   "source": [
    "# Qwen3 Performance"
   ]
  },
  {
   "cell_type": "code",
   "execution_count": null,
   "id": "da317463",
   "metadata": {},
   "outputs": [],
   "source": [
    "from lewidi_lib import (\n",
    "    discard_rows_with_distinct_n_annotators,\n",
    "    assign_col_avg_abs_diff,\n",
    "    join_correct_responses,\n",
    ")\n",
    "\n",
    "joint_df = join_correct_responses(rdf, task=\"perspectivist\")\n",
    "joint_df = discard_rows_with_distinct_n_annotators(joint_df)\n",
    "joint_df = assign_col_avg_abs_diff(joint_df)\n",
    "joint_df.groupby([\"dataset\", \"split\", \"model_id\"])[\"avg_abs_diff\"].mean()"
   ]
  },
  {
   "cell_type": "code",
   "execution_count": null,
   "id": "47f586ee",
   "metadata": {},
   "outputs": [],
   "source": [
    "from lewidi_lib import plot_horizontal_lines\n",
    "import seaborn as sns\n",
    "\n",
    "fgrid = sns.relplot(\n",
    "    joint_df,\n",
    "    x=\"model_size\",\n",
    "    y=\"avg_abs_diff\",\n",
    "    col=\"dataset\",\n",
    "    kind=\"line\",\n",
    "    marker=\"o\",\n",
    "    facet_kws={\"sharey\": False},\n",
    "    height=3,\n",
    "    aspect=1.2,\n",
    ")\n",
    "for ax in fgrid.axes.flat:\n",
    "    ax.grid(alpha=0.5)\n",
    "\n",
    "plot_horizontal_lines(\n",
    "    fgrid,\n",
    "    data=rand_baseline,\n",
    "    label=\"Random baseline\",\n",
    "    color=\"red\",\n",
    "    data_col=\"avg_abs_diff\",\n",
    ")\n",
    "plot_horizontal_lines(\n",
    "    fgrid,\n",
    "    data=most_frequent_baseline,\n",
    "    label=\"Most frequent baseline\",\n",
    "    color=\"blue\",\n",
    "    data_col=\"avg_abs_diff\",\n",
    ")"
   ]
  }
 ],
 "metadata": {
  "kernelspec": {
   "display_name": "venv",
   "language": "python",
   "name": "python3"
  },
  "language_info": {
   "codemirror_mode": {
    "name": "ipython",
    "version": 3
   },
   "file_extension": ".py",
   "mimetype": "text/x-python",
   "name": "python",
   "nbconvert_exporter": "python",
   "pygments_lexer": "ipython3",
   "version": "3.11.9"
  }
 },
 "nbformat": 4,
 "nbformat_minor": 5
}
