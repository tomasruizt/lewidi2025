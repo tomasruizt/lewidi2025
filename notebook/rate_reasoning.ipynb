{
 "cells": [
  {
   "cell_type": "code",
   "execution_count": null,
   "metadata": {},
   "outputs": [],
   "source": [
    "%matplotlib inline\n",
    "from lewidi_lib import load_preds, process_rdf\n",
    "import pandas as pd\n",
    "\n",
    "reasoning_df = pd.read_json(\"../rate_reasoning.jsonl\", lines=True)\n",
    "reasoning_df"
   ]
  },
  {
   "cell_type": "code",
   "execution_count": 2,
   "metadata": {},
   "outputs": [],
   "source": [
    "from lewidi_lib import assign_cols_perf_metrics, join_correct_responses\n",
    "\n",
    "\n",
    "joint_df = (\n",
    "    load_preds(\"../parquets\")\n",
    "    .merge(\n",
    "        reasoning_df,\n",
    "        on=[\"model_id\", \"dataset\", \"split\", \"dataset_idx\", \"template_id\", \"run_idx\"],\n",
    "    )\n",
    "    .pipe(process_rdf, discard_invalid_pred=True)\n",
    "    .pipe(join_correct_responses)\n",
    "    .pipe(assign_cols_perf_metrics)\n",
    ")"
   ]
  },
  {
   "cell_type": "code",
   "execution_count": 3,
   "metadata": {},
   "outputs": [],
   "source": [
    "def rate_reasoning(sent_anns: list[dict]) -> float:\n",
    "    oks = [ann[\"annotation\"] == \"1 - ok\" for ann in sent_anns]\n",
    "    return sum(oks) / len(oks)\n",
    "\n",
    "\n",
    "joint_df = joint_df.assign(\n",
    "    reasoning_score=joint_df[\"sentence_annotations\"].apply(rate_reasoning)\n",
    ")"
   ]
  },
  {
   "cell_type": "code",
   "execution_count": null,
   "metadata": {},
   "outputs": [],
   "source": [
    "import seaborn as sns\n",
    "import matplotlib.pyplot as plt\n",
    "\n",
    "ax = sns.regplot(\n",
    "    data=joint_df[[\"reasoning_score\", \"ws_loss\"]],\n",
    "    x=\"reasoning_score\",\n",
    "    y=\"ws_loss\",\n",
    ")\n",
    "ax.grid(alpha=0.5)"
   ]
  }
 ],
 "metadata": {
  "kernelspec": {
   "display_name": "venv",
   "language": "python",
   "name": "python3"
  },
  "language_info": {
   "codemirror_mode": {
    "name": "ipython",
    "version": 3
   },
   "file_extension": ".py",
   "mimetype": "text/x-python",
   "name": "python",
   "nbconvert_exporter": "python",
   "pygments_lexer": "ipython3",
   "version": "3.11.9"
  }
 },
 "nbformat": 4,
 "nbformat_minor": 2
}
