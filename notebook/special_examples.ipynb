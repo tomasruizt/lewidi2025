{
 "cells": [
  {
   "cell_type": "code",
   "execution_count": 1,
   "metadata": {},
   "outputs": [],
   "source": [
    "from lewidi_lib import load_dataset\n",
    "import numpy as np\n",
    "\n",
    "df = load_dataset(\"CSC\", \"train\")\n",
    "df[\"n_annotations\"] = df[\"annotations\"].apply(len)\n",
    "df[\"invidiual_annotations\"] = df[\"annotations\"].apply(\n",
    "    lambda d: [int(v) for v in d.values()]\n",
    ")\n",
    "df[\"avg_invidiual_annotations\"] = df[\"invidiual_annotations\"].apply(np.mean)\n",
    "df[\"annotation_variance\"] = df[\"invidiual_annotations\"].apply(np.var)"
   ]
  },
  {
   "cell_type": "code",
   "execution_count": null,
   "metadata": {},
   "outputs": [],
   "source": [
    "df_maxvar = df.query(\"n_annotations == 6\").query(\n",
    "    \"annotation_variance == annotation_variance.max()\"\n",
    ")\n",
    "row = df_maxvar.iloc[1]\n",
    "row.to_dict()"
   ]
  },
  {
   "cell_type": "code",
   "execution_count": null,
   "metadata": {},
   "outputs": [],
   "source": [
    "import seaborn as sns\n",
    "import matplotlib.pyplot as plt\n",
    "\n",
    "\n",
    "def plot_sarcasm_annotations(\n",
    "    annotations: list[int], is_distr: bool = False, ylim: float | None = None\n",
    "):\n",
    "    if not is_distr:\n",
    "        ys = np.bincount(annotations)\n",
    "    else:\n",
    "        ys = annotations\n",
    "    fig, ax = plt.subplots(figsize=(4, 3))\n",
    "    ax = sns.barplot(ys, ax=ax)\n",
    "    ax.set_xlim(0.5, None)\n",
    "    if not is_distr:\n",
    "        ax.set_yticks(range(0, max(ys) + 1))\n",
    "    ax.set_xlabel(\"Sarcasm Rating\")\n",
    "    if not is_distr:\n",
    "        ax.set_ylabel(\"Count\")\n",
    "    else:\n",
    "        ax.set_ylabel(\"Probability\")\n",
    "    ax.grid(axis=\"y\", alpha=0.5)\n",
    "    ax.set_ylim(0, ylim)\n",
    "    plt.close(fig)\n",
    "    return fig\n",
    "\n",
    "\n",
    "fig = plot_sarcasm_annotations(row[\"invidiual_annotations\"])\n",
    "ds_idx = row[\"dataset_idx\"]\n",
    "fig.savefig(\n",
    "    f\"imgs/special_examples/dsidx_{ds_idx}_human_annotations.pdf\", bbox_inches=\"tight\"\n",
    ")\n",
    "fig"
   ]
  },
  {
   "cell_type": "code",
   "execution_count": 4,
   "metadata": {},
   "outputs": [],
   "source": [
    "df_high_sarcasm = df.query(\"n_annotations == 6\")\n",
    "df_high_sarcasm = df_high_sarcasm.sort_values(\n",
    "    \"avg_invidiual_annotations\", ascending=False\n",
    ")\n",
    "high_scarsm_row = df_high_sarcasm.iloc[0].to_dict()"
   ]
  },
  {
   "cell_type": "code",
   "execution_count": null,
   "metadata": {},
   "outputs": [],
   "source": [
    "fig2 = plot_sarcasm_annotations(high_scarsm_row[\"invidiual_annotations\"])\n",
    "ds_idx = high_scarsm_row[\"dataset_idx\"]\n",
    "fig2.savefig(\n",
    "    f\"imgs/special_examples/dsidx_{ds_idx}_human_annotations.pdf\", bbox_inches=\"tight\"\n",
    ")\n",
    "fig2"
   ]
  },
  {
   "cell_type": "code",
   "execution_count": null,
   "metadata": {},
   "outputs": [],
   "source": [
    "fig3 = plot_sarcasm_annotations(\n",
    "    [0.0, 0.1, 0.2, 0.3, 0.25, 0.1, 0.05],\n",
    "    is_distr=True,\n",
    ")\n",
    "fig3\n",
    "fig3.savefig(\n",
    "    f\"imgs/special_examples/dsidx_{row['dataset_idx']}_gemini25_sarcasm_annotation.pdf\",\n",
    "    bbox_inches=\"tight\",\n",
    ")\n",
    "fig3"
   ]
  },
  {
   "cell_type": "code",
   "execution_count": null,
   "metadata": {},
   "outputs": [],
   "source": [
    "fig4 = plot_sarcasm_annotations(\n",
    "    [0.0, 0.01, 0.02, 0.08, 0.3, 0.44, 0.15],\n",
    "    is_distr=True,\n",
    ")\n",
    "fig4\n",
    "fig4.savefig(\n",
    "    f\"imgs/special_examples/dsidx_{high_scarsm_row['dataset_idx']}_gemini25_sarcasm_annotation.pdf\",\n",
    "    bbox_inches=\"tight\",\n",
    ")\n",
    "fig4"
   ]
  },
  {
   "cell_type": "markdown",
   "metadata": {},
   "source": [
    "# How Good Is This?"
   ]
  },
  {
   "cell_type": "code",
   "execution_count": null,
   "metadata": {},
   "outputs": [],
   "source": [
    "from lewidi_lib import compute_majority_baseline\n",
    "\n",
    "\n",
    "maj_baseline = compute_majority_baseline(df)\n",
    "fig_mb = plot_sarcasm_annotations(maj_baseline[\"pred\"].values[0], is_distr=True)\n",
    "fig_mb.savefig(\"imgs/special_examples/csc-majority_baseline.pdf\", bbox_inches=\"tight\")\n",
    "fig_mb"
   ]
  },
  {
   "cell_type": "code",
   "execution_count": null,
   "metadata": {},
   "outputs": [],
   "source": [
    "from lewidi_lib import baseline_pred\n",
    "\n",
    "\n",
    "fig = plot_sarcasm_annotations(\n",
    "    [0.0, *baseline_pred(n_classes=6)], is_distr=True, ylim=0.4\n",
    ")\n",
    "fig.savefig(\"imgs/special_examples/csc-uniform_baseline.pdf\", bbox_inches=\"tight\")\n",
    "fig"
   ]
  }
 ],
 "metadata": {
  "kernelspec": {
   "display_name": "venv",
   "language": "python",
   "name": "python3"
  },
  "language_info": {
   "codemirror_mode": {
    "name": "ipython",
    "version": 3
   },
   "file_extension": ".py",
   "mimetype": "text/x-python",
   "name": "python",
   "nbconvert_exporter": "python",
   "pygments_lexer": "ipython3",
   "version": "3.11.9"
  }
 },
 "nbformat": 4,
 "nbformat_minor": 2
}
