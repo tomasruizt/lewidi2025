{
 "cells": [
  {
   "cell_type": "code",
   "execution_count": 22,
   "metadata": {},
   "outputs": [],
   "source": [
    "%load_ext autoreload\n",
    "%autoreload 2"
   ]
  },
  {
   "cell_type": "code",
   "execution_count": 23,
   "metadata": {},
   "outputs": [],
   "source": [
    "import pandas as pd\n",
    "import logging\n",
    "\n",
    "logger = logging.getLogger(__name__)"
   ]
  },
  {
   "cell_type": "code",
   "execution_count": null,
   "metadata": {},
   "outputs": [],
   "source": [
    "from lewidi_lib import load_dataset, enable_logging\n",
    "\n",
    "enable_logging()\n",
    "\n",
    "datasets = [\"CSC\", \"MP\"]\n",
    "splits = [\"train\", \"dev\"]\n",
    "ddf = pd.concat([load_dataset(d, split=s) for d in datasets for s in splits])\n",
    "print(len(ddf))\n",
    "ddf.head(2)"
   ]
  },
  {
   "cell_type": "code",
   "execution_count": null,
   "metadata": {},
   "outputs": [],
   "source": [
    "import duckdb\n",
    "from lewidi_lib import process_rdf\n",
    "\n",
    "con = duckdb.connect()\n",
    "rdf = con.sql(\n",
    "    \"SELECT * FROM read_parquet('../parquets/*.parquet', union_by_name=True)\"\n",
    ").df()\n",
    "rdf = process_rdf(rdf)\n",
    "rdf.head(2)"
   ]
  },
  {
   "cell_type": "code",
   "execution_count": null,
   "metadata": {},
   "outputs": [],
   "source": [
    "import seaborn as sns\n",
    "\n",
    "g = sns.relplot(\n",
    "    data=rdf.query(\"dataset == 'CSC'\"),\n",
    "    x=\"model_size\",\n",
    "    y=\"is_valid_pred\",\n",
    "    hue=\"template_id\",\n",
    "    row=\"split\",\n",
    "    col=\"gen_kwargs\",\n",
    "    row_order=[\"train\", \"dev\"],\n",
    "    kind=\"line\",\n",
    "    marker=\"o\",\n",
    "    height=2.5,\n",
    "    aspect=1.2,\n",
    ")\n",
    "g.set_axis_labels(\"Model Params [B]\", \"Valid Preds\")\n",
    "for ax in g.axes.flat:\n",
    "    ax.set_ylim(0, 1.05)\n",
    "    ax.grid(alpha=0.5)\n"
   ]
  },
  {
   "cell_type": "code",
   "execution_count": null,
   "metadata": {},
   "outputs": [],
   "source": [
    "logger.info(\n",
    "    \"Dropping %d predictions that don't sum to 1\", len(rdf.query(\"~is_valid_pred\"))\n",
    ")\n",
    "rdf.query(\"is_valid_pred\", inplace=True)"
   ]
  },
  {
   "cell_type": "code",
   "execution_count": null,
   "metadata": {},
   "outputs": [],
   "source": [
    "joint_df = pd.merge(\n",
    "    ddf[[\"dataset\", \"split\", \"request_idx\", \"target\"]],\n",
    "    rdf,\n",
    "    on=[\"dataset\", \"split\", \"request_idx\"],\n",
    ")\n",
    "joint_df.head(2)"
   ]
  },
  {
   "cell_type": "code",
   "execution_count": 31,
   "metadata": {},
   "outputs": [],
   "source": [
    "from lewidi_lib import assign_col_pred_entropy, assign_col_ws_loss, assign_col_l0_loss\n",
    "\n",
    "joint_df = assign_col_l0_loss(joint_df)\n",
    "joint_df = assign_col_ws_loss(joint_df)\n",
    "joint_df = assign_col_pred_entropy(joint_df)\n"
   ]
  },
  {
   "cell_type": "code",
   "execution_count": 32,
   "metadata": {},
   "outputs": [],
   "source": [
    "from lewidi_lib import assign_n_classes, baseline_pred\n",
    "\n",
    "\n",
    "bdf = assign_n_classes(ddf)\n",
    "bdf = bdf.assign(pred=lambda row: row[\"n_classes\"].apply(baseline_pred))\n",
    "bdf = assign_col_ws_loss(bdf)\n",
    "bdf = assign_col_l0_loss(bdf)"
   ]
  },
  {
   "cell_type": "code",
   "execution_count": null,
   "metadata": {},
   "outputs": [],
   "source": [
    "baseline_losses = bdf.groupby([\"dataset\", \"split\"], as_index=False).agg(\n",
    "    {\"ws_loss\": \"mean\", \"l0_loss\": \"mean\"}\n",
    ")\n",
    "baseline_losses"
   ]
  },
  {
   "cell_type": "code",
   "execution_count": 34,
   "metadata": {},
   "outputs": [],
   "source": [
    "from lewidi_lib import n_classes\n",
    "import scipy\n",
    "import scipy.stats\n",
    "\n",
    "baseline_entropy = pd.DataFrame(\n",
    "    {\n",
    "        \"entropy\": [scipy.stats.entropy(baseline_pred(n_classes(d))) for d in datasets],\n",
    "        \"dataset\": datasets,\n",
    "    }\n",
    ")"
   ]
  },
  {
   "cell_type": "code",
   "execution_count": null,
   "metadata": {},
   "outputs": [],
   "source": [
    "import seaborn as sns\n",
    "\n",
    "g = sns.relplot(\n",
    "    data=joint_df.query(\"dataset == 'CSC'\"),\n",
    "    x=\"model_size\",\n",
    "    y=\"ws_loss\",\n",
    "    hue=\"template_id\",\n",
    "    col=\"split\",\n",
    "    col_order=[\"train\", \"dev\"],\n",
    "    row=\"gen_kwargs\",\n",
    "    kind=\"line\",\n",
    "    marker=\"o\",\n",
    "    height=2.5,\n",
    "    aspect=1.2,\n",
    "    facet_kws={\"sharey\": False},\n",
    ")\n",
    "# g.set(ylim=(0, None))\n",
    "g.set_axis_labels(\"Model Params [B]\", \"Wasserstein Distance\")\n",
    "for ax in g.axes.flat:\n",
    "    ax.grid(alpha=0.5)\n",
    "\n",
    "\n",
    "def plot_baseline_losses(g, baseline_losses, dataset: str | None = None):\n",
    "    for ax in g.axes.flat:\n",
    "        ax.grid(alpha=0.5)\n",
    "        dataset_, split_ = ax.title.get_text().split(\" | \")\n",
    "        dataset_ = dataset_.split(\" = \")[1]\n",
    "        if dataset is not None:\n",
    "            dataset_ = dataset\n",
    "        split_ = split_.split(\" = \")[1]\n",
    "        baseline_ws_loss_ = baseline_losses.query(\n",
    "            \"dataset == @dataset_ and split == @split_\"\n",
    "        )[\"ws_loss\"].values[0]\n",
    "        ax.axhline(baseline_ws_loss_, color=\"red\", linestyle=\"--\", label=\"Baseline\")\n",
    "\n",
    "\n",
    "def plot_baseline_entropy(g, baseline_entropy):\n",
    "    for ax in g.axes.flat:\n",
    "        ax.grid(alpha=0.5)\n",
    "        dataset_, _ = ax.title.get_text().split(\" | \")\n",
    "        dataset_ = dataset_.split(\" = \")[1]\n",
    "        value = baseline_entropy.query(\"dataset == @dataset_\")[\"entropy\"].values[0]\n",
    "        ax.axhline(value, color=\"red\", linestyle=\"--\", label=\"Baseline\")\n",
    "\n",
    "\n",
    "plot_baseline_losses(g, baseline_losses, dataset=\"CSC\")\n"
   ]
  }
 ],
 "metadata": {
  "kernelspec": {
   "display_name": "venv",
   "language": "python",
   "name": "python3"
  },
  "language_info": {
   "codemirror_mode": {
    "name": "ipython",
    "version": 3
   },
   "file_extension": ".py",
   "mimetype": "text/x-python",
   "name": "python",
   "nbconvert_exporter": "python",
   "pygments_lexer": "ipython3",
   "version": "3.11.9"
  }
 },
 "nbformat": 4,
 "nbformat_minor": 2
}
