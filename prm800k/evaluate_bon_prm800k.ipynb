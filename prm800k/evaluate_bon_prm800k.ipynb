{
 "cells": [
  {
   "cell_type": "code",
   "execution_count": null,
   "id": "de259b16",
   "metadata": {},
   "outputs": [],
   "source": [
    "%load_ext autoreload\n",
    "%autoreload 2"
   ]
  },
  {
   "cell_type": "code",
   "execution_count": null,
   "id": "d88b5533",
   "metadata": {},
   "outputs": [],
   "source": [
    "from logging import getLogger\n",
    "from lewidi_lib import (\n",
    "    discard_failed_rows,\n",
    "    discard_na_response_rows,\n",
    "    enable_logging,\n",
    "    join_dataset,\n",
    "    preds_file,\n",
    ")\n",
    "import pandas as pd\n",
    "import json_repair\n",
    "\n",
    "enable_logging()\n",
    "logger = getLogger(__name__)\n",
    "\n",
    "\n",
    "def is_response_valid(response: dict) -> bool:\n",
    "    return isinstance(response, dict) and \"final_response\" in response\n",
    "\n",
    "\n",
    "path = preds_file(\n",
    "    dataset=\"prm800k\",\n",
    "    split=\"train\",\n",
    "    template=\"31\",\n",
    "    model_id=\"Qwen/Qwen3-32B\",\n",
    "    run_name=\"allex_10loops\",\n",
    "    format=\"jsonl\",\n",
    ")\n",
    "rdf = pd.read_json(path, lines=True)\n",
    "rdf = pd.read_parquet(\n",
    "    \"/home/tomasruiz/code/lewidi2025/prm800k-poc/preds/responses.parquet\"\n",
    ")\n",
    "ratings = pd.read_parquet(\n",
    "    \"/home/tomasruiz/code/lewidi2025/prm800k-poc/judge/responses.parquet\"\n",
    ")\n",
    "is_correct = pd.read_parquet(\n",
    "    \"/home/tomasruiz/code/lewidi2025/prm800k-poc/judge/verify-solution/responses.parquet\"\n",
    ")\n",
    "ratings = discard_na_response_rows(ratings)\n",
    "rdf = discard_na_response_rows(rdf)\n",
    "is_correct = discard_na_response_rows(is_correct)\n",
    "rdf[\"response_parsed\"] = rdf[\"response\"].apply(json_repair.loads)\n",
    "rdf[\"pred\"] = rdf[\"response_parsed\"].apply(lambda x: x[\"final_response\"])\n",
    "# rdf[\"is_response_valid\"] = rdf[\"response_parsed\"].apply(is_response_valid)\n",
    "# rdf = discard_failed_rows(rdf, col=\"is_response_valid\")"
   ]
  },
  {
   "cell_type": "code",
   "execution_count": null,
   "id": "bc985f39",
   "metadata": {},
   "outputs": [],
   "source": [
    "# import sympy\n",
    "# import sympy.parsing\n",
    "# import sympy.parsing.latex\n",
    "# from sympy import Symbol, pi\n",
    "\n",
    "\n",
    "# def are_sympy_expr_equal(prediction: str, solution: str) -> bool:\n",
    "#     success1, pred = try_parse(prediction)\n",
    "#     success2, sol = try_parse(solution)\n",
    "#     if not success1 or not success2:\n",
    "#         return False\n",
    "#     if isinstance(sol, tuple):\n",
    "#         return sol == pred\n",
    "#     equal = pred.equals(sol)\n",
    "#     if equal is None:\n",
    "#         return False\n",
    "#     return equal\n",
    "\n",
    "\n",
    "# def try_parse(s: str) -> tuple[bool, sympy.Expr]:\n",
    "#     \"\"\"Return (success, sympy_expr)\"\"\"\n",
    "#     try:\n",
    "#         expr = sympy.parsing.parse_expr(s)\n",
    "#         return True, replace_pi(expr)\n",
    "#     except Exception:\n",
    "#         try:\n",
    "#             expr = sympy.parsing.latex.parse_latex(s)\n",
    "#             return True, replace_pi(expr)\n",
    "#         except Exception:\n",
    "#             print(f\"Could not parse expression: {s}\")\n",
    "#             return False, None\n",
    "\n",
    "\n",
    "# def replace_pi(expr: sympy.Expr) -> sympy.Expr:\n",
    "#     if isinstance(expr, tuple):\n",
    "#         return expr\n",
    "#     return expr.subs({Symbol(\"pi\"): pi})\n",
    "\n",
    "\n",
    "# joint_df[\"is_correct\"] = joint_df.apply(\n",
    "#     lambda row: are_sympy_expr_equal(row[\"pred\"], row[\"target\"]), axis=1\n",
    "# )"
   ]
  },
  {
   "cell_type": "code",
   "execution_count": null,
   "id": "90994ca7",
   "metadata": {},
   "outputs": [],
   "source": [
    "from lewidi_lib import assing_col_score_from_json\n",
    "\n",
    "ratings = assing_col_score_from_json(ratings)\n",
    "ratings = ratings[[\"dataset_idx\", \"run_idx\", \"score\"]]\n",
    "is_correct = is_correct[[\"dataset_idx\", \"run_idx\", \"response\"]].rename(\n",
    "    columns={\"response\": \"is_correct\"}\n",
    ")\n",
    "joint_df = join_dataset(rdf, parse_tgt=False)\n",
    "joint_df = joint_df.merge(ratings, on=[\"dataset_idx\", \"run_idx\"]).merge(\n",
    "    is_correct, on=[\"dataset_idx\", \"run_idx\"]\n",
    ")"
   ]
  },
  {
   "cell_type": "code",
   "execution_count": null,
   "id": "c4f86b14",
   "metadata": {},
   "outputs": [],
   "source": [
    "corr_df = joint_df.groupby(\"score\", as_index=False).agg(\n",
    "    is_correct=(\"is_correct\", \"mean\"), n_examples=(\"dataset_idx\", \"count\")\n",
    ")"
   ]
  },
  {
   "cell_type": "code",
   "execution_count": null,
   "id": "9bf78a24",
   "metadata": {},
   "outputs": [],
   "source": [
    "import seaborn as sns\n",
    "\n",
    "sns.scatterplot(corr_df, x=\"score\", y=\"is_correct\")"
   ]
  },
  {
   "cell_type": "code",
   "execution_count": null,
   "id": "2346098f",
   "metadata": {},
   "outputs": [],
   "source": [
    "joint_df[\"is_correct\"].mean(), joint_df[\"score\"].mean()"
   ]
  },
  {
   "cell_type": "code",
   "execution_count": null,
   "id": "4eaedb0a",
   "metadata": {},
   "outputs": [],
   "source": [
    "max_score_df = joint_df.loc[joint_df.groupby(\"dataset_idx\")[\"score\"].idxmax()]\n",
    "max_score_df[\"is_correct\"].mean(), max_score_df[\"score\"].mean()"
   ]
  },
  {
   "cell_type": "code",
   "execution_count": null,
   "id": "2e61b07d",
   "metadata": {},
   "outputs": [],
   "source": [
    "import duckdb\n",
    "\n",
    "improvable_df = duckdb.sql(\"PIVOT joint_df ON is_correct GROUP BY dataset_idx\").df()\n",
    "improvable_df = improvable_df.rename(columns={\"0\": \"incorrect\", \"1\": \"correct\"})\n",
    "improvable_df[\"all_incorrect\"] = (improvable_df[\"incorrect\"] > 0) & (\n",
    "    improvable_df[\"correct\"] == 0\n",
    ")\n",
    "improvable_df.query(\"incorrect > 0\")"
   ]
  },
  {
   "cell_type": "code",
   "execution_count": null,
   "id": "fba39bf0",
   "metadata": {},
   "outputs": [],
   "source": [
    "joint_df.query(\"dataset_idx == 10\")[[\"pred\", \"target\", \"is_correct\", \"score\"]]"
   ]
  }
 ],
 "metadata": {
  "kernelspec": {
   "display_name": "venv",
   "language": "python",
   "name": "python3"
  },
  "language_info": {
   "codemirror_mode": {
    "name": "ipython",
    "version": 3
   },
   "file_extension": ".py",
   "mimetype": "text/x-python",
   "name": "python",
   "nbconvert_exporter": "python",
   "pygments_lexer": "ipython3",
   "version": "3.11.9"
  }
 },
 "nbformat": 4,
 "nbformat_minor": 5
}
