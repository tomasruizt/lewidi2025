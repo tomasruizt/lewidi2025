{
 "cells": [
  {
   "cell_type": "code",
   "execution_count": null,
   "id": "de259b16",
   "metadata": {},
   "outputs": [],
   "source": [
    "%load_ext autoreload\n",
    "%autoreload \n",
    "import pandas as pd\n",
    "\n",
    "pd.set_option(\"display.max_colwidth\", 100)"
   ]
  },
  {
   "cell_type": "code",
   "execution_count": null,
   "id": "1f02ce44",
   "metadata": {},
   "outputs": [],
   "source": [
    "def is_response_valid(response: dict) -> bool:\n",
    "    return isinstance(response, dict) and \"final_response\" in response\n",
    "\n",
    "\n",
    "def extract_final_response(d: dict) -> str:\n",
    "    if \"final_response\" not in d:\n",
    "        return None\n",
    "    return d[\"final_response\"]"
   ]
  },
  {
   "cell_type": "code",
   "execution_count": null,
   "id": "d88b5533",
   "metadata": {},
   "outputs": [],
   "source": [
    "from logging import getLogger\n",
    "from lewidi_lib import (\n",
    "    discard_failed_rows,\n",
    "    discard_na_response_rows,\n",
    "    drop_duplicates_in_ds_idx_run_idx,\n",
    "    enable_logging,\n",
    "    join_dataset,\n",
    "    preds_file,\n",
    "    recompute_success,\n",
    ")\n",
    "import pandas as pd\n",
    "import json_repair\n",
    "\n",
    "enable_logging()\n",
    "logger = getLogger(__name__)\n",
    "\n",
    "\n",
    "file = preds_file(\n",
    "    dataset=\"prm800k\",\n",
    "    split=\"train\",\n",
    "    template=\"60\",\n",
    "    model_id=\"Qwen/Qwen3-32B\",\n",
    "    run_name=\"1000ex_10loops\",\n",
    ")\n",
    "rdf = pd.read_parquet(file)\n",
    "logger.info(\"rdf has %d rows\", len(rdf))\n",
    "rdf = recompute_success(rdf)\n",
    "rdf = discard_failed_rows(rdf)\n",
    "rdf = discard_na_response_rows(rdf)\n",
    "rdf[\"response_parsed\"] = rdf[\"response\"].apply(json_repair.loads)\n",
    "rdf[\"pred\"] = rdf[\"response_parsed\"].apply(extract_final_response)\n",
    "rdf = discard_na_response_rows(rdf, col=\"pred\")\n",
    "rdf = drop_duplicates_in_ds_idx_run_idx(rdf)"
   ]
  },
  {
   "cell_type": "code",
   "execution_count": null,
   "id": "25def94e",
   "metadata": {},
   "outputs": [],
   "source": [
    "is_correct_file = (\n",
    "    file.parent.parent\n",
    "    / \"judge\"\n",
    "    / \"Qwen/Qwen3-14B\"\n",
    "    / \"set2\"\n",
    "    / \"t60\"\n",
    "    / \"1000ex_10loops\"\n",
    "    / \"responses.parquet\"\n",
    ")\n",
    "is_correct = pd.read_parquet(is_correct_file)\n",
    "logger.info(\"Loaded %d is_correct rows\", len(is_correct))\n",
    "is_correct = discard_na_response_rows(is_correct)\n",
    "is_correct = is_correct[[\"dataset_idx\", \"run_idx\", \"response\", \"reasoning\"]].rename(\n",
    "    columns={\"response\": \"is_correct\", \"reasoning\": \"is_correct_reasoning\"}\n",
    ")\n",
    "is_correct = is_correct.astype({\"is_correct\": \"int\"})\n",
    "is_correct = drop_duplicates_in_ds_idx_run_idx(is_correct)"
   ]
  },
  {
   "cell_type": "code",
   "execution_count": null,
   "id": "f8c4a938",
   "metadata": {},
   "outputs": [],
   "source": [
    "from lewidi_lib import compute_is_correct_crosstab\n",
    "\n",
    "perf_ct = compute_is_correct_crosstab(is_correct, long=True)\n",
    "perf_ct[\"correct_level\"].value_counts()"
   ]
  },
  {
   "cell_type": "code",
   "execution_count": null,
   "id": "0dfccc00",
   "metadata": {},
   "outputs": [],
   "source": [
    "# mixed_perf = perf_ct.query(\"correct_level == 'mixed'\")\n",
    "# tgt_mp_file = file.parent.parent.parent / \"1000ex_10loops_mixed_perf_subset\" / \"preds\" / \"ids.parquet\"\n",
    "# tgt_mp_file.parent.mkdir(parents=True, exist_ok=True)\n",
    "# mixed_perf.to_parquet(tgt_mp_file, index=False)\n",
    "\n",
    "# \"\"\"\n",
    "# COPY (\n",
    "#     SELECT rdf.*\n",
    "#     FROM '../../1000ex_10loops/preds/responses.parquet' as rdf\n",
    "#     JOIN (\n",
    "#         SELECT *\n",
    "#         FROM 'ids.parquet'\n",
    "#     ) as ids ON rdf.dataset_idx = ids.dataset_idx\n",
    "# ) TO 'responses.parquet' (FORMAT 'parquet');\n",
    "# \"\"\""
   ]
  },
  {
   "cell_type": "code",
   "execution_count": null,
   "id": "dabf9305",
   "metadata": {},
   "outputs": [],
   "source": [
    "from lewidi_lib import bootstrap_avg\n",
    "\n",
    "joint_df = join_dataset(rdf, parse_tgt=False)\n",
    "joint_df = joint_df.merge(is_correct, on=[\"dataset_idx\", \"run_idx\"])\n",
    "bootstrap_avg(joint_df.groupby(\"dataset_idx\")[\"is_correct\"].mean())"
   ]
  },
  {
   "cell_type": "code",
   "execution_count": null,
   "id": "bff8f2ab",
   "metadata": {},
   "outputs": [],
   "source": [
    "from lewidi_lib import assign_col_response_parsed, process_ratings\n",
    "import numpy as np\n",
    "from prm800k import mapping\n",
    "import pandas as pd\n",
    "\n",
    "#ratings_file = \"/Users/tomasruiz/datasets/dss_home/lewidi-data/sbatch/di38bec/Qwen_Qwen3-32B/set2/t60/prm800k/train/1000ex_10loops_mixed_perf_subset/judge/gemini-2.5-flash/responses.parquet\"\n",
    "ratings_file = \"/Users/tomasruiz/datasets/dss_home/lewidi-data/sbatch/di38bec/Qwen_Qwen3-32B/set2/t60/prm800k/train/1000ex_10loops_mixed_perf_subset/judge/Qwen/Qwen3-32B/set2/t23/1000ex_10loops/responses.parquet\"\n",
    "ratings = pd.read_parquet(ratings_file)\n",
    "logger.info(\"Loaded %d ratings\", len(ratings))\n",
    "ratings = discard_na_response_rows(ratings)\n",
    "ratings = assign_col_response_parsed(ratings)\n",
    "ratings = process_ratings(\n",
    "    ratings, operation=np.mean, cat_mapping=mapping(ok=0.0, bad=0)\n",
    ")\n",
    "ratings = ratings[\n",
    "    [\"dataset_idx\", \"run_idx\", \"step_ratings\", \"score\", \"reasoning\", \"response_parsed\"]\n",
    "]\n",
    "ratings.rename(columns={\"reasoning\": \"judge_reasoning\"}, inplace=True)"
   ]
  },
  {
   "cell_type": "code",
   "execution_count": null,
   "id": "90994ca7",
   "metadata": {},
   "outputs": [],
   "source": [
    "joint_df = joint_df.merge(ratings, on=[\"dataset_idx\", \"run_idx\"], how=\"left\")\n",
    "joint_df = discard_na_response_rows(joint_df, col=\"score\")"
   ]
  },
  {
   "cell_type": "code",
   "execution_count": null,
   "id": "9bf78a24",
   "metadata": {},
   "outputs": [],
   "source": [
    "import seaborn as sns\n",
    "\n",
    "sns.lmplot(joint_df, x=\"score\", y=\"is_correct\", logistic=True)"
   ]
  },
  {
   "cell_type": "code",
   "execution_count": null,
   "id": "5ac27a93",
   "metadata": {},
   "outputs": [],
   "source": [
    "len(joint_df[[\"dataset_idx\", \"run_idx\"]].drop_duplicates())"
   ]
  },
  {
   "cell_type": "code",
   "execution_count": null,
   "id": "2346098f",
   "metadata": {},
   "outputs": [],
   "source": [
    "g_ = joint_df.groupby(\"dataset_idx\")\n",
    "g_[[\"score\", \"is_correct\"]].mean().apply(bootstrap_avg)"
   ]
  },
  {
   "cell_type": "code",
   "execution_count": null,
   "id": "4eaedb0a",
   "metadata": {},
   "outputs": [],
   "source": [
    "max_score_df = joint_df.loc[joint_df.groupby(\"dataset_idx\")[\"score\"].idxmax()]\n",
    "max_score_df[[\"score\", \"is_correct\"]].apply(bootstrap_avg)"
   ]
  },
  {
   "cell_type": "code",
   "execution_count": null,
   "id": "2dfaeaa7",
   "metadata": {},
   "outputs": [],
   "source": [
    "def corr(df):\n",
    "    coeff = np.corrcoef(df[\"score\"], df[\"is_correct\"])[0, 1]\n",
    "    return coeff\n",
    "\n",
    "\n",
    "bootstrap_avg(\n",
    "    joint_df.groupby(\"dataset_idx\")[[\"score\", \"is_correct\"]].apply(corr).fillna(0)\n",
    ")"
   ]
  },
  {
   "cell_type": "markdown",
   "id": "61c7d76b",
   "metadata": {},
   "source": [
    "# Does the Reduction Operation Matter?\n",
    "It does not seem so. However, product with bad=-1 could lead to misleading results with several -1 being multiplied."
   ]
  },
  {
   "cell_type": "code",
   "execution_count": null,
   "id": "79586c90",
   "metadata": {},
   "outputs": [],
   "source": [
    "from lewidi_lib import bootstrap_avg, create_rating_matrix\n",
    "\n",
    "create_rating_matrix(ratings).merge(\n",
    "    joint_df[[\"dataset_idx\", \"run_idx\", \"is_correct\"]], on=[\"dataset_idx\", \"run_idx\"]\n",
    ").groupby([\"rating_type\", \"reduction\"]).agg(is_correct=(\"is_correct\", bootstrap_avg))"
   ]
  }
 ],
 "metadata": {
  "kernelspec": {
   "display_name": "venv",
   "language": "python",
   "name": "python3"
  },
  "language_info": {
   "codemirror_mode": {
    "name": "ipython",
    "version": 3
   },
   "file_extension": ".py",
   "mimetype": "text/x-python",
   "name": "python",
   "nbconvert_exporter": "python",
   "pygments_lexer": "ipython3",
   "version": "3.12.4"
  }
 },
 "nbformat": 4,
 "nbformat_minor": 5
}
