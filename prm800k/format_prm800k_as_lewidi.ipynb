{
 "cells": [
  {
   "cell_type": "code",
   "execution_count": null,
   "id": "b5e9bb45",
   "metadata": {},
   "outputs": [],
   "source": [
    "from prm800k import load_prm800k_phase2_dataset\n",
    "\n",
    "\n",
    "prm800k = load_prm800k_phase2_dataset(split=\"train\")"
   ]
  },
  {
   "cell_type": "code",
   "execution_count": null,
   "id": "45d962b2",
   "metadata": {},
   "outputs": [],
   "source": [
    "problem_difficulty = prm800k.groupby(\"problem_id\", as_index=False).agg(\n",
    "    correct=(\"correct\", \"mean\"), n_solutions=(\"correct\", \"count\")\n",
    ")\n",
    "import seaborn as sns\n",
    "\n",
    "sns.histplot(problem_difficulty[\"correct\"])"
   ]
  },
  {
   "cell_type": "code",
   "execution_count": null,
   "id": "51751a18",
   "metadata": {},
   "outputs": [],
   "source": [
    "hard_problems_ids = problem_difficulty.query(\"correct == 0\")[\"problem_id\"].unique()\n",
    "hard_problems_df = prm800k.query(\"problem_id in @hard_problems_ids\")\n",
    "cols = [\"problem_id\", \"problem\", \"target\"]\n",
    "lewidi_df = hard_problems_df[cols].drop_duplicates().rename(columns={\"problem\": \"text\"})\n",
    "\n",
    "lewidi_dataset = {}\n",
    "for row in lewidi_df.itertuples():\n",
    "    lewidi_dataset[row.problem_id] = {\n",
    "        \"text\": row.text,\n",
    "        \"target\": row.target,\n",
    "    }\n",
    "lewidi_dataset"
   ]
  },
  {
   "cell_type": "code",
   "execution_count": null,
   "id": "58735a0f",
   "metadata": {},
   "outputs": [],
   "source": [
    "import json\n",
    "\n",
    "with open(\"prm800k_train.json\", \"w\") as f:\n",
    "    json.dump(lewidi_dataset, f, indent=2)"
   ]
  }
 ],
 "metadata": {
  "kernelspec": {
   "display_name": "venv",
   "language": "python",
   "name": "python3"
  },
  "language_info": {
   "codemirror_mode": {
    "name": "ipython",
    "version": 3
   },
   "file_extension": ".py",
   "mimetype": "text/x-python",
   "name": "python",
   "nbconvert_exporter": "python",
   "pygments_lexer": "ipython3",
   "version": "3.11.9"
  }
 },
 "nbformat": 4,
 "nbformat_minor": 5
}
