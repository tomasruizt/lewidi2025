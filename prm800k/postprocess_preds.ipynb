{
 "cells": [
  {
   "cell_type": "code",
   "execution_count": null,
   "id": "d2290957",
   "metadata": {},
   "outputs": [],
   "source": [
    "from pathlib import Path\n",
    "import pandas as pd\n",
    "\n",
    "\n",
    "preds = \"/home/tomasruiz/code/lewidi2025/responses.parquet\"\n",
    "preds = Path(preds)\n",
    "\n",
    "backup = Path(str(preds) + \".bak\")\n",
    "if backup.exists():\n",
    "    print(\"Backup file already exists\")\n",
    "else:\n",
    "    df = pd.read_parquet(preds).rename(columns={\"response\": \"response_full\"})\n",
    "    df[\"response\"] = df[\"response_full\"].str.extract(\n",
    "        r\"\\\\boxed\\{([^{}]*(?:\\{[^{}]*\\}[^{}]*)*)\\}\"\n",
    "    )[0]\n",
    "    preds.rename(backup)\n",
    "    print(\"Backup file created\")\n",
    "    df.to_parquet(preds)\n",
    "    print(\"Preds file updated\")"
   ]
  }
 ],
 "metadata": {
  "kernelspec": {
   "display_name": "venv",
   "language": "python",
   "name": "python3"
  },
  "language_info": {
   "codemirror_mode": {
    "name": "ipython",
    "version": 3
   },
   "file_extension": ".py",
   "mimetype": "text/x-python",
   "name": "python",
   "nbconvert_exporter": "python",
   "pygments_lexer": "ipython3",
   "version": "3.11.9"
  }
 },
 "nbformat": 4,
 "nbformat_minor": 5
}
