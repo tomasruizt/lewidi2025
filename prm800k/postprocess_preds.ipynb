{
 "cells": [
  {
   "cell_type": "code",
   "execution_count": 2,
   "id": "d2290957",
   "metadata": {},
   "outputs": [
    {
     "name": "stdout",
     "output_type": "stream",
     "text": [
      "Dumped new file to /home/tomasruiz/code/lewidi2025/poc-prm800k/responses.parquet\n"
     ]
    }
   ],
   "source": [
    "from pathlib import Path\n",
    "import pandas as pd\n",
    "\n",
    "\n",
    "jsonl = \"/home/tomasruiz/code/lewidi2025/poc-prm800k/responses.jsonl\"\n",
    "jsonl = Path(jsonl)\n",
    "parquet = jsonl.with_suffix(\".parquet\")\n",
    "df = pd.read_json(jsonl, lines=True).rename(\n",
    "    columns={\"response\": \"original_response\", \"reasoning\": \"original_reasoning\"}\n",
    ")\n",
    "df[\"response\"] = df[\"original_response\"].str.extract(\n",
    "    r\"\\\\boxed\\{([^{}]*(?:\\{[^{}]*\\}[^{}]*)*)\\}\"\n",
    ")[0]\n",
    "df[\"reasoning\"] = df[\"original_response\"]\n",
    "df.to_parquet(parquet)\n",
    "print(f\"Dumped new file to {parquet}\")"
   ]
  }
 ],
 "metadata": {
  "kernelspec": {
   "display_name": "venv",
   "language": "python",
   "name": "python3"
  },
  "language_info": {
   "codemirror_mode": {
    "name": "ipython",
    "version": 3
   },
   "file_extension": ".py",
   "mimetype": "text/x-python",
   "name": "python",
   "nbconvert_exporter": "python",
   "pygments_lexer": "ipython3",
   "version": "3.11.9"
  }
 },
 "nbformat": 4,
 "nbformat_minor": 5
}
